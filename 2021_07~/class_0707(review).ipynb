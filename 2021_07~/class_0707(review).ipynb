{
 "cells": [
  {
   "cell_type": "markdown",
   "metadata": {},
   "source": [
    "### 데이터 연결\n",
    " * concat \n",
    "   * concat - 행으로 연결할 때, axis=0\n",
    "   * concat - 열로 연결할 때, axis=1\n",
    "   * 두 개의 데이터 셋을 연결할 때, 공통된 열만 가져오겠다.\n",
    "     * join=\"inner\"\n",
    "\n",
    "### 데이터 기타 확인\n",
    "   * [].value_counts()\n",
    "   * 유일한 값들만 확인하기 : unique()\n",
    "   * 값을 정렬하기\n",
    "      * [].sort_values(by='열이름', ascending=False)\n",
    "   * 값을 변경하기\n",
    "      * [].replace([__,__], \"rare\")\n",
    "    \n",
    "   * 라벨 인코딩 - map({})\n",
    "      * 문자를 숫자로 변환 \n",
    "         * 왜 변환할까요? 컴퓨터, 모델이 이해할 수 있도록 변환\n",
    "   * [].fillna()\n",
    "      * 수치형 결측치 처리 - 평균, 중앙값\n",
    "         * 평균의 단점 - 특이값(이상치)가 왜곡을 일으킬 수 있다.\n",
    "           * 이상치 처리 - 없애거나. 설명가능한 값으로 변경.\n",
    "      * 범주형 결측치 처리 - 최빈값으로 처리\n",
    "    \n",
    "   * 데이터 형변환 함수\n",
    "      * [].astype()\n",
    "        * astype(str)\n",
    "        * astype(int)\n",
    "  \n",
    "    \n",
    "### 어떤 데이터를 그룹으로 묶어서 통계(std(), var()...)\n",
    "   * [].groupby()\n",
    "   * a = [].groupby([])\n",
    "\n",
    "### 내가 원하는 컬럼을 삭제\n",
    "   * [].drop([ __,__ ], axis=1)  # axis=0 행을 삭제\n",
    "\n",
    "### 통계 기본\n",
    "   * 상관관계 \n",
    "     * 사용되는 그래프 - 산점도(scatter, plot)\n",
    "       * seaborn - sns.lmplot(), sns.pairplot\n",
    "    \n",
    "   * 상관계수 값의 범위\n",
    "     * -1 ~ 1\n",
    "       * 절대값이 1에 가까울 수도 어떠하다?\n",
    "        * 강한 상관관계를 갖는다.\n",
    "       * 절대값이 0에 가까우면 가까울수록 어떠하다.\n",
    "        * 상관관계가 없다. 독립적이다.\n",
    "\n",
    "### matplotlib\n",
    "   * 제목을 달아줄 때, \n",
    "      * sns.boxplot()\n",
    "      * plt.title()\n",
    "      * x축 레이블 : plt.xlabel, plt.ylabel\n",
    "   * 멀티 그래프 \n",
    "      * plt.subplot(행, 열, 1)\n",
    "   * 범례를 달아주기 \n",
    "      * plt.plot(----, label=\"\")\n",
    "      * plt.legend()\n",
    "\n",
    "### pandas : 데이터 처리\n",
    "\n",
    "### matplotlib, seaborn, plotly, folium : 시각화\n",
    "\n",
    "### 수학함수, 통계, 임의의 난수 발생 : numpy\n",
    "\n",
    "### numpy  as np\n",
    " * np.array[] : numpy 배열\n",
    " * np.random.normal() : 임의의 난수 발생. 정규분포를 따르도록 \n"
   ]
  },
  {
   "cell_type": "code",
   "execution_count": 2,
   "metadata": {},
   "outputs": [
    {
     "name": "stdout",
     "output_type": "stream",
     "text": [
      "[177.51487448 156.21459591 176.58582574 186.48592681 156.55754764\n",
      " 174.17644111 182.53452401 164.99307554 162.3887583  159.46098392\n",
      " 174.36851002 171.06391209 161.20789315 162.36555402 161.3261934\n",
      " 182.55284192 157.51106204 166.67374386 153.12385876 159.75269948\n",
      " 173.3438155  169.63569702 176.24613888 161.85484373 182.65659663\n",
      " 165.81393439 184.32065798 156.11176468 160.37640951 176.14644817\n",
      " 180.06871723 180.0033571  176.70534253 181.53556848 155.33433466\n",
      " 169.95356118 164.66907869 189.65188973 183.13165338 163.20361336\n",
      " 151.81474851 186.08339308 152.89659161 163.37304512 152.66571257\n",
      " 174.86620819 182.42220532 153.20988204 182.00724765 169.29987834\n",
      " 168.78724438 174.59866588 167.81905587 174.84606875 177.70284647\n",
      " 171.73053579 159.16418255 164.37777807 178.85276049 166.68511547\n",
      " 173.10275398 175.97905675 172.58707968 179.9979041  178.35869405\n",
      " 164.06269024 145.56951674 163.92732957 168.38171077 188.2451704\n",
      " 172.10953352 165.69081979 183.34807753 181.59675361 178.2000495\n",
      " 191.89339994 185.02859888 163.05494442 176.32849816 151.45011372\n",
      " 175.15346808 177.2694892  182.1002419  169.17054993 175.78008254\n",
      " 164.02550877 156.00243218 158.32885589 187.76675475 165.45112937\n",
      " 178.65435789 185.78451796 158.69634233 166.74025362 162.29128054\n",
      " 160.39447834 159.88115827 181.37744063 169.8045878  150.68670112]\n"
     ]
    },
    {
     "data": {
      "text/plain": [
       "(array([ 1.,  7., 10., 16., 11., 12., 16., 15.,  8.,  4.]),\n",
       " array([145.56951674, 150.20190506, 154.83429338, 159.4666817 ,\n",
       "        164.09907002, 168.73145834, 173.36384666, 177.99623498,\n",
       "        182.6286233 , 187.26101162, 191.89339994]),\n",
       " <BarContainer object of 10 artists>)"
      ]
     },
     "execution_count": 2,
     "metadata": {},
     "output_type": "execute_result"
    },
    {
     "data": {
      "image/png": "[encoded data removed]",
      "text/plain": [
       "<Figure size 432x288 with 1 Axes>"
      ]
     },
     "metadata": {
      "needs_background": "light"
     },
     "output_type": "display_data"
    }
   ],
   "source": [
    "import matplotlib.pyplot as plt\n",
    "import numpy as np\n",
    "x = np.random.normal(loc=170, scale=10, size=100)  # 평균, 표준편차, 개수\n",
    "\n",
    "print(x)\n",
    "plt.hist(x)"
   ]
  },
  {
   "cell_type": "markdown",
   "metadata": {},
   "source": [
    "### plotly 그래프를 사용하는 방법 \n",
    " *  cuffilinks -  [].iplot()\n",
    " *  plotly.express\n",
    "\n"
   ]
  }
 ],
 "metadata": {
  "kernelspec": {
   "display_name": "Python 3",
   "language": "python",
   "name": "python3"
  },
  "language_info": {
   "codemirror_mode": {
    "name": "ipython",
    "version": 3
   },
   "file_extension": ".py",
   "mimetype": "text/x-python",
   "name": "python",
   "nbconvert_exporter": "python",
   "pygments_lexer": "ipython3",
   "version": "3.8.5"
  }
 },
 "nbformat": 4,
 "nbformat_minor": 4
}
