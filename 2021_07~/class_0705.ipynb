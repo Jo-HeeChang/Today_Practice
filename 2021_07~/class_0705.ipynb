{
 "cells": [
  {
   "cell_type": "markdown",
   "metadata": {},
   "source": [
    "### Pandas\n",
    " * 자료형 : Series, DataFrame\n",
    " * Series와 DataFrame의 차이 : 1차원, 2차원\n",
    " * Series \n",
    "  - score = Series ( { 1000, 1400, 3000, 3000, 1000) }\n",
    "  - 행의 인덱스 정보를 갖게 된다.\n",
    "  - [].index , [].values\n",
    "  - df = DataFrame( {}, index = [], columns = [])\n",
    " * zip(), groupby()\n",
    " * iloc, loc 차이 : iloc(숫자 접근), loc(인덱스로 접근)\n",
    " * seaborn : 0.11 48개 그래프\n",
    " * [].infol()\n",
    " * [].dtypes()\n",
    " * sns.pairplot(temp_train) : 그래프 시각화()\n",
    "  - 산점도 행렬들 그려주기\n",
    " * 멀티 그래프 그리기\n",
    "```\n",
    "  plt.subplot(2,2,1)\n",
    "  plt.hist()\n",
    "  \n",
    "  plt.subplot(2,2,3)\n",
    "  plt.hist()\n",
    "  \n",
    "```"
   ]
  },
  {
   "cell_type": "markdown",
   "metadata": {},
   "source": [
    "### 데이터 탐색\n",
    " * [].shape : 행과 열 보기\n",
    " * [].info()\n",
    " * [].describe()\n",
    " * [].isnull.sum()\n",
    " * [].describe()\n",
    " * [].columns"
   ]
  }
 ],
 "metadata": {
  "kernelspec": {
   "display_name": "Python 3",
   "language": "python",
   "name": "python3"
  },
  "language_info": {
   "codemirror_mode": {
    "name": "ipython",
    "version": 3
   },
   "file_extension": ".py",
   "mimetype": "text/x-python",
   "name": "python",
   "nbconvert_exporter": "python",
   "pygments_lexer": "ipython3",
   "version": "3.8.5"
  }
 },
 "nbformat": 4,
 "nbformat_minor": 4
}
