{
 "cells": [
  {
   "cell_type": "code",
   "execution_count": 4,
   "metadata": {
    "scrolled": false
   },
   "outputs": [],
   "source": [
    "from bs4 import BeautifulSoup\n",
    "from urllib.request import urlopen"
   ]
  },
  {
   "cell_type": "code",
   "execution_count": 5,
   "metadata": {},
   "outputs": [
    {
     "data": {
      "text/plain": [
       "<html><body><p>test</p></body></html>"
      ]
     },
     "execution_count": 5,
     "metadata": {},
     "output_type": "execute_result"
    }
   ],
   "source": [
    "html = \"<p>test</p>\"\n",
    "soup = BeautifulSoup(html,\"lxml\")\n",
    "soup"
   ]
  },
  {
   "cell_type": "code",
   "execution_count": 6,
   "metadata": {},
   "outputs": [
    {
     "data": {
      "text/plain": [
       "<html><head></head><body><p>test</p></body></html>"
      ]
     },
     "execution_count": 6,
     "metadata": {},
     "output_type": "execute_result"
    }
   ],
   "source": [
    "html = \"<p>test</p>\"\n",
    "soup = BeautifulSoup(html,\"html5lib\")\n",
    "soup"
   ]
  },
  {
   "cell_type": "code",
   "execution_count": 7,
   "metadata": {},
   "outputs": [
    {
     "data": {
      "text/plain": [
       "<p>test</p>"
      ]
     },
     "execution_count": 7,
     "metadata": {},
     "output_type": "execute_result"
    }
   ],
   "source": [
    "html = \"<p>test</p>\"\n",
    "soup = BeautifulSoup(html,\"html.parser\")\n",
    "soup"
   ]
  },
  {
   "cell_type": "code",
   "execution_count": 8,
   "metadata": {},
   "outputs": [],
   "source": [
    "from bs4 import BeautifulSoup\n",
    "\n",
    "html = \"\"\"\n",
    "<html>\n",
    "<head><title>나의 웹페이지</title></head>\n",
    "<p>test1</p>\n",
    "<p>test2</p>\n",
    "<p>test3</p>\n",
    "</html>\n",
    "\"\"\""
   ]
  },
  {
   "cell_type": "code",
   "execution_count": 9,
   "metadata": {},
   "outputs": [
    {
     "data": {
      "text/plain": [
       "<html>\n",
       "<head><title>나의 웹페이지</title></head>\n",
       "<body><p>test1</p>\n",
       "<p>test2</p>\n",
       "<p>test3</p>\n",
       "</body></html>"
      ]
     },
     "execution_count": 9,
     "metadata": {},
     "output_type": "execute_result"
    }
   ],
   "source": [
    "soup = BeautifulSoup(html, 'lxml')\n",
    "soup"
   ]
  },
  {
   "cell_type": "code",
   "execution_count": 10,
   "metadata": {},
   "outputs": [
    {
     "data": {
      "text/plain": [
       "<body><p>test1</p>\n",
       "<p>test2</p>\n",
       "<p>test3</p>\n",
       "</body>"
      ]
     },
     "execution_count": 10,
     "metadata": {},
     "output_type": "execute_result"
    }
   ],
   "source": [
    "soup.body"
   ]
  },
  {
   "cell_type": "code",
   "execution_count": 11,
   "metadata": {},
   "outputs": [
    {
     "data": {
      "text/plain": [
       "<p>test1</p>"
      ]
     },
     "execution_count": 11,
     "metadata": {},
     "output_type": "execute_result"
    }
   ],
   "source": [
    "soup.p"
   ]
  },
  {
   "cell_type": "code",
   "execution_count": 12,
   "metadata": {},
   "outputs": [
    {
     "data": {
      "text/plain": [
       "<head><title>나의 웹페이지</title></head>"
      ]
     },
     "execution_count": 12,
     "metadata": {},
     "output_type": "execute_result"
    }
   ],
   "source": [
    "soup.head"
   ]
  },
  {
   "cell_type": "markdown",
   "metadata": {},
   "source": [
    "### find_all()"
   ]
  },
  {
   "cell_type": "code",
   "execution_count": 13,
   "metadata": {},
   "outputs": [
    {
     "data": {
      "text/plain": [
       "[<p>test1</p>, <p>test2</p>, <p>test3</p>]"
      ]
     },
     "execution_count": 13,
     "metadata": {},
     "output_type": "execute_result"
    }
   ],
   "source": [
    "soup.find_all(\"p\")"
   ]
  },
  {
   "cell_type": "code",
   "execution_count": 15,
   "metadata": {},
   "outputs": [],
   "source": [
    "from bs4 import BeautifulSoup\n",
    "\n",
    "html = \"\"\"\n",
    "<html>\n",
    "<head><title> test site </title></head>\n",
    "<p class='class1' align=\"left\">test3</p>\n",
    "<p class='class1'>test2</p>\n",
    "<p id='p1'>오늘의 주가지수 1500</p>\n",
    "<span class='class3'>span tag text</span>\n",
    "<p class='class4'>test3</p>\n",
    "</html>\n",
    "\"\"\""
   ]
  },
  {
   "cell_type": "code",
   "execution_count": 16,
   "metadata": {},
   "outputs": [],
   "source": [
    "soup = BeautifulSoup(html, 'lxml')"
   ]
  },
  {
   "cell_type": "markdown",
   "metadata": {},
   "source": [
    "### 실습\n",
    " * 01. p 태그 전부 가져오기\n",
    " * 02. span 요소 전부 가져오기\n",
    " * 03. head 요소 전부 가져오기"
   ]
  },
  {
   "cell_type": "code",
   "execution_count": 17,
   "metadata": {},
   "outputs": [
    {
     "data": {
      "text/plain": [
       "[<p align=\"left\" class=\"class1\">test3</p>,\n",
       " <p class=\"class1\">test2</p>,\n",
       " <p id=\"p1\">오늘의 주가지수 1500</p>,\n",
       " <p class=\"class4\">test3</p>]"
      ]
     },
     "execution_count": 17,
     "metadata": {},
     "output_type": "execute_result"
    }
   ],
   "source": [
    "soup.html(\"p\")"
   ]
  },
  {
   "cell_type": "code",
   "execution_count": 22,
   "metadata": {},
   "outputs": [
    {
     "data": {
      "text/plain": [
       "[<p align=\"left\" class=\"class1\">test3</p>,\n",
       " <p class=\"class1\">test2</p>,\n",
       " <p id=\"p1\">오늘의 주가지수 1500</p>,\n",
       " <p class=\"class4\">test3</p>]"
      ]
     },
     "execution_count": 22,
     "metadata": {},
     "output_type": "execute_result"
    }
   ],
   "source": [
    "soup.find_all(\"p\")"
   ]
  },
  {
   "cell_type": "code",
   "execution_count": 23,
   "metadata": {},
   "outputs": [
    {
     "data": {
      "text/plain": [
       "[<span class=\"class3\">span tag text</span>]"
      ]
     },
     "execution_count": 23,
     "metadata": {},
     "output_type": "execute_result"
    }
   ],
   "source": [
    "soup.html(\"span\")"
   ]
  },
  {
   "cell_type": "code",
   "execution_count": 24,
   "metadata": {},
   "outputs": [
    {
     "data": {
      "text/plain": [
       "[<span class=\"class3\">span tag text</span>]"
      ]
     },
     "execution_count": 24,
     "metadata": {},
     "output_type": "execute_result"
    }
   ],
   "source": [
    "soup.find_all(\"span\")"
   ]
  },
  {
   "cell_type": "code",
   "execution_count": 26,
   "metadata": {},
   "outputs": [
    {
     "data": {
      "text/plain": [
       "[<head><title> test site </title></head>]"
      ]
     },
     "execution_count": 26,
     "metadata": {},
     "output_type": "execute_result"
    }
   ],
   "source": [
    "soup.find_all(\"head\")"
   ]
  },
  {
   "cell_type": "code",
   "execution_count": 28,
   "metadata": {},
   "outputs": [
    {
     "data": {
      "text/plain": [
       "bs4.element.Tag"
      ]
     },
     "execution_count": 28,
     "metadata": {},
     "output_type": "execute_result"
    }
   ],
   "source": [
    "type(soup.find(\"head\"))"
   ]
  },
  {
   "cell_type": "code",
   "execution_count": 29,
   "metadata": {},
   "outputs": [
    {
     "data": {
      "text/plain": [
       "bs4.element.ResultSet"
      ]
     },
     "execution_count": 29,
     "metadata": {},
     "output_type": "execute_result"
    }
   ],
   "source": [
    "type(soup.find_all(\"head\"))"
   ]
  },
  {
   "cell_type": "code",
   "execution_count": 30,
   "metadata": {},
   "outputs": [],
   "source": [
    "html = \"\"\"\n",
    "<html>\n",
    "<head><title> test site </title></head>\n",
    "<p class='class1' align=\"left\">test3</p>\n",
    "<p class='class1'>test2</p>\n",
    "<p id='p1'>오늘의 주가지수 1500</p>\n",
    "<span class='class3'>span tag text</span>\n",
    "<p class='class4'>test3</p>\n",
    "</html>\n",
    "\"\"\""
   ]
  },
  {
   "cell_type": "code",
   "execution_count": 32,
   "metadata": {},
   "outputs": [
    {
     "data": {
      "text/plain": [
       "<title> test site </title>"
      ]
     },
     "execution_count": 32,
     "metadata": {},
     "output_type": "execute_result"
    }
   ],
   "source": [
    "soup = BeautifulSoup(html,\"lxml\")\n",
    "soup.title"
   ]
  },
  {
   "cell_type": "markdown",
   "metadata": {},
   "source": [
    "### class 이름으로 요소 가져오기"
   ]
  },
  {
   "cell_type": "code",
   "execution_count": 33,
   "metadata": {},
   "outputs": [
    {
     "data": {
      "text/plain": [
       "<p align=\"left\" class=\"class1\">test3</p>"
      ]
     },
     "execution_count": 33,
     "metadata": {},
     "output_type": "execute_result"
    }
   ],
   "source": [
    "soup.find(\"p\",class_=\"class1\")"
   ]
  },
  {
   "cell_type": "markdown",
   "metadata": {},
   "source": [
    "### id 이름으로 요소 가져오기"
   ]
  },
  {
   "cell_type": "code",
   "execution_count": 34,
   "metadata": {},
   "outputs": [
    {
     "data": {
      "text/plain": [
       "<p id=\"p1\">오늘의 주가지수 1500</p>"
      ]
     },
     "execution_count": 34,
     "metadata": {},
     "output_type": "execute_result"
    }
   ],
   "source": [
    "soup.find(\"p\", id = \"p1\")"
   ]
  },
  {
   "cell_type": "code",
   "execution_count": 35,
   "metadata": {},
   "outputs": [
    {
     "data": {
      "text/plain": [
       "<head><title> test site </title></head>"
      ]
     },
     "execution_count": 35,
     "metadata": {},
     "output_type": "execute_result"
    }
   ],
   "source": [
    "data1 = soup.find(\"head\")\n",
    "data1"
   ]
  },
  {
   "cell_type": "code",
   "execution_count": 36,
   "metadata": {},
   "outputs": [
    {
     "data": {
      "text/plain": [
       "<title> test site </title>"
      ]
     },
     "execution_count": 36,
     "metadata": {},
     "output_type": "execute_result"
    }
   ],
   "source": [
    "data2 = soup.find(\"title\")\n",
    "data2"
   ]
  },
  {
   "cell_type": "code",
   "execution_count": 37,
   "metadata": {},
   "outputs": [
    {
     "data": {
      "text/plain": [
       "' test site '"
      ]
     },
     "execution_count": 37,
     "metadata": {},
     "output_type": "execute_result"
    }
   ],
   "source": [
    "data2.text"
   ]
  },
  {
   "cell_type": "code",
   "execution_count": 39,
   "metadata": {},
   "outputs": [],
   "source": [
    "html = '''\n",
    "<html>\n",
    "<head>\n",
    "    <title> test site </title>\n",
    "</head>\n",
    "<body>\n",
    "    <div>\n",
    "        <p class='class1' align=\"left\">test3</p>\n",
    "        <p class='class1'>test2</p>\n",
    "    </div>\n",
    "    <div>\n",
    "        <p id='p1'>오늘의 주가지수 1500</p>\n",
    "        <span class='class3'>span tag text</span>\n",
    "        <p class='class4'>test3</p>\n",
    "    </div>\n",
    "</body>\n",
    "</html>\n",
    "'''\n",
    "soup = BeautifulSoup(html, 'lxml')"
   ]
  },
  {
   "cell_type": "code",
   "execution_count": 42,
   "metadata": {},
   "outputs": [
    {
     "data": {
      "text/plain": [
       "[<p align=\"left\" class=\"class1\">test3</p>,\n",
       " <p class=\"class1\">test2</p>,\n",
       " <p id=\"p1\">오늘의 주가지수 1500</p>,\n",
       " <p class=\"class4\">test3</p>]"
      ]
     },
     "execution_count": 42,
     "metadata": {},
     "output_type": "execute_result"
    }
   ],
   "source": [
    "soup.find_all(\"p\")"
   ]
  },
  {
   "cell_type": "code",
   "execution_count": 64,
   "metadata": {},
   "outputs": [
    {
     "data": {
      "text/plain": [
       "<div>\n",
       "<p id=\"p1\">오늘의 주가지수 1500</p>\n",
       "<span class=\"class3\">span tag text</span>\n",
       "<p class=\"class4\">test3</p>\n",
       "</div>"
      ]
     },
     "execution_count": 64,
     "metadata": {},
     "output_type": "execute_result"
    }
   ],
   "source": [
    "div2 = soup.find_all('div')[1]\n",
    "div2"
   ]
  },
  {
   "cell_type": "code",
   "execution_count": 65,
   "metadata": {},
   "outputs": [],
   "source": [
    "p_all = div2.find_all('p')"
   ]
  },
  {
   "cell_type": "code",
   "execution_count": 66,
   "metadata": {},
   "outputs": [
    {
     "data": {
      "text/plain": [
       "[<p id=\"p1\">오늘의 주가지수 1500</p>, <p class=\"class4\">test3</p>]"
      ]
     },
     "execution_count": 66,
     "metadata": {},
     "output_type": "execute_result"
    }
   ],
   "source": [
    "p_all"
   ]
  },
  {
   "cell_type": "code",
   "execution_count": 68,
   "metadata": {},
   "outputs": [
    {
     "data": {
      "text/plain": [
       "<div>\n",
       "<p align=\"left\" class=\"class1\">test3</p>\n",
       "<p class=\"class1\">test2</p>\n",
       "</div>"
      ]
     },
     "execution_count": 68,
     "metadata": {},
     "output_type": "execute_result"
    }
   ],
   "source": [
    "div3 = soup.find_all('div')[0]\n",
    "div3"
   ]
  },
  {
   "cell_type": "code",
   "execution_count": 73,
   "metadata": {},
   "outputs": [
    {
     "data": {
      "text/plain": [
       "<p align=\"left\" class=\"class1\">test3</p>"
      ]
     },
     "execution_count": 73,
     "metadata": {},
     "output_type": "execute_result"
    }
   ],
   "source": [
    "soup.find(\"div\").find('p')"
   ]
  },
  {
   "cell_type": "code",
   "execution_count": 74,
   "metadata": {},
   "outputs": [
    {
     "data": {
      "text/plain": [
       "<p align=\"left\" class=\"class1\">test3</p>"
      ]
     },
     "execution_count": 74,
     "metadata": {},
     "output_type": "execute_result"
    }
   ],
   "source": [
    "soup.div.p"
   ]
  },
  {
   "cell_type": "code",
   "execution_count": 75,
   "metadata": {},
   "outputs": [],
   "source": [
    "html = '''\n",
    "<html>\n",
    "<head>\n",
    "    <title> test site </title>\n",
    "</head>\n",
    "<body>\n",
    "    <a href=\"https://www.google.com\">구글</a>\n",
    "    <div>\n",
    "        <p class='class1' align=\"left\">test3</p>\n",
    "        <p class='class1'>test2</p>\n",
    "    </div>\n",
    "    <div>\n",
    "        <p id='p1'>오늘의 주가지수 1500</p>\n",
    "        <p class='class4'>test3</p>\n",
    "        <span class='class3'>span tag text</span>\n",
    "        <a href=\"https://www.naver.com/\">네이버</a>\n",
    "        <a href=\"https://www.daum.com/\">다음</a>\n",
    "    </div>\n",
    "</body>\n",
    "</html>\n",
    "'''\n",
    "soup = BeautifulSoup(html, 'lxml')"
   ]
  },
  {
   "cell_type": "code",
   "execution_count": 76,
   "metadata": {},
   "outputs": [
    {
     "data": {
      "text/plain": [
       "[<a href=\"https://www.google.com\">구글</a>,\n",
       " <a href=\"https://www.naver.com/\">네이버</a>,\n",
       " <a href=\"https://www.daum.com/\">다음</a>]"
      ]
     },
     "execution_count": 76,
     "metadata": {},
     "output_type": "execute_result"
    }
   ],
   "source": [
    "soup.find_all('a')"
   ]
  },
  {
   "cell_type": "code",
   "execution_count": 77,
   "metadata": {},
   "outputs": [
    {
     "name": "stdout",
     "output_type": "stream",
     "text": [
      "['https://www.google.com', 'https://www.naver.com/', 'https://www.daum.com/']\n"
     ]
    }
   ],
   "source": [
    "a_tag = soup.find_all(\"a\")\n",
    "urls = []\n",
    "for i in range(len(a_tag)):\n",
    "    url = a_tag[i].attrs\n",
    "    urls.append(url['href'])\n",
    "print(urls)"
   ]
  },
  {
   "cell_type": "code",
   "execution_count": 80,
   "metadata": {},
   "outputs": [
    {
     "name": "stdout",
     "output_type": "stream",
     "text": [
      "https://www.google.com\n",
      "https://www.naver.com/\n",
      "https://www.daum.com/\n"
     ]
    }
   ],
   "source": [
    "urls = soup.find_all(\"a\")\n",
    "\n",
    "for url in urls :\n",
    "    #print(url)\n",
    "    print(url.get(\"href\"))"
   ]
  },
  {
   "cell_type": "code",
   "execution_count": 82,
   "metadata": {},
   "outputs": [
    {
     "name": "stdout",
     "output_type": "stream",
     "text": [
      "<html>\n",
      " <head>\n",
      "  <title>\n",
      "   test site\n",
      "  </title>\n",
      " </head>\n",
      " <body>\n",
      "  <p align=\"left\" class=\"class1\">\n",
      "   test3\n",
      "  </p>\n",
      "  <p class=\"class1\">\n",
      "   test2\n",
      "  </p>\n",
      "  <p id=\"p1\">\n",
      "   오늘의 주가지수 1500\n",
      "  </p>\n",
      "  <span class=\"class3\">\n",
      "   span tag text\n",
      "  </span>\n",
      "  <p class=\"class4\">\n",
      "   test3\n",
      "  </p>\n",
      " </body>\n",
      "</html>\n",
      "\n"
     ]
    }
   ],
   "source": [
    "html = '''\n",
    "<html>\n",
    "<head><title> test site </title></head>\n",
    "<p class='class1' align=\"left\">test3</p>\n",
    "<p class='class1'>test2</p>\n",
    "<p id='p1'>오늘의 주가지수 1500</p>\n",
    "<span class='class3'>span tag text</span>\n",
    "<p class='class4'>test3</p>\n",
    "</html>\n",
    "'''\n",
    "soup = BeautifulSoup(html, 'lxml')\n",
    "print( soup.prettify() )"
   ]
  },
  {
   "cell_type": "code",
   "execution_count": 83,
   "metadata": {},
   "outputs": [],
   "source": [
    "html = '''\n",
    "<html>\n",
    "<head>\n",
    "    <title> test site </title>\n",
    "</head>\n",
    "<body>\n",
    "    <div>\n",
    "        <a href=\"https://www.google.com\">구글</a>\n",
    "        <p class='class1' align=\"left\">test3</p>\n",
    "        <p class='class1'>test2</p>\n",
    "    </div>\n",
    "    <div>\n",
    "        <p id='p1'>오늘의 주가지수 1500</p>\n",
    "        <p class='class4'>test3</p>\n",
    "        <span class='class3'>span tag text</span>\n",
    "        <a href=\"https://www.naver.com/\">네이버</a>\n",
    "        <a href=\"https://www.daum.com/\">다음</a>\n",
    "    </div>\n",
    "</body>\n",
    "</html>\n",
    "'''\n",
    "soup = BeautifulSoup(html, 'lxml')"
   ]
  },
  {
   "cell_type": "code",
   "execution_count": 84,
   "metadata": {},
   "outputs": [
    {
     "data": {
      "text/plain": [
       "<div>\n",
       "<a href=\"https://www.google.com\">구글</a>\n",
       "<p align=\"left\" class=\"class1\">test3</p>\n",
       "<p class=\"class1\">test2</p>\n",
       "</div>"
      ]
     },
     "execution_count": 84,
     "metadata": {},
     "output_type": "execute_result"
    }
   ],
   "source": [
    "div1 = soup.find(\"div\")\n",
    "div1"
   ]
  },
  {
   "cell_type": "code",
   "execution_count": 85,
   "metadata": {},
   "outputs": [
    {
     "data": {
      "text/plain": [
       "<list_iterator at 0x1b6d088dee0>"
      ]
     },
     "execution_count": 85,
     "metadata": {},
     "output_type": "execute_result"
    }
   ],
   "source": [
    "div1.children"
   ]
  },
  {
   "cell_type": "code",
   "execution_count": 86,
   "metadata": {},
   "outputs": [
    {
     "data": {
      "text/plain": [
       "['\\n',\n",
       " <a href=\"https://www.google.com\">구글</a>,\n",
       " '\\n',\n",
       " <p align=\"left\" class=\"class1\">test3</p>,\n",
       " '\\n',\n",
       " <p class=\"class1\">test2</p>,\n",
       " '\\n']"
      ]
     },
     "execution_count": 86,
     "metadata": {},
     "output_type": "execute_result"
    }
   ],
   "source": [
    "list(div1.children)"
   ]
  },
  {
   "cell_type": "code",
   "execution_count": 89,
   "metadata": {},
   "outputs": [
    {
     "data": {
      "text/plain": [
       "<p class=\"class1\">test2</p>"
      ]
     },
     "execution_count": 89,
     "metadata": {},
     "output_type": "execute_result"
    }
   ],
   "source": [
    "list(div1.children)[5]"
   ]
  },
  {
   "cell_type": "code",
   "execution_count": 91,
   "metadata": {},
   "outputs": [
    {
     "data": {
      "text/plain": [
       "<p class=\"class1\">test2</p>"
      ]
     },
     "execution_count": 91,
     "metadata": {},
     "output_type": "execute_result"
    }
   ],
   "source": [
    "div1_lastp = list(div1.children)[5]\n",
    "div1_lastp"
   ]
  },
  {
   "cell_type": "code",
   "execution_count": 92,
   "metadata": {},
   "outputs": [],
   "source": [
    "html = '''\n",
    "<html>\n",
    "<head>\n",
    "    <title> test site </title>\n",
    "</head>\n",
    "<body>\n",
    "    <div>\n",
    "        <a href=\"https://www.google.com\">구글</a>\n",
    "        <p class='class1' align=\"left\">test3</p>\n",
    "        <p class='class1'>test2</p>\n",
    "    </div>\n",
    "    <div>\n",
    "        <p id='p1'>오늘의 주가지수 1500</p>\n",
    "        <p class='class4'>test3</p>\n",
    "        <span class='class3'>span tag text</span>\n",
    "        <a href=\"https://www.naver.com/\">네이버</a>\n",
    "        <a href=\"https://www.daum.com/\">다음</a>\n",
    "    </div>\n",
    "</body>\n",
    "</html>\n",
    "'''\n",
    "soup = BeautifulSoup(html, 'lxml')"
   ]
  },
  {
   "cell_type": "code",
   "execution_count": 94,
   "metadata": {},
   "outputs": [
    {
     "data": {
      "text/plain": [
       "[<span class=\"class3\">span tag text</span>]"
      ]
     },
     "execution_count": 94,
     "metadata": {},
     "output_type": "execute_result"
    }
   ],
   "source": [
    "soup.find_all(\"span\")"
   ]
  },
  {
   "cell_type": "code",
   "execution_count": 102,
   "metadata": {},
   "outputs": [],
   "source": [
    "span_1 = soup.find(\"span\")"
   ]
  },
  {
   "cell_type": "code",
   "execution_count": 103,
   "metadata": {},
   "outputs": [
    {
     "data": {
      "text/plain": [
       "<list_iterator at 0x1b6d0899c10>"
      ]
     },
     "execution_count": 103,
     "metadata": {},
     "output_type": "execute_result"
    }
   ],
   "source": [
    "span_1.children"
   ]
  },
  {
   "cell_type": "code",
   "execution_count": 104,
   "metadata": {},
   "outputs": [
    {
     "data": {
      "text/plain": [
       "['span tag text']"
      ]
     },
     "execution_count": 104,
     "metadata": {},
     "output_type": "execute_result"
    }
   ],
   "source": [
    "list(span_1.children)"
   ]
  },
  {
   "cell_type": "code",
   "execution_count": 105,
   "metadata": {},
   "outputs": [
    {
     "name": "stdout",
     "output_type": "stream",
     "text": [
      "['span tag text']\n"
     ]
    }
   ],
   "source": [
    "print(list(span_1.children))"
   ]
  },
  {
   "cell_type": "code",
   "execution_count": 106,
   "metadata": {},
   "outputs": [
    {
     "data": {
      "text/plain": [
       "[<div>\n",
       " <a href=\"https://www.google.com\">구글</a>\n",
       " <p align=\"left\" class=\"class1\">test3</p>\n",
       " <p class=\"class1\">test2</p>\n",
       " </div>,\n",
       " <div>\n",
       " <p id=\"p1\">오늘의 주가지수 1500</p>\n",
       " <p class=\"class4\">test3</p>\n",
       " <span class=\"class3\">span tag text</span>\n",
       " <a href=\"https://www.naver.com/\">네이버</a>\n",
       " <a href=\"https://www.daum.com/\">다음</a>\n",
       " </div>]"
      ]
     },
     "execution_count": 106,
     "metadata": {},
     "output_type": "execute_result"
    }
   ],
   "source": [
    "soup.find_all('div')"
   ]
  },
  {
   "cell_type": "code",
   "execution_count": 108,
   "metadata": {},
   "outputs": [],
   "source": [
    "div2 =soup.find_all('div')[1]"
   ]
  },
  {
   "cell_type": "code",
   "execution_count": 112,
   "metadata": {},
   "outputs": [
    {
     "data": {
      "text/plain": [
       "<span class=\"class3\">span tag text</span>"
      ]
     },
     "execution_count": 112,
     "metadata": {},
     "output_type": "execute_result"
    }
   ],
   "source": [
    "list(div2.children)[5]"
   ]
  },
  {
   "cell_type": "code",
   "execution_count": 113,
   "metadata": {},
   "outputs": [],
   "source": [
    "html = '''\n",
    "<html>\n",
    "<head>\n",
    "    <title> test site </title>\n",
    "</head>\n",
    "<body>\n",
    "    <div>\n",
    "        <a href=\"https://www.google.com\">구글</a>\n",
    "        <p class='class1' align=\"left\">test3</p>\n",
    "        <p class='class1'>test2</p>\n",
    "    </div>\n",
    "    <div>\n",
    "        <p id='p1'>오늘의 주가지수 1500</p>\n",
    "        <p class='class4'>test3</p>\n",
    "        <span class='class3'>span tag text</span>\n",
    "        <a href=\"https://www.naver.com/\">네이버</a>\n",
    "        <a href=\"https://www.daum.com/\">다음</a>\n",
    "    </div>\n",
    "</body>\n",
    "</html>\n",
    "'''\n",
    "soup = BeautifulSoup(html, 'lxml')"
   ]
  },
  {
   "cell_type": "code",
   "execution_count": 114,
   "metadata": {},
   "outputs": [
    {
     "data": {
      "text/plain": [
       "<span class=\"class3\">span tag text</span>"
      ]
     },
     "execution_count": 114,
     "metadata": {},
     "output_type": "execute_result"
    }
   ],
   "source": [
    "ch = soup.find_all('div')[1]\n",
    "list(ch.children)[5]"
   ]
  },
  {
   "cell_type": "code",
   "execution_count": 117,
   "metadata": {},
   "outputs": [
    {
     "data": {
      "text/plain": [
       "[<p align=\"left\" class=\"class1\">test3</p>,\n",
       " <p class=\"class1\">test2</p>,\n",
       " <p id=\"p1\">오늘의 주가지수 1500</p>,\n",
       " <p class=\"class4\">test3</p>]"
      ]
     },
     "execution_count": 117,
     "metadata": {},
     "output_type": "execute_result"
    }
   ],
   "source": [
    "tag = soup.find_all(\"p\")\n",
    "tag"
   ]
  },
  {
   "cell_type": "code",
   "execution_count": 122,
   "metadata": {},
   "outputs": [
    {
     "data": {
      "text/plain": [
       "[<p align=\"left\" class=\"class1\">test3</p>,\n",
       " <p class=\"class1\">test2</p>,\n",
       " <p id=\"p1\">오늘의 주가지수 1500</p>,\n",
       " <p class=\"class4\">test3</p>]"
      ]
     },
     "execution_count": 122,
     "metadata": {},
     "output_type": "execute_result"
    }
   ],
   "source": [
    "p_all = soup.find('body').find_all(\"p\")\n",
    "p_all"
   ]
  },
  {
   "cell_type": "code",
   "execution_count": 123,
   "metadata": {},
   "outputs": [
    {
     "name": "stdout",
     "output_type": "stream",
     "text": [
      "test3\n",
      "test2\n",
      "오늘의 주가지수 1500\n",
      "test3\n"
     ]
    }
   ],
   "source": [
    "for one in p_all :\n",
    "    print(one.text)"
   ]
  },
  {
   "cell_type": "code",
   "execution_count": 125,
   "metadata": {},
   "outputs": [
    {
     "data": {
      "text/plain": [
       "[<p align=\"left\" class=\"class1\">test3</p>,\n",
       " <p class=\"class1\">test2</p>,\n",
       " <p id=\"p1\">오늘의 주가지수 1500</p>,\n",
       " <p class=\"class4\">test3</p>]"
      ]
     },
     "execution_count": 125,
     "metadata": {},
     "output_type": "execute_result"
    }
   ],
   "source": [
    "tag = soup.find_all('p')\n",
    "tag"
   ]
  },
  {
   "cell_type": "code",
   "execution_count": 127,
   "metadata": {},
   "outputs": [
    {
     "name": "stdout",
     "output_type": "stream",
     "text": [
      "test3\n",
      "test2\n",
      "오늘의 주가지수 1500\n",
      "test3\n"
     ]
    }
   ],
   "source": [
    "for x in tag :\n",
    "    print(x.text)"
   ]
  },
  {
   "cell_type": "code",
   "execution_count": 154,
   "metadata": {},
   "outputs": [],
   "source": [
    "html = '''\n",
    "<html>\n",
    "<head>\n",
    "    <title> test site </title>\n",
    "</head>\n",
    "<body>\n",
    "    <div>\n",
    "        <a href=\"https://www.google.com\">구글</a>\n",
    "        <p class='class1' align=\"left\">test3</p>\n",
    "        <p class='class1'>test2</p>\n",
    "    </div>\n",
    "    <div>\n",
    "        <p id='p1'>오늘의 주가지수 1500</p>\n",
    "        <p class='class4'>test3</p>\n",
    "        <span class='class3'>span tag text</span>\n",
    "        <a href=\"https://www.naver.com/\">네이버</a>\n",
    "        <a href=\"https://www.daum.com/\">다음</a>\n",
    "    </div>\n",
    "</body>\n",
    "</html>\n",
    "'''\n",
    "soup = BeautifulSoup(html, 'lxml')"
   ]
  },
  {
   "cell_type": "code",
   "execution_count": 155,
   "metadata": {},
   "outputs": [
    {
     "name": "stdout",
     "output_type": "stream",
     "text": [
      "구글 https://www.google.com\n",
      "네이버 https://www.naver.com/\n",
      "다음 https://www.daum.com/\n"
     ]
    }
   ],
   "source": [
    "list_a = soup.findAll(\"a\")\n",
    "for one in list_a:\n",
    "    print(one.text, one.get(\"href\"))"
   ]
  },
  {
   "cell_type": "markdown",
   "metadata": {},
   "source": [
    "### 위의 내용을 csv파일로 만들어보자."
   ]
  },
  {
   "cell_type": "code",
   "execution_count": 160,
   "metadata": {},
   "outputs": [
    {
     "name": "stdout",
     "output_type": "stream",
     "text": [
      "구글 https://www.google.com\n",
      "네이버 https://www.naver.com/\n",
      "다음 https://www.daum.com/\n",
      "['구글', '네이버', '다음']\n",
      "['https://www.google.com', 'https://www.naver.com/', 'https://www.daum.com/']\n"
     ]
    }
   ],
   "source": [
    "com = []\n",
    "urls = []\n",
    "list_a = soup.findAll(\"a\")\n",
    "for one in list_a:\n",
    "    print(one.text, one.get(\"href\"))\n",
    "    com.append(one.text)\n",
    "    urls.append(one.get(\"href\"))\n",
    "    \n",
    "print(com)\n",
    "print(urls)"
   ]
  },
  {
   "cell_type": "markdown",
   "metadata": {},
   "source": [
    "### csv파일 만들기 -pandas"
   ]
  },
  {
   "cell_type": "code",
   "execution_count": 161,
   "metadata": {},
   "outputs": [],
   "source": [
    "import pandas as pd"
   ]
  },
  {
   "cell_type": "markdown",
   "metadata": {},
   "source": [
    "### pandas의 기본 자료형\n",
    " * Series\n",
    " * DataFrame"
   ]
  },
  {
   "cell_type": "code",
   "execution_count": 163,
   "metadata": {
    "scrolled": true
   },
   "outputs": [
    {
     "data": {
      "text/html": [
       "<div>\n",
       "<style scoped>\n",
       "    .dataframe tbody tr th:only-of-type {\n",
       "        vertical-align: middle;\n",
       "    }\n",
       "\n",
       "    .dataframe tbody tr th {\n",
       "        vertical-align: top;\n",
       "    }\n",
       "\n",
       "    .dataframe thead th {\n",
       "        text-align: right;\n",
       "    }\n",
       "</style>\n",
       "<table border=\"1\" class=\"dataframe\">\n",
       "  <thead>\n",
       "    <tr style=\"text-align: right;\">\n",
       "      <th></th>\n",
       "      <th>회사명</th>\n",
       "      <th>웹사이트</th>\n",
       "    </tr>\n",
       "  </thead>\n",
       "  <tbody>\n",
       "    <tr>\n",
       "      <th>0</th>\n",
       "      <td>구글</td>\n",
       "      <td>https://www.google.com</td>\n",
       "    </tr>\n",
       "    <tr>\n",
       "      <th>1</th>\n",
       "      <td>네이버</td>\n",
       "      <td>https://www.naver.com/</td>\n",
       "    </tr>\n",
       "    <tr>\n",
       "      <th>2</th>\n",
       "      <td>다음</td>\n",
       "      <td>https://www.daum.com/</td>\n",
       "    </tr>\n",
       "  </tbody>\n",
       "</table>\n",
       "</div>"
      ],
      "text/plain": [
       "   회사명                    웹사이트\n",
       "0   구글  https://www.google.com\n",
       "1  네이버  https://www.naver.com/\n",
       "2   다음   https://www.daum.com/"
      ]
     },
     "execution_count": 163,
     "metadata": {},
     "output_type": "execute_result"
    }
   ],
   "source": [
    "dat = {'회사명':com, '웹사이트':urls}\n",
    "dat = pd.DataFrame(dat)\n",
    "dat"
   ]
  },
  {
   "cell_type": "code",
   "execution_count": 165,
   "metadata": {
    "scrolled": true
   },
   "outputs": [
    {
     "name": "stdout",
     "output_type": "stream",
     "text": [
      "C:\\Users\\gmlck\n",
      "['.android', '.AndroidStudio4.0', '.astropy', '.conda', '.condarc', '.emulator_console_auth_token', '.gitconfig', '.gradle', '.ipynb_checkpoints', '.ipython', '.jupyter', '.matplotlib', '10주차 1교시.ipynb', '10주차 2교시.ipynb', '2주차 수업 python', '3D Objects', '4주차 1교시 과제.ipynb', '7주차 1교시 과제.ipynb', 'anaconda3', 'AndroidStudioProjects', 'AppData', 'Application Data', 'Autodesk', 'Contacts', 'Cookies', 'Documents', 'Downloads', 'Favorites', 'gender_submission.csv', 'IntelGraphicsProfiles', 'KCase.log', 'Links', 'Local Settings', 'MicrosoftEdgeBackups', 'Music', 'My Documents', 'NetHood', 'NTUSER.DAT', 'ntuser.dat.LOG1', 'ntuser.dat.LOG2', 'NTUSER.DAT{11e07401-8fe7-11eb-818e-b5737ee63496}.TM.blf', 'NTUSER.DAT{11e07401-8fe7-11eb-818e-b5737ee63496}.TMContainer00000000000000000001.regtrans-ms', 'NTUSER.DAT{11e07401-8fe7-11eb-818e-b5737ee63496}.TMContainer00000000000000000002.regtrans-ms', 'ntuser.ini', 'OneDrive', 'Pandas_bcu.ipynb', 'PrintHood', 'PycharmProjects', 'Recent', 'report.xlsx', 'result', 'Saved Games', 'seaborn-data', 'Searches', 'SendTo', 'Templates', 'test.csv', 'toy.xlsx', 'train.csv', 'Untitled.ipynb', 'Untitled1.ipynb', 'Untitled2.ipynb', 'Untitled3.ipynb', 'Videos', '멋사_0614.ipynb', '멋사_20210616.ipynb', '멋쟁이사자처럼 1.ipynb', '시작 메뉴', '회사명과 웹사이트.csv']\n"
     ]
    }
   ],
   "source": [
    "dat.to_csv(\"회사명과 웹사이트.csv\", index =False)\n",
    "\n",
    "## 확인\n",
    "import os\n",
    "a = print( os.getcwd() )  #현재위치\n",
    "type(a)\n",
    "print( os.listdir() ) #"
   ]
  },
  {
   "cell_type": "code",
   "execution_count": 166,
   "metadata": {},
   "outputs": [
    {
     "name": "stdout",
     "output_type": "stream",
     "text": [
      "C:\\Users\\gmlck\n",
      "['.android', '.AndroidStudio4.0', '.astropy', '.conda', '.condarc', '.emulator_console_auth_token', '.gitconfig', '.gradle', '.ipynb_checkpoints', '.ipython', '.jupyter', '.matplotlib', '10주차 1교시.ipynb', '10주차 2교시.ipynb', '2주차 수업 python', '3D Objects', '4주차 1교시 과제.ipynb', '7주차 1교시 과제.ipynb', 'anaconda3', 'AndroidStudioProjects', 'AppData', 'Application Data', 'Autodesk', 'Contacts', 'Cookies', 'Documents', 'Downloads', 'Favorites', 'gender_submission.csv', 'IntelGraphicsProfiles', 'KCase.log', 'Links', 'Local Settings', 'MicrosoftEdgeBackups', 'Music', 'My Documents', 'NetHood', 'NTUSER.DAT', 'ntuser.dat.LOG1', 'ntuser.dat.LOG2', 'NTUSER.DAT{11e07401-8fe7-11eb-818e-b5737ee63496}.TM.blf', 'NTUSER.DAT{11e07401-8fe7-11eb-818e-b5737ee63496}.TMContainer00000000000000000001.regtrans-ms', 'NTUSER.DAT{11e07401-8fe7-11eb-818e-b5737ee63496}.TMContainer00000000000000000002.regtrans-ms', 'ntuser.ini', 'OneDrive', 'Pandas_bcu.ipynb', 'PrintHood', 'PycharmProjects', 'Recent', 'report.xlsx', 'result', 'Saved Games', 'seaborn-data', 'Searches', 'SendTo', 'Templates', 'test.csv', 'toy.xlsx', 'train.csv', 'Untitled.ipynb', 'Untitled1.ipynb', 'Untitled2.ipynb', 'Untitled3.ipynb', 'Videos', '멋사_0614.ipynb', '멋사_20210616.ipynb', '멋쟁이사자처럼 1.ipynb', '시작 메뉴', '회사명과 웹사이트.csv', '회사명과 웹사이트.xlsx']\n"
     ]
    }
   ],
   "source": [
    "dat.to_excel(\"회사명과 웹사이트.xlsx\", index =False)\n",
    "\n",
    "## 확인\n",
    "import os\n",
    "print( os.getcwd() )  #현재위치\n",
    "print( os.listdir() ) #"
   ]
  },
  {
   "cell_type": "code",
   "execution_count": 172,
   "metadata": {},
   "outputs": [],
   "source": [
    "html = '''\n",
    "<html><head>\n",
    "\t<title>나의 웹 페이지</title>\n",
    "</head>\n",
    "<body>\n",
    "\t<h1> my web page </h1>\n",
    "\t<ul>\n",
    "\t\t <a href=\"./01.html\" name=\"link_get\"> 01. 제목 가져오기(title) </a><br>\n",
    "\t\t<a href=\"./02.html\" name=\"text_get\"> 02. 텍스트 가져오기(p) </a> <br>\n",
    "\t\t<a href=\"./03.html\" name=\"link_get\"> 03. 링크 가져오기(a) </a> <br>\n",
    "\t\t<a href=\"https://pythonstart.github.io/web/04.html\"> 04. 이미지 가져오기(img) </a> <br>\n",
    "\t\t<a href=\"./05.html\"> 05. 리스트 정보 가져오기(ul,ol) </a> <br>\n",
    "\t\t<a href=\"./06.html\"> 06. id를 활용한 정보 획득 </a> <br>\n",
    "\t\t<a href=\"./07.html\"> 07. class를 활용한 정보 획득 </a> <br>\n",
    "\t\t<a href=\"./08.html\"> 08. 하나의 이미지 다운로드 </a> <br>\n",
    "\t\t<a href=\"https://pythonstart.github.io/web/09.html\"> 09. 여러개의 이미지 다운로드 </a> <br>\n",
    "\t\t<a id=\"rank\" href=\"./10.html\"> 10. 랭킹 정보 가져오기(웹 크롤링) </a> <br>\n",
    "\t</ul>\n",
    "\t<h2> <a href=\"./nclass/index.html\"> Next Class --&gt;</a> </h2>\n",
    "\t<h1 id=\"etc\"> 기타 정보 </h1>\n",
    "\t<div>\n",
    "\t\t<ul>\n",
    "\t\t\t<li class=\"a5_3\"> 5_3반클래스 </li> \n",
    "\t\t\t<li class=\"a5_3\"> 5_3반클래스 </li> \n",
    "\t\t\t<li class=\"a5_3\"> 5_3반클래스 </li> \n",
    "\t\t</ul>\n",
    "\t\t<ol>\n",
    "\t\t\t<li class=\"5_4\"> 5_4반 클래스 </li> \n",
    "\t\t\t<li class=\"5_4\"> 5_4반 클래스 </li> \n",
    "\t\t\t<li class=\"5_4\"> 5_4반 클래스 </li> \n",
    "\t\t</ol>\n",
    "\t\t<span> 포털 사이트 가기 </span>\n",
    "\t\t<a href=\"https://www.naver.com/\">naver</a> <br>\n",
    "\t</div>\n",
    "\n",
    "</body></html>\n",
    "'''\n",
    "soup = BeautifulSoup(html, 'lxml')"
   ]
  },
  {
   "cell_type": "code",
   "execution_count": 185,
   "metadata": {},
   "outputs": [
    {
     "name": "stdout",
     "output_type": "stream",
     "text": [
      "메인 메뉴로 바로가기 #menu\n",
      "본문으로 바로가기 #start\n",
      "네이버 https://www.naver.com/\n",
      "금융 /\n",
      "자동완성 펼치기 #\n",
      "통합검색 #\n",
      "금융 홈 /\n",
      "국내증시 /sise/\n",
      "해외증시 /world/\n",
      "시장지표 /marketindex/\n",
      "펀드 /fund/\n",
      "리서치 /research/\n",
      "뉴스 /news/\n",
      "MY /mystock/\n",
      "국내증시 /sise/\n",
      "코스피 /sise/sise_index.nhn?code=KOSPI\n",
      "코스닥 /sise/sise_index.nhn?code=KOSDAQ\n",
      "선물 /sise/sise_index.nhn?code=FUT\n",
      "코스피200 /sise/sise_index.nhn?code=KPI200\n",
      "코넥스 /sise/konex.nhn\n",
      "시가총액 /sise/sise_market_sum.nhn\n",
      "배당 /sise/dividend_list.nhn\n",
      "업종 /sise/sise_group.nhn?type=upjong\n",
      "테마 /sise/theme.nhn\n",
      "그룹사 /sise/sise_group.nhn?type=group\n",
      "ETF /sise/etf.nhn\n",
      "ETN /sise/etn.nhn\n",
      "ª?Ω? /sise/sise_rise.nhn\n",
      "보합 /sise/sise_steady.nhn\n",
      "하락 /sise/sise_fall.nhn\n",
      "상한가 /sise/sise_upper.nhn\n",
      "하한가 /sise/sise_lower.nhn\n",
      "급등 /sise/sise_low_up.nhn\n",
      "급락 /sise/sise_high_down.nhn\n",
      "거래상위 /sise/sise_quant.nhn\n",
      "급증 /sise/sise_quant_high.nhn\n",
      "급감 /sise/sise_quant_low.nhn\n",
      "투자자별매매동향 /sise/sise_trans_style.nhn\n",
      "외국인매매 /sise/sise_deal_rank.nhn\n",
      "기관매매 /sise/sise_deal_rank.nhn?investor_gubun=1000\n",
      "프로그램매매동향 /sise/sise_program.nhn\n",
      "증시자금동향 /sise/sise_deposit.nhn\n",
      "신규상장 /sise/sise_new_stock.nhn\n",
      "외국인보유 /sise/sise_foreign_hold.nhn\n",
      "장외시세 /sise/market3news_list.nhn\n",
      "IPO /sise/ipo.nhn\n",
      "관리종목 /sise/management.nhn\n",
      "거래정지종목 /sise/trading_halt.nhn\n",
      "시장경보종목 /sise/investment_alert.nhn?type=caution\n",
      "골든크로스 /sise/item_gold.nhn\n",
      "갭상승 /sise/item_gap.nhn\n",
      "이격도과열 /sise/item_igyuk.nhn\n",
      "투심과열 /sise/item_overheating_1.nhn\n",
      "상대강도과열 /sise/item_overheating_2.nhn\n",
      "기업 전자공시 /sise/report.nhn\n",
      "공매도 종합 현황 /sise/short_trade.nhn\n",
      "\n",
      "코스피\n",
      "3,276.29\n",
      "\n",
      "17.66 +0.54%상승\n",
      "\n",
      " /sise/sise_index.nhn?code=KOSPI \n",
      "\n",
      "코스닥\n",
      "999.14\n",
      "\n",
      "1.77 +0.18%상승\n",
      "\n",
      " /sise/sise_index.nhn?code=KOSDAQ\n",
      "\n",
      "코스피200\n",
      "436.57\n",
      "\n",
      "2.44 +0.56%상승\n",
      "\n",
      " /sise/sise_index.nhn?code=KPI200\n",
      "개인-2,245억 /sise/sise_trans_style.nhn\n",
      "외국인+1,630억 /sise/sise_trans_style.nhn\n",
      "기관+590억 /sise/sise_trans_style.nhn\n",
      " /sise/sise_index.nhn?code=KOSPI\n",
      "\n",
      "실시간\n",
      "실시간으로 지수 데이터를 제공 중입니다.\n",
      " #\n",
      "1 /sise/sise_upper.nhn\n",
      "501 /sise/sise_rise.nhn\n",
      "81 /sise/sise_steady.nhn\n",
      "330 /sise/sise_fall.nhn\n",
      "0 /sise/sise_lower.nhn\n",
      "프로그램 매매동향 /sise/sise_program.nhn\n",
      "+121억 /sise/sise_program.nhn\n",
      "-17억 /sise/sise_program.nhn\n",
      "+104억 /sise/sise_program.nhn\n",
      "개인+602억 /sise/sise_trans_style.nhn?sosok=02\n",
      "외국인-346억 /sise/sise_trans_style.nhn?sosok=02\n",
      "기관-258억 /sise/sise_trans_style.nhn?sosok=02\n",
      " /sise/sise_index.nhn?code=KOSDAQ\n",
      "\n",
      "실시간\n",
      "실시간으로 지수 데이터를 제공 중입니다.\n",
      " #\n",
      "3 /sise/sise_upper.nhn\n",
      "715 /sise/sise_rise.nhn?sosok=1\n",
      "130 /sise/sise_steady.nhn?sosok=1\n",
      "568 /sise/sise_fall.nhn?sosok=1\n",
      "0 /sise/sise_lower.nhn\n",
      "프로그램 매매동향 /sise/sise_program.nhn?sosok=02\n",
      "0억 /sise/sise_program.nhn?sosok=02\n",
      "-483억 /sise/sise_program.nhn?sosok=02\n",
      "-483억 /sise/sise_program.nhn?sosok=02\n",
      " /sise/sise_index.nhn?code=KPI200\n",
      "\n",
      "실시간\n",
      "실시간으로 지수 데이터를 제공 중입니다.\n",
      " #\n",
      "프로그램 매매동향 /sise/sise_program.nhn\n",
      "+121억 /sise/sise_program.nhn\n",
      "-17억 /sise/sise_program.nhn\n",
      "+104억 /sise/sise_program.nhn\n",
      "더보기 /sise/lastsearch2.nhn\n",
      "NAVER /item/main.nhn?code=035420\n",
      "삼성전자 /item/main.nhn?code=005930\n",
      "서울식품 /item/main.nhn?code=004410\n",
      "카카오 /item/main.nhn?code=035720\n",
      "두산중공업 /item/main.nhn?code=034020\n",
      "쌍방울 /item/main.nhn?code=102280\n",
      "HMM /item/main.nhn?code=011200\n",
      "대원전선 /item/main.nhn?code=006340\n",
      "대한전선 /item/main.nhn?code=001440\n",
      "한전산업 /item/main.nhn?code=130660\n",
      "다우산업 /world/sise.nhn?symbol=DJI@DJI&fdtc=0\n",
      " 나스닥 /world/sise.nhn?symbol=NAS@IXIC&fdtc=0\n",
      " 홍콩H /world/sise.nhn?symbol=HSI@HSCE&fdtc=0\n",
      " 상해종합 /world/sise.nhn?symbol=SHS@000001&fdtc=0\n",
      " 니케이225 /world/sise.nhn?symbol=NII@NI225&fdtc=0\n",
      "더보기 /sise/sise_group.nhn?type=upjong\n",
      "항공화물운송과물류 /sise/sise_group_detail.nhn?type=upjong&no=234\n",
      "무역회사와판매업체 /sise/sise_group_detail.nhn?type=upjong&no=226\n",
      "해운사 /sise/sise_group_detail.nhn?type=upjong&no=212\n",
      "화장품 /sise/sise_group_detail.nhn?type=upjong&no=206\n",
      "기타금융 /sise/sise_group_detail.nhn?type=upjong&no=183\n",
      "전기유틸리티 /sise/sise_group_detail.nhn?type=upjong&no=176\n",
      "더보기 /sise/theme.nhn\n",
      "4대강 복원 /sise/sise_group_detail.nhn?type=theme&no=374\n",
      "자연과환경 /item/main.nhn?code=043910\n",
      "전선 /sise/sise_group_detail.nhn?type=theme&no=178\n",
      "대원전선 /item/main.nhn?code=006340\n",
      "전력설비 /sise/sise_group_detail.nhn?type=theme&no=123\n",
      "한전산업 /item/main.nhn?code=130660\n",
      "DMZ 평화공원 /sise/sise_group_detail.nhn?type=theme&no=398\n",
      "자연과환경 /item/main.nhn?code=043910\n",
      "조림사업 /sise/sise_group_detail.nhn?type=theme&no=400\n",
      "자연과환경 /item/main.nhn?code=043910\n",
      "백화점 /sise/sise_group_detail.nhn?type=theme&no=318\n",
      "대구백화점 /item/main.nhn?code=006370\n",
      "외국인 순매도 javascript:main_tab('frgn_deal', 1, 2)\n",
      "SK이노베이션 /item/main.nhn?code=096770\n",
      "효성티앤씨 /item/main.nhn?code=298020\n",
      "삼성SDI /item/main.nhn?code=006400\n",
      "SK하이닉스 /item/main.nhn?code=000660\n",
      "삼성전자 /item/main.nhn?code=005930\n",
      "LG이노텍 /item/main.nhn?code=011070\n",
      "외국인 순매수 javascript:main_tab('frgn_deal', 0, 2)\n",
      "HMM /item/main.nhn?code=011200\n",
      "카카오 /item/main.nhn?code=035720\n",
      "LG디스플레이 /item/main.nhn?code=034220\n",
      "현대로템 /item/main.nhn?code=064350\n",
      "NAVER /item/main.nhn?code=035420\n",
      "셀트리온 /item/main.nhn?code=068270\n",
      "기관 순매도 javascript:main_tab('organ_deal', 1, 2)\n",
      "SK이노베이션 /item/main.nhn?code=096770\n",
      "SK하이닉스 /item/main.nhn?code=000660\n",
      "삼성SDI /item/main.nhn?code=006400\n",
      "LG이노텍 /item/main.nhn?code=011070\n",
      "NAVER /item/main.nhn?code=035420\n",
      "KODEX 레버리지 /item/main.nhn?code=122630\n",
      "기관 순매수 javascript:main_tab('organ_deal', 0, 2)\n",
      "삼성전자 /item/main.nhn?code=005930\n",
      "LG화학 /item/main.nhn?code=051910\n",
      "KODEX 200선물인버스2X /item/main.nhn?code=252670\n",
      "HMM /item/main.nhn?code=011200\n",
      "넷마블 /item/main.nhn?code=251270\n",
      "TIGER 차이나전기차SOLACTIVE /item/main.nhn?code=371460\n",
      " javascript:main_tab('trend', 0, 2)\n",
      " javascript:main_tab('trend', 1, 2)\n",
      "대원전선우 /item/main.nhn?code=006345\n",
      "대원전선 /item/main.nhn?code=006340\n",
      "아이디피 /item/main.nhn?code=332370\n",
      "애니플러스 /item/main.nhn?code=310200\n",
      "삼성 인버스 2X 천연가스 선물 ETN B /item/main.nhn?code=530069\n",
      "신한 인버스 2X 천연가스 선물 ETN(H) /item/main.nhn?code=500032\n",
      "TRUE 인버스 2X 천연가스 선물 ETN(H) /item/main.nhn?code=570046\n",
      "신한 인버스 2X 천연가스 선물 ETN /item/main.nhn?code=500054\n",
      "큐브앤컴퍼니 /item/main.nhn?code=043090\n",
      "팬오션 /item/main.nhn?code=028670\n",
      " javascript:main_tab('trend', 0, 2)\n",
      " javascript:main_tab('trend', 1, 2)\n",
      "아이디피 /item/main.nhn?code=332370\n",
      "코오롱인더 /item/main.nhn?code=120110\n",
      "대성창투 /item/main.nhn?code=027830\n",
      "한진 /item/main.nhn?code=002320\n",
      "삼영엠텍 /item/main.nhn?code=054540\n",
      "국영지앤엠 /item/main.nhn?code=006050\n",
      "CJ씨푸드 /item/main.nhn?code=011150\n",
      "에이루트 /item/main.nhn?code=096690\n",
      "KINDEX 일본TOPIX레버리지(H) /item/main.nhn?code=196030\n",
      "SGA /item/main.nhn?code=049470\n",
      "하한가 javascript:main_tab('siselist', 1, 8)\n",
      "상승 javascript:main_tab('siselist', 2, 8)\n",
      "보합 javascript:main_tab('siselist', 3, 8)\n",
      "하락 javascript:main_tab('siselist', 4, 8)\n",
      "거래량상위 javascript:main_tab('siselist', 5, 8)\n",
      "고가대비급락 javascript:main_tab('siselist', 6, 8)\n",
      "시가총액상위 javascript:main_tab('siselist', 7, 8)\n",
      "대원전선우 /item/main.nhn?code=006345\n",
      "지더블유바이텍 /item/main.nhn?code=036180\n",
      "자연과환경 /item/main.nhn?code=043910\n",
      "광진윈텍 /item/main.nhn?code=090150\n",
      "엘에이티 /item/main.nhn?code=311060\n",
      "폭스소프트 /item/main.nhn?code=354230\n",
      "상한가 javascript:main_tab('siselist', 0, 8)\n",
      "상승 javascript:main_tab('siselist', 2, 8)\n",
      "보합 javascript:main_tab('siselist', 3, 8)\n",
      "하락 javascript:main_tab('siselist', 4, 8)\n",
      "거래량상위 javascript:main_tab('siselist', 5, 8)\n",
      "고가대비급락 javascript:main_tab('siselist', 6, 8)\n",
      "시가총액상위 javascript:main_tab('siselist', 7, 8)\n",
      "명진홀딩스 /item/main.nhn?code=267060\n",
      "상한가 javascript:main_tab('siselist', 0, 8)\n",
      "하한가 javascript:main_tab('siselist', 1, 8)\n",
      "보합 javascript:main_tab('siselist', 3, 8)\n",
      "하락 javascript:main_tab('siselist', 4, 8)\n",
      "거래량상위 javascript:main_tab('siselist', 5, 8)\n",
      "고가대비급락 javascript:main_tab('siselist', 6, 8)\n",
      "시가총액상위 javascript:main_tab('siselist', 7, 8)\n",
      "한전산업 /item/main.nhn?code=130660\n",
      "미래산업 /item/main.nhn?code=025560\n",
      "가비아 /item/main.nhn?code=079940\n",
      "누리플랜 /item/main.nhn?code=069140\n",
      "대교우B /item/main.nhn?code=019685\n",
      "태경케미컬 /item/main.nhn?code=006890\n",
      "서울식품 /item/main.nhn?code=004410\n",
      "대원전선 /item/main.nhn?code=006340\n",
      "서전기전 /item/main.nhn?code=189860\n",
      "아이디피 /item/main.nhn?code=332370\n",
      "상한가 javascript:main_tab('siselist', 0, 8)\n",
      "하한가 javascript:main_tab('siselist', 1, 8)\n",
      "상승 javascript:main_tab('siselist', 2, 8)\n",
      "하락 javascript:main_tab('siselist', 4, 8)\n",
      "거래량상위 javascript:main_tab('siselist', 5, 8)\n",
      "고가대비급락 javascript:main_tab('siselist', 6, 8)\n",
      "시가총액상위 javascript:main_tab('siselist', 7, 8)\n",
      "삼양홀딩스우 /item/main.nhn?code=000075\n",
      "하이트진로홀딩스 /item/main.nhn?code=000140\n",
      "유유제약2우B /item/main.nhn?code=000227\n",
      "대동 /item/main.nhn?code=000490\n",
      "동아쏘시오홀딩스 /item/main.nhn?code=000640\n",
      "유수홀딩스 /item/main.nhn?code=000700\n",
      "이화산업 /item/main.nhn?code=000760\n",
      "삼성화재우 /item/main.nhn?code=000815\n",
      "한국주철관 /item/main.nhn?code=000970\n",
      "JW중외제약 /item/main.nhn?code=001060\n",
      "상한가 javascript:main_tab('siselist', 0, 8)\n",
      "하한가 javascript:main_tab('siselist', 1, 8)\n",
      "상승 javascript:main_tab('siselist', 2, 8)\n",
      "보합 javascript:main_tab('siselist', 3, 8)\n",
      "거래량상위 javascript:main_tab('siselist', 5, 8)\n",
      "고가대비급락 javascript:main_tab('siselist', 6, 8)\n",
      "시가총액상위 javascript:main_tab('siselist', 7, 8)\n",
      "위월드 /item/main.nhn?code=140660\n",
      "동양2우B /item/main.nhn?code=001527\n",
      "엄지하우스 /item/main.nhn?code=224810\n",
      "동양우 /item/main.nhn?code=001525\n",
      "이성씨엔아이 /item/main.nhn?code=379390\n",
      "블루탑 /item/main.nhn?code=191600\n",
      "삼성 레버리지 천연가스 선물 ETN B /item/main.nhn?code=530068\n",
      "신한 레버리지 천연가스 선물 ETN /item/main.nhn?code=500053\n",
      "성신양회우 /item/main.nhn?code=004985\n",
      "TRUE 레버리지 천연가스 선물 ETN(H) /item/main.nhn?code=570045\n",
      "상한가 javascript:main_tab('siselist', 0, 8)\n",
      "하한가 javascript:main_tab('siselist', 1, 8)\n",
      "상승 javascript:main_tab('siselist', 2, 8)\n",
      "보합 javascript:main_tab('siselist', 3, 8)\n",
      "하락 javascript:main_tab('siselist', 4, 8)\n",
      "고가대비급락 javascript:main_tab('siselist', 6, 8)\n",
      "시가총액상위 javascript:main_tab('siselist', 7, 8)\n",
      "서울식품 /item/main.nhn?code=004410\n",
      "쌍방울 /item/main.nhn?code=102280\n",
      "KODEX 200선물인버스2X /item/main.nhn?code=252670\n",
      "대원전선 /item/main.nhn?code=006340\n",
      "대한전선 /item/main.nhn?code=001440\n",
      "우리기술 /item/main.nhn?code=032820\n",
      "보성파워텍 /item/main.nhn?code=006910\n",
      "동양철관 /item/main.nhn?code=008970\n",
      "자연과환경 /item/main.nhn?code=043910\n",
      "팬스타엔터프라이즈 /item/main.nhn?code=054300\n",
      "상한가 javascript:main_tab('siselist', 0, 8)\n",
      "하한가 javascript:main_tab('siselist', 1, 8)\n",
      "상승 javascript:main_tab('siselist', 2, 8)\n",
      "보합 javascript:main_tab('siselist', 3, 8)\n",
      "하락 javascript:main_tab('siselist', 4, 8)\n",
      "거래량상위 javascript:main_tab('siselist', 5, 8)\n",
      "시가총액상위 javascript:main_tab('siselist', 7, 8)\n",
      "광진실업 /item/main.nhn?code=026910\n",
      "명진홀딩스 /item/main.nhn?code=267060\n",
      "두산2우B /item/main.nhn?code=000157\n",
      "씨아이테크 /item/main.nhn?code=004920\n",
      "웹스 /item/main.nhn?code=196700\n",
      "성신양회우 /item/main.nhn?code=004985\n",
      "신진에스엠 /item/main.nhn?code=138070\n",
      "쌍방울 /item/main.nhn?code=102280\n",
      "대구백화점 /item/main.nhn?code=006370\n",
      "홈캐스트 /item/main.nhn?code=064240\n",
      "상한가 javascript:main_tab('siselist', 0, 8)\n",
      "하한가 javascript:main_tab('siselist', 1, 8)\n",
      "상승 javascript:main_tab('siselist', 2, 8)\n",
      "보합 javascript:main_tab('siselist', 3, 8)\n",
      "하락 javascript:main_tab('siselist', 4, 8)\n",
      "거래량상위 javascript:main_tab('siselist', 5, 8)\n",
      "고가대비급락 javascript:main_tab('siselist', 6, 8)\n",
      "삼성전자 /item/main.nhn?code=005930\n",
      "SK하이닉스 /item/main.nhn?code=000660\n",
      "NAVER /item/main.nhn?code=035420\n",
      "카카오 /item/main.nhn?code=035720\n",
      "삼성전자우 /item/main.nhn?code=005935\n",
      "LG화학 /item/main.nhn?code=051910\n",
      "삼성바이오로직스 /item/main.nhn?code=207940\n",
      "현대차 /item/main.nhn?code=005380\n",
      "삼성SDI /item/main.nhn?code=006400\n",
      "셀트리온 /item/main.nhn?code=068270\n",
      "이용약관 https://www.naver.com/rules/service.html\n",
      "금융게시판 운영원칙 https://finance.naver.com/rules.nhn\n",
      "개인정보처리방침 https://www.naver.com/rules/privacy.html\n",
      "책임의 한계와 법적고지 https://www.naver.com/rules/disclaimer.html\n",
      "금융 고객센터 https://help.naver.com/support/alias/contents2/finance/finance_1.naver\n",
      " javascript:;\n",
      " https://www.navercorp.com/\n",
      "NAVER Corp. https://www.navercorp.com/\n"
     ]
    }
   ],
   "source": [
    "url = soup.find_all('a')\n",
    "\n",
    "for x in url:\n",
    "    print(x.text,x.get('href'))"
   ]
  },
  {
   "cell_type": "code",
   "execution_count": 188,
   "metadata": {},
   "outputs": [
    {
     "data": {
      "text/plain": [
       "<title>국내증시 : 네이버 금융</title>"
      ]
     },
     "execution_count": 188,
     "metadata": {},
     "output_type": "execute_result"
    }
   ],
   "source": [
    "from urllib.request import urlopen\n",
    "from bs4 import BeautifulSoup\n",
    "\n",
    "url = \"https://finance.naver.com/sise/\"\n",
    "page = urlopen(url)\n",
    "page\n",
    "soup = BeautifulSoup(page, \"html.parser\")\n",
    "soup.title"
   ]
  },
  {
   "cell_type": "code",
   "execution_count": 191,
   "metadata": {},
   "outputs": [
    {
     "name": "stdout",
     "output_type": "stream",
     "text": [
      "3,276.29 999.26 436.55\n"
     ]
    }
   ],
   "source": [
    "kospi = soup.find('span', id = 'KOSPI_now').text\n",
    "kosdaq = soup.find('span', id = 'KOSDAQ_now').text\n",
    "kospi200 = soup.find('span' ,id = 'KPI200_now').text\n",
    "\n",
    "print(kospi,kosdaq,kospi200)"
   ]
  },
  {
   "cell_type": "code",
   "execution_count": 225,
   "metadata": {},
   "outputs": [],
   "source": [
    "search_stock = soup.find('ul', id = \"popularItemList\")\n",
    "stock_all = pop.find_all('li')\n",
    "\n",
    "  "
   ]
  },
  {
   "cell_type": "code",
   "execution_count": 228,
   "metadata": {},
   "outputs": [],
   "source": [
    "com_all = []\n",
    "price_all = []\n",
    "\n",
    "for one in stock_all:\n",
    "    com_one= one.find(\"a\").text\n",
    "    price_one = one.find(\"span\").text\n",
    "    com_all.append(com_one)\n",
    "    price_all.append(price_one)"
   ]
  },
  {
   "cell_type": "code",
   "execution_count": 232,
   "metadata": {},
   "outputs": [
    {
     "name": "stdout",
     "output_type": "stream",
     "text": [
      "['NAVER', '삼성전자', '카카오', '두산중공업', 'HMM', '서울식품', '대원전선', '대성창투', '이마트', '쌍방울', '쌍방울']\n",
      "['394,000', '81,600', '143,500', '24,550', '45,550', '456', '3,530', '4,835', '167,000', '1,270', '1,270']\n"
     ]
    }
   ],
   "source": [
    "print(com_all)\n",
    "print(price_all)"
   ]
  },
  {
   "cell_type": "code",
   "execution_count": 239,
   "metadata": {},
   "outputs": [
    {
     "name": "stdout",
     "output_type": "stream",
     "text": [
      "\n",
      "1.NAVER394,000상승\n",
      "2.삼성전자81,600상승\n",
      "3.카카오143,500하락\n",
      "4.두산중공업24,550상승\n",
      "5.HMM45,550상승\n",
      "6.서울식품456상승\n",
      "7.대원전선3,530상승\n",
      "8.대성창투4,835상승\n",
      "9.이마트167,000상승\n",
      "10.쌍방울1,270하락\n",
      "\n"
     ]
    }
   ],
   "source": [
    "##예준님 코드\n",
    "\n",
    "rank_1 = soup.find('div', class_='rgt')\n",
    "rank_list = rank_1.find('ul').text.split('\\n')\n",
    "for i in rank_list:\n",
    "    print(i)"
   ]
  },
  {
   "cell_type": "markdown",
   "metadata": {},
   "source": [
    "### 과제(자율과제)\n",
    " * Top 종목에 있는 정보를 SUB메뉴(상한가)정보를 가져와서 xlsx파일로 정리하기\n",
    " * 제출 : 구글드라이브"
   ]
  },
  {
   "cell_type": "code",
   "execution_count": 241,
   "metadata": {},
   "outputs": [
    {
     "name": "stdout",
     "output_type": "stream",
     "text": [
      "\n",
      "1.NAVER394,000상승\n",
      "2.삼성전자81,600상승\n",
      "3.카카오143,500하락\n",
      "4.두산중공업24,550상승\n",
      "5.HMM45,550상승\n",
      "6.서울식품456상승\n",
      "7.대원전선3,530상승\n",
      "8.대성창투4,835상승\n",
      "9.이마트167,000상승\n",
      "10.쌍방울1,270하락\n",
      "\n"
     ]
    }
   ],
   "source": [
    "## 현우님 코드\n",
    "\n",
    "ul_=soup.findAll('ul',class_='lst_pop', id=\"popularItemList\")\n",
    "for x in ul_:\n",
    "    print(x.text)"
   ]
  },
  {
   "cell_type": "code",
   "execution_count": 249,
   "metadata": {},
   "outputs": [
    {
     "name": "stdout",
     "output_type": "stream",
     "text": [
      "\n",
      "1.NAVER394,000상승\n",
      "2.삼성전자81,600상승\n",
      "3.카카오143,500하락\n",
      "4.두산중공업24,550상승\n",
      "5.HMM45,550상승\n",
      "6.서울식품456상승\n",
      "7.대원전선3,530상승\n",
      "8.대성창투4,835상승\n",
      "9.이마트167,000상승\n",
      "10.쌍방울1,270하락\n",
      "\n"
     ]
    }
   ],
   "source": [
    "a =soup.find_all('ul',class_='lst_pop', id=\"popularItemList\")\n",
    "for x in a:\n",
    "    print(x.text)"
   ]
  },
  {
   "cell_type": "code",
   "execution_count": 250,
   "metadata": {},
   "outputs": [
    {
     "name": "stdout",
     "output_type": "stream",
     "text": [
      "NAVER의 코드 :  035420\n",
      "삼성전자의 코드 :  005930\n",
      "카카오의 코드 :  035720\n",
      "두산중공업의 코드 :  034020\n",
      "HMM의 코드 :  011200\n",
      "서울식품의 코드 :  004410\n",
      "대원전선의 코드 :  006340\n",
      "대성창투의 코드 :  027830\n",
      "이마트의 코드 :  139480\n",
      "쌍방울의 코드 :  102280\n"
     ]
    }
   ],
   "source": [
    "rank_1 = soup.find('div', class_='rgt')\n",
    "rank_1 = soup.findAll('ul', id='popularItemList')\n",
    "list_rank = rank_1[0].findAll('li')\n",
    "for i in list_rank:\n",
    "    code = i.find('a')\n",
    "    company = code.text\n",
    "    code = code.get('href')\n",
    "    print(company+'의 코드 : ', code[-6:])"
   ]
  }
 ],
 "metadata": {
  "kernelspec": {
   "display_name": "Python 3",
   "language": "python",
   "name": "python3"
  },
  "language_info": {
   "codemirror_mode": {
    "name": "ipython",
    "version": 3
   },
   "file_extension": ".py",
   "mimetype": "text/x-python",
   "name": "python",
   "nbconvert_exporter": "python",
   "pygments_lexer": "ipython3",
   "version": "3.8.5"
  }
 },
 "nbformat": 4,
 "nbformat_minor": 4
}
