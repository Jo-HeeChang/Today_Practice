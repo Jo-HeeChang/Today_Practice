{
 "cells": [
  {
   "cell_type": "code",
   "execution_count": 1,
   "metadata": {},
   "outputs": [],
   "source": [
    "import random"
   ]
  },
  {
   "cell_type": "code",
   "execution_count": 2,
   "metadata": {},
   "outputs": [],
   "source": [
    "import time"
   ]
  },
  {
   "cell_type": "code",
   "execution_count": 7,
   "metadata": {},
   "outputs": [
    {
     "name": "stdout",
     "output_type": "stream",
     "text": [
      "치킨\n"
     ]
    }
   ],
   "source": [
    "print(random.choice([\"된장찌개\", \"제육볶음\", \"치킨\", \"떡볶이\", \"라면\"]))\n",
    "time.sleep(1)"
   ]
  },
  {
   "cell_type": "code",
   "execution_count": 8,
   "metadata": {},
   "outputs": [
    {
     "name": "stdout",
     "output_type": "stream",
     "text": [
      "된장찌개\n"
     ]
    }
   ],
   "source": [
    "print(random.choice([\"된장찌개\", \"제육볶음\", \"치킨\", \"떡볶이\", \"라면\"]))"
   ]
  },
  {
   "cell_type": "code",
   "execution_count": 9,
   "metadata": {},
   "outputs": [
    {
     "name": "stdout",
     "output_type": "stream",
     "text": [
      "라면\n"
     ]
    }
   ],
   "source": [
    "print(random.choice([\"된장찌개\", \"제육볶음\", \"치킨\", \"떡볶이\", \"라면\"]))"
   ]
  },
  {
   "cell_type": "code",
   "execution_count": 10,
   "metadata": {},
   "outputs": [
    {
     "name": "stdout",
     "output_type": "stream",
     "text": [
      "된장찌개\n"
     ]
    }
   ],
   "source": [
    "print(random.choice([\"된장찌개\", \"제육볶음\", \"치킨\", \"떡볶이\", \"라면\"]))"
   ]
  },
  {
   "cell_type": "code",
   "execution_count": 11,
   "metadata": {},
   "outputs": [
    {
     "data": {
      "text/plain": [
       "'떡볶이'"
      ]
     },
     "execution_count": 11,
     "metadata": {},
     "output_type": "execute_result"
    }
   ],
   "source": [
    "random.choice([\"된장찌개\", \"제육볶음\", \"치킨\", \"떡볶이\", \"라면\"])"
   ]
  },
  {
   "cell_type": "code",
   "execution_count": 12,
   "metadata": {},
   "outputs": [
    {
     "name": "stdout",
     "output_type": "stream",
     "text": [
      "냉장고\n"
     ]
    }
   ],
   "source": [
    "import random\n",
    "\n",
    "lunch = random.choice([\"된장찌개\",\"피자\",\"제육볶음\"])\n",
    "lunch = \"냉장고\"\n",
    "dinner = random.choice([\"김밥\",\"쫄면\",\"돈까스\"])\n",
    "print(lunch)"
   ]
  },
  {
   "cell_type": "code",
   "execution_count": 13,
   "metadata": {},
   "outputs": [
    {
     "name": "stdout",
     "output_type": "stream",
     "text": [
      "냉장고\n"
     ]
    }
   ],
   "source": [
    "print(\"냉장고\")"
   ]
  },
  {
   "cell_type": "code",
   "execution_count": 14,
   "metadata": {},
   "outputs": [
    {
     "name": "stdout",
     "output_type": "stream",
     "text": [
      "Hello World\n"
     ]
    }
   ],
   "source": [
    "print(\"Hello World\")"
   ]
  },
  {
   "cell_type": "code",
   "execution_count": 15,
   "metadata": {},
   "outputs": [
    {
     "name": "stdout",
     "output_type": "stream",
     "text": [
      "{'고향': '서울'}\n"
     ]
    }
   ],
   "source": [
    "information = {\"고향\": \"서울\"}\n",
    "print(information)"
   ]
  },
  {
   "cell_type": "code",
   "execution_count": 16,
   "metadata": {},
   "outputs": [
    {
     "name": "stdout",
     "output_type": "stream",
     "text": [
      "서울\n"
     ]
    }
   ],
   "source": [
    "print(information.get(\"고향\"))"
   ]
  },
  {
   "cell_type": "code",
   "execution_count": 17,
   "metadata": {},
   "outputs": [
    {
     "name": "stdout",
     "output_type": "stream",
     "text": [
      "['된장찌개', '피자', '제육볶음']\n"
     ]
    }
   ],
   "source": [
    "foods = [\"된장찌개\", \"피자\", \"제육볶음\"]\n",
    "print(foods)"
   ]
  },
  {
   "cell_type": "code",
   "execution_count": 22,
   "metadata": {},
   "outputs": [
    {
     "name": "stdout",
     "output_type": "stream",
     "text": [
      "0\n",
      "1\n",
      "2\n",
      "3\n",
      "4\n",
      "5\n",
      "6\n",
      "7\n",
      "8\n",
      "9\n",
      "10\n",
      "11\n",
      "12\n",
      "13\n",
      "14\n",
      "15\n",
      "16\n",
      "17\n",
      "18\n",
      "19\n",
      "20\n",
      "21\n",
      "22\n",
      "23\n",
      "24\n",
      "25\n",
      "26\n",
      "27\n",
      "28\n",
      "29\n"
     ]
    }
   ],
   "source": [
    "for x in range(30) :\n",
    "    print(x)"
   ]
  },
  {
   "cell_type": "code",
   "execution_count": 24,
   "metadata": {},
   "outputs": [
    {
     "name": "stdout",
     "output_type": "stream",
     "text": [
      "된장찌개\n"
     ]
    }
   ],
   "source": [
    "print(foods[0])"
   ]
  },
  {
   "cell_type": "code",
   "execution_count": 25,
   "metadata": {},
   "outputs": [
    {
     "name": "stdout",
     "output_type": "stream",
     "text": [
      "피자\n"
     ]
    }
   ],
   "source": [
    "print(foods[1])"
   ]
  },
  {
   "cell_type": "code",
   "execution_count": 26,
   "metadata": {},
   "outputs": [
    {
     "name": "stdout",
     "output_type": "stream",
     "text": [
      "제육볶음\n"
     ]
    }
   ],
   "source": [
    "print(foods[2])"
   ]
  },
  {
   "cell_type": "code",
   "execution_count": 27,
   "metadata": {},
   "outputs": [],
   "source": [
    "foods = [\"된장찌개\", \"피자\", \"제육볶음\", \"된장찌개\"]\n",
    "foods_set1 = set(foods)"
   ]
  },
  {
   "cell_type": "code",
   "execution_count": 28,
   "metadata": {},
   "outputs": [
    {
     "name": "stdout",
     "output_type": "stream",
     "text": [
      "{'제육볶음', '피자', '된장찌개'}\n"
     ]
    }
   ],
   "source": [
    "print(foods_set1)"
   ]
  },
  {
   "cell_type": "code",
   "execution_count": 29,
   "metadata": {},
   "outputs": [
    {
     "name": "stdout",
     "output_type": "stream",
     "text": [
      "{'제육볶음', '피자', '된장찌개'}\n"
     ]
    }
   ],
   "source": [
    "foods_set2 = set([\"된장찌개\", \"피자\", \"제육볶음\"])\n",
    "print(foods_set2)"
   ]
  },
  {
   "cell_type": "code",
   "execution_count": 30,
   "metadata": {},
   "outputs": [
    {
     "name": "stdout",
     "output_type": "stream",
     "text": [
      "['된장찌개', '피자', '제육볶음', '된장찌개']\n"
     ]
    }
   ],
   "source": [
    "print(foods)"
   ]
  },
  {
   "cell_type": "code",
   "execution_count": 31,
   "metadata": {},
   "outputs": [],
   "source": [
    "foods_set = set(foods)"
   ]
  },
  {
   "cell_type": "code",
   "execution_count": 32,
   "metadata": {},
   "outputs": [
    {
     "name": "stdout",
     "output_type": "stream",
     "text": [
      "{'제육볶음', '피자', '된장찌개'}\n"
     ]
    }
   ],
   "source": [
    "print(foods_set)"
   ]
  },
  {
   "cell_type": "code",
   "execution_count": 33,
   "metadata": {},
   "outputs": [
    {
     "name": "stdout",
     "output_type": "stream",
     "text": [
      "{'제육볶음', '피자'}\n"
     ]
    }
   ],
   "source": [
    "menu1 = set([\"된장찌개\", \"피자\", \"제육볶음\"])\n",
    "menu2 = set([\"된장찌개\", \"떡국\", \"김밥\"])\n",
    "menu3 = menu1 - menu2\n",
    "print(menu3)"
   ]
  },
  {
   "cell_type": "code",
   "execution_count": 34,
   "metadata": {},
   "outputs": [],
   "source": [
    "import random"
   ]
  },
  {
   "cell_type": "code",
   "execution_count": 35,
   "metadata": {},
   "outputs": [
    {
     "name": "stdout",
     "output_type": "stream",
     "text": [
      "곱배기 주세요\n",
      "종료\n"
     ]
    }
   ],
   "source": [
    "food = random.choice([\"된장찌개\", \"피자\", \"제육볶음\"])\n",
    "if(food == \"제육볶음\"):\n",
    "    print(\"곱배기 주세요\")\n",
    "print(\"종료\")"
   ]
  },
  {
   "cell_type": "code",
   "execution_count": 36,
   "metadata": {},
   "outputs": [
    {
     "name": "stdout",
     "output_type": "stream",
     "text": [
      "곱배기 주세요\n",
      "종료\n"
     ]
    }
   ],
   "source": [
    "food = random.choice([\"된장찌개\", \"피자\", \"제육볶음\"])\n",
    "if(food == \"제육볶음\"):\n",
    "    print(\"곱배기 주세요\")\n",
    "print(\"종료\")"
   ]
  },
  {
   "cell_type": "code",
   "execution_count": 37,
   "metadata": {},
   "outputs": [
    {
     "name": "stdout",
     "output_type": "stream",
     "text": [
      "냉장고\n"
     ]
    }
   ],
   "source": [
    "print(lunch)"
   ]
  },
  {
   "cell_type": "code",
   "execution_count": 38,
   "metadata": {},
   "outputs": [
    {
     "name": "stdout",
     "output_type": "stream",
     "text": [
      "['된장찌개', '피자', '제육볶음', '짜장면']\n",
      "음식을 추가 해주세요 : 짬뽕\n",
      "['된장찌개', '피자', '제육볶음', '짜장면', '짬뽕']\n",
      "음식을 추가 해주세요 : q\n",
      "['된장찌개', '피자', '제육볶음', '짜장면', '짬뽕']\n"
     ]
    }
   ],
   "source": [
    "lunch = [\"된장찌개\", \"피자\", \"제육볶음\", \"짜장면\"]\n",
    "\n",
    "while True:\n",
    "    print(lunch)\n",
    "    item = input(\"음식을 추가 해주세요 : \")\n",
    "    if(item == \"q\"):\n",
    "        break\n",
    "    else:\n",
    "        lunch.append(item)\n",
    "print(lunch)"
   ]
  },
  {
   "cell_type": "code",
   "execution_count": 39,
   "metadata": {},
   "outputs": [
    {
     "name": "stdout",
     "output_type": "stream",
     "text": [
      "['된장찌개', '피자', '제육볶음', '짜장면', '짬뽕']\n"
     ]
    }
   ],
   "source": [
    "print(lunch)"
   ]
  },
  {
   "cell_type": "code",
   "execution_count": 40,
   "metadata": {},
   "outputs": [
    {
     "name": "stdout",
     "output_type": "stream",
     "text": [
      "['된장찌개', '피자', '제육볶음', '짜장면']\n",
      "음식을 추가 해주세요 : \n",
      "['된장찌개', '피자', '제육볶음', '짜장면', '']\n",
      "음식을 추가 해주세요 : q\n",
      "['된장찌개', '피자', '제육볶음', '짜장면', '']\n"
     ]
    }
   ],
   "source": [
    "lunch = [\"된장찌개\", \"피자\", \"제육볶음\", \"짜장면\"]\n",
    "\n",
    "while True:\n",
    "    print(lunch)\n",
    "    item = input(\"음식을 추가 해주세요 : \")\n",
    "    if(item == \"q\"):\n",
    "        break\n",
    "    else:\n",
    "        lunch.append(item)\n",
    "    \n",
    "print(lunch)\n"
   ]
  },
  {
   "cell_type": "code",
   "execution_count": 41,
   "metadata": {},
   "outputs": [
    {
     "name": "stdout",
     "output_type": "stream",
     "text": [
      "['된장찌개', '피자', '제육볶음', '짜장면', '']\n"
     ]
    }
   ],
   "source": [
    "print(lunch)"
   ]
  },
  {
   "cell_type": "code",
   "execution_count": 42,
   "metadata": {},
   "outputs": [],
   "source": [
    "set_lunch = set(lunch)"
   ]
  },
  {
   "cell_type": "code",
   "execution_count": 43,
   "metadata": {},
   "outputs": [
    {
     "name": "stdout",
     "output_type": "stream",
     "text": [
      "['된장찌개', '피자', '제육볶음', '짜장면']\n",
      "음식을 추가 해주세요 : q\n",
      "['된장찌개', '피자', '제육볶음', '짜장면']\n"
     ]
    }
   ],
   "source": [
    "lunch = [\"된장찌개\", \"피자\", \"제육볶음\", \"짜장면\"]\n",
    "\n",
    "while True:\n",
    "    print(lunch)\n",
    "    item = input(\"음식을 추가 해주세요 : \")\n",
    "    if(item == \"q\"):\n",
    "        break\n",
    "    else:\n",
    "        lunch.append(item)\n",
    "    \n",
    "print(lunch)\n",
    "set_lunch = set(lunch)"
   ]
  },
  {
   "cell_type": "code",
   "execution_count": null,
   "metadata": {},
   "outputs": [],
   "source": [
    "lunch = [\"된장찌개\", \"피자\", \"치킨\"]\n",
    "while True:\n",
    "    print(lunch)\n",
    "    item = input(\"음식을 추가 해주세요 : \")\n",
    "    if(item == \"q\"):\n",
    "        break\n",
    "    else:\n",
    "        lunch.append(item)\n",
    "    "
   ]
  },
  {
   "cell_type": "code",
   "execution_count": 44,
   "metadata": {},
   "outputs": [],
   "source": [
    "set_dinner = set([\"된장찌개\", \"피자\", \"\"])"
   ]
  },
  {
   "cell_type": "code",
   "execution_count": 45,
   "metadata": {},
   "outputs": [
    {
     "name": "stdout",
     "output_type": "stream",
     "text": [
      "['된장찌개', '피자', '제육볶음', '짜장면']\n",
      "음식을 추가 해주세요 : q\n",
      "['된장찌개', '피자', '제육볶음', '짜장면']\n",
      "{'제육볶음', '짜장면', '피자', '된장찌개'}\n",
      "음식을 삭제해주세요 : q\n",
      "{'제육볶음', '짜장면', '피자', '된장찌개'} 중에서 선택합니다.\n",
      "5\n",
      "4\n",
      "3\n",
      "2\n",
      "1\n",
      "피자\n"
     ]
    }
   ],
   "source": [
    "import random\n",
    "import time\n",
    "\n",
    "lunch = [\"된장찌개\", \"피자\", \"제육볶음\", \"짜장면\"]\n",
    "\n",
    "while True:\n",
    "    print(lunch)\n",
    "    item = input(\"음식을 추가 해주세요 : \")\n",
    "    if(item == \"q\"):\n",
    "        break\n",
    "    else:\n",
    "        lunch.append(item)\n",
    "print(lunch)\n",
    "\n",
    "set_lunch = set(lunch)\n",
    "while True:\n",
    "    print(set_lunch)\n",
    "    item = input(\"음식을 삭제해주세요 : \")\n",
    "    if(item == \"q\"):\n",
    "        break\n",
    "    else:\n",
    "        set_lunch = set_lunch - set([item])\n",
    "\n",
    "print(set_lunch, \"중에서 선택합니다.\")\n",
    "print(\"5\")\n",
    "time.sleep(1)\n",
    "print(\"4\")\n",
    "time.sleep(1)\n",
    "print(\"3\")\n",
    "time.sleep(1)\n",
    "print(\"2\")\n",
    "time.sleep(1)\n",
    "print(\"1\")\n",
    "time.sleep(1)\n",
    "print(random.choice(list(set_lunch)))"
   ]
  },
  {
   "cell_type": "code",
   "execution_count": 4,
   "metadata": {},
   "outputs": [
    {
     "name": "stdout",
     "output_type": "stream",
     "text": [
      "['된장찌개', '피자', '제육볶음', '짜장면']\n",
      "음식을 추가 해 주세요 :돈까스\n",
      "['된장찌개', '피자', '제육볶음', '짜장면', '돈까스']\n",
      "음식을 추가 해 주세요 :q\n",
      "['된장찌개', '피자', '제육볶음', '짜장면', '돈까스']\n",
      "{'된장찌개', '돈까스', '피자', '짜장면', '제육볶음'}\n",
      "음식을 삭제 해 주세요 : 피자\n",
      "{'된장찌개', '돈까스', '제육볶음', '짜장면'}\n",
      "음식을 삭제 해 주세요 : q\n",
      "{'된장찌개', '돈까스', '제육볶음', '짜장면'} 중에서 선택합니다\n",
      "5\n",
      "4\n",
      "3\n",
      "2\n",
      "1\n",
      "제육볶음\n"
     ]
    }
   ],
   "source": [
    "import random\n",
    "import time\n",
    "\n",
    "lunch = [\"된장찌개\", \"피자\", \"제육볶음\", \"짜장면\"]\n",
    "\n",
    "while True:\n",
    "    print(lunch)\n",
    "    item = input(\"음식을 추가 해 주세요 :\")\n",
    "    if(item == \"q\"):\n",
    "        break\n",
    "    else:\n",
    "        lunch.append(item)\n",
    "print(lunch)\n",
    "set_lunch = set(lunch)\n",
    "while True:\n",
    "    print(set_lunch)\n",
    "    item = input(\"음식을 삭제 해 주세요 : \")\n",
    "    if(item ==\"q\"):\n",
    "        break\n",
    "    else:\n",
    "        set_lunch = set_lunch - set([item])\n",
    "print(set_lunch, \"중에서 선택합니다\")\n",
    "print(\"5\")\n",
    "time.sleep(1)\n",
    "print(\"4\")\n",
    "time.sleep(1)\n",
    "print(\"3\")\n",
    "time.sleep(1)\n",
    "print(\"2\")\n",
    "time.sleep(1)\n",
    "print(\"1\")\n",
    "time.sleep(1)\n",
    "print(random.choice(list(set_lunch)))\n",
    "\n",
    "\n",
    "\n"
   ]
  },
  {
   "cell_type": "code",
   "execution_count": 46,
   "metadata": {},
   "outputs": [],
   "source": [
    "def make_dolcelatte():\n",
    "    print(\"1. 얼음을 넣는다.\")\n",
    "    print(\"2. 연우를 30ml 넣는다.\")\n",
    "    print(\"3. 찬 우유를 넣는다.\")\n",
    "    print(\"4. 에스프레소샷을 넣는다.\")\n",
    "    "
   ]
  },
  {
   "cell_type": "code",
   "execution_count": 48,
   "metadata": {},
   "outputs": [
    {
     "name": "stdout",
     "output_type": "stream",
     "text": [
      "1. 얼음을 넣는다.\n",
      "2. 연우를 30ml 넣는다.\n",
      "3. 찬 우유를 넣는다.\n",
      "4. 에스프레소샷을 넣는다.\n"
     ]
    }
   ],
   "source": [
    "make_dolcelatte()"
   ]
  },
  {
   "cell_type": "code",
   "execution_count": 49,
   "metadata": {},
   "outputs": [
    {
     "name": "stdout",
     "output_type": "stream",
     "text": [
      "질문을 입력해주세요 : q\n",
      "[]\n"
     ]
    }
   ],
   "source": [
    "total_list = []\n",
    "\n",
    "while True:\n",
    "    question = input(\"질문을 입력해주세요 : \")\n",
    "    if question == \"q\":\n",
    "        break\n",
    "    else:\n",
    "        total_list.append({\"질문\" : question, \"답변\" : \"\"})\n",
    "\n",
    "for i in total_list:\n",
    "    print(i[\"질문\"])\n",
    "    answer = input(\"답변을 입력해 주세요 :\")\n",
    "    i[\"답변\"] = answer\n",
    "print(total_list)\n",
    "    "
   ]
  },
  {
   "cell_type": "code",
   "execution_count": 50,
   "metadata": {},
   "outputs": [
    {
     "name": "stdout",
     "output_type": "stream",
     "text": [
      "이름을 입력해주세요 : q\n",
      "q씨 안녕!!\n"
     ]
    }
   ],
   "source": [
    "name = input(\"이름을 입력해주세요 : \")\n",
    "\n",
    "print(name + \"씨 안녕!!\")"
   ]
  },
  {
   "cell_type": "code",
   "execution_count": 52,
   "metadata": {},
   "outputs": [
    {
     "name": "stdout",
     "output_type": "stream",
     "text": [
      "내가 먹은 음식의 가격 : 1000\n",
      "친구가 먹은 음식의 가격 : 1000\n",
      "2000\n"
     ]
    }
   ],
   "source": [
    "food1 = input(\"내가 먹은 음식의 가격 : \")\n",
    "food2 = input(\"친구가 먹은 음식의 가격 : \")\n",
    "\n",
    "food1 = int(food1)\n",
    "food2 = int(food2)\n",
    "\n",
    "\n",
    "print(food1 + food2)"
   ]
  },
  {
   "cell_type": "code",
   "execution_count": 53,
   "metadata": {},
   "outputs": [
    {
     "name": "stdout",
     "output_type": "stream",
     "text": [
      "30\n"
     ]
    }
   ],
   "source": [
    "print(10+20)"
   ]
  },
  {
   "cell_type": "code",
   "execution_count": 54,
   "metadata": {},
   "outputs": [
    {
     "name": "stdout",
     "output_type": "stream",
     "text": [
      "-10\n"
     ]
    }
   ],
   "source": [
    "print(10-20)"
   ]
  },
  {
   "cell_type": "code",
   "execution_count": 55,
   "metadata": {},
   "outputs": [
    {
     "name": "stdout",
     "output_type": "stream",
     "text": [
      "월세를 입력해 주세요 : 1000\n",
      "관리비를 입력해 주세요 : 1000\n",
      "2000\n"
     ]
    }
   ],
   "source": [
    "월세 = input(\"월세를 입력해 주세요 : \")\n",
    "관리비 = input(\"관리비를 입력해 주세요 : \")\n",
    "\n",
    "월세 = int(월세)\n",
    "관리비 = int(관리비)\n",
    "print(월세+관리비)"
   ]
  },
  {
   "cell_type": "code",
   "execution_count": 56,
   "metadata": {},
   "outputs": [
    {
     "name": "stdout",
     "output_type": "stream",
     "text": [
      "0\n"
     ]
    }
   ],
   "source": [
    "print(월세 - 관리비)"
   ]
  },
  {
   "cell_type": "code",
   "execution_count": 57,
   "metadata": {},
   "outputs": [
    {
     "name": "stdout",
     "output_type": "stream",
     "text": [
      "24000\n"
     ]
    }
   ],
   "source": [
    "print((월세+관리비)*12)"
   ]
  },
  {
   "cell_type": "code",
   "execution_count": 58,
   "metadata": {},
   "outputs": [
    {
     "name": "stdout",
     "output_type": "stream",
     "text": [
      "1.0\n"
     ]
    }
   ],
   "source": [
    "print(월세/관리비)"
   ]
  },
  {
   "cell_type": "code",
   "execution_count": 59,
   "metadata": {},
   "outputs": [
    {
     "name": "stdout",
     "output_type": "stream",
     "text": [
      "[]\n"
     ]
    }
   ],
   "source": [
    "orders = []\n",
    "\n",
    "print(orders)"
   ]
  },
  {
   "cell_type": "code",
   "execution_count": 60,
   "metadata": {},
   "outputs": [
    {
     "name": "stdout",
     "output_type": "stream",
     "text": [
      "[]\n"
     ]
    }
   ],
   "source": [
    "python = []\n",
    "print(python)"
   ]
  },
  {
   "cell_type": "code",
   "execution_count": 61,
   "metadata": {},
   "outputs": [
    {
     "name": "stdout",
     "output_type": "stream",
     "text": [
      "['짜장', '짬뽕', '탕수육']\n"
     ]
    }
   ],
   "source": [
    "orders = [\"짜장\", \"짬뽕\", \"탕수육\"]\n",
    "print(orders)"
   ]
  },
  {
   "cell_type": "code",
   "execution_count": 62,
   "metadata": {},
   "outputs": [
    {
     "name": "stdout",
     "output_type": "stream",
     "text": [
      "짬뽕\n"
     ]
    }
   ],
   "source": [
    "print(orders[1])"
   ]
  },
  {
   "cell_type": "code",
   "execution_count": 63,
   "metadata": {},
   "outputs": [
    {
     "name": "stdout",
     "output_type": "stream",
     "text": [
      "[10, 20, 30, 40, 50]\n"
     ]
    }
   ],
   "source": [
    "number = [10,20,30,40,50]\n",
    "print(number)"
   ]
  },
  {
   "cell_type": "code",
   "execution_count": 64,
   "metadata": {},
   "outputs": [
    {
     "name": "stdout",
     "output_type": "stream",
     "text": [
      "['짜장', '짬뽕', '탕수육']\n"
     ]
    }
   ],
   "source": [
    "print(orders)"
   ]
  },
  {
   "cell_type": "code",
   "execution_count": 65,
   "metadata": {},
   "outputs": [
    {
     "name": "stdout",
     "output_type": "stream",
     "text": [
      "['짜장', '짬뽕', '탕수육', '냉면']\n"
     ]
    }
   ],
   "source": [
    "orders.insert(3,\"냉면\")\n",
    "print(orders)"
   ]
  },
  {
   "cell_type": "code",
   "execution_count": 66,
   "metadata": {},
   "outputs": [
    {
     "name": "stdout",
     "output_type": "stream",
     "text": [
      "['짜장', '짬뽕', '탕수육', '양장피', '냉면']\n"
     ]
    }
   ],
   "source": [
    "orders.insert(3, \"양장피\")\n",
    "print(orders)"
   ]
  },
  {
   "cell_type": "code",
   "execution_count": 67,
   "metadata": {},
   "outputs": [
    {
     "name": "stdout",
     "output_type": "stream",
     "text": [
      "['짜장', '탕수육', '양장피', '냉면']\n"
     ]
    }
   ],
   "source": [
    "del orders[1]\n",
    "print(orders)"
   ]
  },
  {
   "cell_type": "code",
   "execution_count": 68,
   "metadata": {},
   "outputs": [
    {
     "name": "stdout",
     "output_type": "stream",
     "text": [
      "['짜장', '탕수육', '양장피']\n"
     ]
    }
   ],
   "source": [
    "orders.remove(\"냉면\")\n",
    "print(orders)"
   ]
  },
  {
   "cell_type": "code",
   "execution_count": 69,
   "metadata": {},
   "outputs": [],
   "source": [
    "orders = (\"짜장\", \"짬뽕\", \"탕스육\")"
   ]
  },
  {
   "cell_type": "code",
   "execution_count": 70,
   "metadata": {},
   "outputs": [
    {
     "name": "stdout",
     "output_type": "stream",
     "text": [
      "('짜장', '짬뽕', '탕스육')\n"
     ]
    }
   ],
   "source": [
    "print(orders)"
   ]
  },
  {
   "cell_type": "code",
   "execution_count": 71,
   "metadata": {},
   "outputs": [
    {
     "name": "stdout",
     "output_type": "stream",
     "text": [
      "3\n"
     ]
    }
   ],
   "source": [
    "print(len(orders))"
   ]
  },
  {
   "cell_type": "code",
   "execution_count": 72,
   "metadata": {},
   "outputs": [],
   "source": [
    "name = \"안녕하세요 저는 조희창입니다\""
   ]
  },
  {
   "cell_type": "code",
   "execution_count": 73,
   "metadata": {},
   "outputs": [
    {
     "name": "stdout",
     "output_type": "stream",
     "text": [
      "안녕하세요 저는 조희창입니다\n"
     ]
    }
   ],
   "source": [
    "print(name)"
   ]
  },
  {
   "cell_type": "code",
   "execution_count": 74,
   "metadata": {},
   "outputs": [
    {
     "name": "stdout",
     "output_type": "stream",
     "text": [
      "15\n"
     ]
    }
   ],
   "source": [
    "print(len(name))"
   ]
  },
  {
   "cell_type": "code",
   "execution_count": 75,
   "metadata": {},
   "outputs": [
    {
     "name": "stdout",
     "output_type": "stream",
     "text": [
      "[20, 40, 50, 10, 30]\n"
     ]
    }
   ],
   "source": [
    "num = [20,40,50,10,30]\n",
    "\n",
    "print(num)"
   ]
  },
  {
   "cell_type": "code",
   "execution_count": 76,
   "metadata": {},
   "outputs": [
    {
     "name": "stdout",
     "output_type": "stream",
     "text": [
      "[2, 7, 9, 8, 1]\n"
     ]
    }
   ],
   "source": [
    "numList = [2,7,9,8,1]\n",
    "print(numList)"
   ]
  },
  {
   "cell_type": "code",
   "execution_count": 77,
   "metadata": {},
   "outputs": [
    {
     "name": "stdout",
     "output_type": "stream",
     "text": [
      "27\n"
     ]
    }
   ],
   "source": [
    "print(sum(numList))"
   ]
  },
  {
   "cell_type": "code",
   "execution_count": 78,
   "metadata": {},
   "outputs": [
    {
     "name": "stdout",
     "output_type": "stream",
     "text": [
      "5\n"
     ]
    }
   ],
   "source": [
    "print(len(numList))"
   ]
  },
  {
   "cell_type": "code",
   "execution_count": 79,
   "metadata": {},
   "outputs": [
    {
     "name": "stdout",
     "output_type": "stream",
     "text": [
      "150\n"
     ]
    }
   ],
   "source": [
    "print(sum(num))"
   ]
  },
  {
   "cell_type": "code",
   "execution_count": 80,
   "metadata": {},
   "outputs": [
    {
     "data": {
      "text/plain": [
       "30.0"
      ]
     },
     "execution_count": 80,
     "metadata": {},
     "output_type": "execute_result"
    }
   ],
   "source": [
    "150/5"
   ]
  },
  {
   "cell_type": "code",
   "execution_count": 81,
   "metadata": {},
   "outputs": [
    {
     "name": "stdout",
     "output_type": "stream",
     "text": [
      "30.0\n"
     ]
    }
   ],
   "source": [
    "print(sum(num)/5)"
   ]
  },
  {
   "cell_type": "code",
   "execution_count": 82,
   "metadata": {},
   "outputs": [
    {
     "name": "stdout",
     "output_type": "stream",
     "text": [
      "30.0\n"
     ]
    }
   ],
   "source": [
    "print(sum(num)/len(num))"
   ]
  },
  {
   "cell_type": "code",
   "execution_count": 83,
   "metadata": {},
   "outputs": [
    {
     "data": {
      "text/plain": [
       "50"
      ]
     },
     "execution_count": 83,
     "metadata": {},
     "output_type": "execute_result"
    }
   ],
   "source": [
    "max(num)"
   ]
  },
  {
   "cell_type": "code",
   "execution_count": 84,
   "metadata": {},
   "outputs": [
    {
     "data": {
      "text/plain": [
       "10"
      ]
     },
     "execution_count": 84,
     "metadata": {},
     "output_type": "execute_result"
    }
   ],
   "source": [
    "min(num)"
   ]
  },
  {
   "cell_type": "code",
   "execution_count": 85,
   "metadata": {},
   "outputs": [
    {
     "name": "stdout",
     "output_type": "stream",
     "text": [
      "50\n",
      "10\n"
     ]
    }
   ],
   "source": [
    "print(max(num))\n",
    "print(min(num))"
   ]
  },
  {
   "cell_type": "code",
   "execution_count": 86,
   "metadata": {},
   "outputs": [],
   "source": [
    "menu = {\"짜장\" : 4000, \"짬뽕\" : 5000, \"탕수육\" : 9000}"
   ]
  },
  {
   "cell_type": "code",
   "execution_count": 87,
   "metadata": {},
   "outputs": [
    {
     "name": "stdout",
     "output_type": "stream",
     "text": [
      "{'짜장': 4000, '짬뽕': 5000, '탕수육': 9000}\n"
     ]
    }
   ],
   "source": [
    "print(menu)"
   ]
  },
  {
   "cell_type": "code",
   "execution_count": 88,
   "metadata": {},
   "outputs": [],
   "source": [
    "menu[\"냉면\"] = 6000"
   ]
  },
  {
   "cell_type": "code",
   "execution_count": 89,
   "metadata": {},
   "outputs": [
    {
     "data": {
      "text/plain": [
       "{'짜장': 4000, '짬뽕': 5000, '탕수육': 9000, '냉면': 6000}"
      ]
     },
     "execution_count": 89,
     "metadata": {},
     "output_type": "execute_result"
    }
   ],
   "source": [
    "menu"
   ]
  },
  {
   "cell_type": "code",
   "execution_count": 90,
   "metadata": {},
   "outputs": [
    {
     "name": "stdout",
     "output_type": "stream",
     "text": [
      "5000\n"
     ]
    }
   ],
   "source": [
    "print(menu[\"짬뽕\"])"
   ]
  },
  {
   "cell_type": "code",
   "execution_count": 91,
   "metadata": {},
   "outputs": [],
   "source": [
    "menu[\"탕수육\"] = 8500"
   ]
  },
  {
   "cell_type": "code",
   "execution_count": 92,
   "metadata": {},
   "outputs": [
    {
     "name": "stdout",
     "output_type": "stream",
     "text": [
      "{'짜장': 4000, '짬뽕': 5000, '탕수육': 8500, '냉면': 6000}\n"
     ]
    }
   ],
   "source": [
    "print(menu)"
   ]
  },
  {
   "cell_type": "code",
   "execution_count": 93,
   "metadata": {},
   "outputs": [
    {
     "name": "stdout",
     "output_type": "stream",
     "text": [
      "{'짬뽕': 5000, '탕수육': 8500, '냉면': 6000}\n"
     ]
    }
   ],
   "source": [
    "del menu[\"짜장\"]\n",
    "print(menu)"
   ]
  },
  {
   "cell_type": "code",
   "execution_count": 95,
   "metadata": {},
   "outputs": [
    {
     "name": "stdout",
     "output_type": "stream",
     "text": [
      "학번을 입력하세요 : 2016612\n",
      "학번을 입력하세요 : 6016633\n",
      "누구세요?\n"
     ]
    }
   ],
   "source": [
    "myGrade = int(input(\"학번을 입력하세요 : \"))\n",
    "yourGrade = int(input(\"학번을 입력하세요 : \"))\n",
    "\n",
    "if myGrade == yourGrade :\n",
    "    print(\"안녕하세요 동기님!\")\n",
    "elif myGrade > yourGrade :\n",
    "    print(\"안녕하세요 선배님!\")\n",
    "else :\n",
    "    print(\"누구세요?\")"
   ]
  },
  {
   "cell_type": "code",
   "execution_count": 96,
   "metadata": {},
   "outputs": [
    {
     "name": "stdout",
     "output_type": "stream",
     "text": [
      "먹고싶은 메뉴를 입력해주세요 : 짜장\n",
      "주문할 수 있습니다.\n"
     ]
    }
   ],
   "source": [
    "orders = [\"짜장\", \"짬뽕\", \"탕수육\"]\n",
    "\n",
    "food = input(\"먹고싶은 메뉴를 입력해주세요 : \")\n",
    "\n",
    "if food in orders : \n",
    "    print(\"주문할 수 있습니다.\")\n",
    "else :\n",
    "    print(\"주문할 수 없습니다\")"
   ]
  },
  {
   "cell_type": "code",
   "execution_count": 40,
   "metadata": {},
   "outputs": [
    {
     "name": "stdout",
     "output_type": "stream",
     "text": [
      "먹고싶은 메뉴를 입력해주세요 : 짜장\n",
      "주문 가능합니다\n"
     ]
    }
   ],
   "source": [
    "menu = {\"짜장\" : 4000, \"짬뽕\" : 5000, \"탕수육\" : 9000}\n",
    "\n",
    "food = input(\"먹고싶은 메뉴를 입력해주세요 : \")\n",
    "\n",
    "if food in menu :\n",
    "    print(\"주문 가능합니다\")\n",
    "else : \n",
    "    print(\"주문 불가합니다\")"
   ]
  },
  {
   "cell_type": "code",
   "execution_count": 97,
   "metadata": {},
   "outputs": [
    {
     "name": "stdout",
     "output_type": "stream",
     "text": [
      "0\n",
      "1\n",
      "2\n",
      "3\n",
      "4\n",
      "5\n"
     ]
    }
   ],
   "source": [
    "i = 0\n",
    "\n",
    "while i < 6 :\n",
    "    print(i)\n",
    "    i = i+1"
   ]
  },
  {
   "cell_type": "code",
   "execution_count": 98,
   "metadata": {},
   "outputs": [
    {
     "name": "stdout",
     "output_type": "stream",
     "text": [
      "5\n",
      "4\n",
      "3\n",
      "2\n",
      "1\n",
      "0\n"
     ]
    }
   ],
   "source": [
    "i = 5\n",
    "while i >= 0:\n",
    "    print(i)\n",
    "    i = i-1"
   ]
  },
  {
   "cell_type": "code",
   "execution_count": 99,
   "metadata": {},
   "outputs": [
    {
     "name": "stdout",
     "output_type": "stream",
     "text": [
      "0\n",
      "1\n",
      "2\n",
      "if문 동작\n",
      "반복문 종료!\n"
     ]
    }
   ],
   "source": [
    "i = 0\n",
    "while True :\n",
    "    print(i)\n",
    "    i = i+1\n",
    "    \n",
    "    if i >= 3 :\n",
    "        print(\"if문 동작\")\n",
    "        break\n",
    "print(\"반복문 종료!\")"
   ]
  },
  {
   "cell_type": "code",
   "execution_count": 100,
   "metadata": {},
   "outputs": [
    {
     "name": "stdout",
     "output_type": "stream",
     "text": [
      "1\n",
      "3\n",
      "5\n",
      "7\n",
      "9\n",
      "반복종료\n"
     ]
    }
   ],
   "source": [
    "i = 0\n",
    "while i < 10 :\n",
    "    i = i+ 1\n",
    "    \n",
    "    if i % 2 == 0 :\n",
    "        continue\n",
    "    print(i)\n",
    "print(\"반복종료\")"
   ]
  },
  {
   "cell_type": "code",
   "execution_count": 101,
   "metadata": {},
   "outputs": [
    {
     "name": "stdout",
     "output_type": "stream",
     "text": [
      "안녕히가세요\n",
      "안녕히가세요\n",
      "안녕히가세요\n",
      "안녕히가세요\n"
     ]
    }
   ],
   "source": [
    "for x in range(4) :\n",
    "    print(\"안녕히가세요\")"
   ]
  },
  {
   "cell_type": "code",
   "execution_count": 102,
   "metadata": {},
   "outputs": [
    {
     "name": "stdout",
     "output_type": "stream",
     "text": [
      "2\n",
      "4\n",
      "6\n",
      "8\n",
      "10\n",
      "12\n",
      "14\n",
      "16\n",
      "18\n",
      "20\n",
      "22\n",
      "24\n",
      "26\n",
      "28\n",
      "30\n"
     ]
    }
   ],
   "source": [
    "for x in range(2, 31, 2) :\n",
    "    print(x)\n",
    "    "
   ]
  },
  {
   "cell_type": "code",
   "execution_count": 103,
   "metadata": {},
   "outputs": [
    {
     "name": "stdout",
     "output_type": "stream",
     "text": [
      "3628800\n"
     ]
    }
   ],
   "source": [
    "result = 1\n",
    "\n",
    "for x in range(1,11) :\n",
    "    result = result * x \n",
    "print(result)"
   ]
  },
  {
   "cell_type": "code",
   "execution_count": 109,
   "metadata": {},
   "outputs": [
    {
     "name": "stdout",
     "output_type": "stream",
     "text": [
      "숫자를 입력해 주세요 : 1\n",
      "1\n"
     ]
    }
   ],
   "source": [
    "x = int(input(\"숫자를 입력해 주세요 : \"))\n",
    "\n",
    "for i in range(x) :\n",
    "    print(i+1)"
   ]
  },
  {
   "cell_type": "code",
   "execution_count": 110,
   "metadata": {},
   "outputs": [
    {
     "name": "stdout",
     "output_type": "stream",
     "text": [
      "[21, 19, 43, 13, 36, 9, 39, 7, 8, 41]\n"
     ]
    }
   ],
   "source": [
    "import random\n",
    "\n",
    "randomNumber = random.sample(range(1,50), 10)\n",
    "print(randomNumber)"
   ]
  },
  {
   "cell_type": "code",
   "execution_count": 114,
   "metadata": {},
   "outputs": [
    {
     "name": "stdout",
     "output_type": "stream",
     "text": [
      "<class 'str'>\n",
      "<class 'bs4.BeautifulSoup'>\n"
     ]
    }
   ],
   "source": [
    "import requests\n",
    "from bs4 import BeautifulSoup\n",
    "\n",
    "url = \"http://www.daum.net\"\n",
    "requests.get(url)\n",
    "\n",
    "\n",
    "response = requests.get(url)\n",
    "print(type(response.text))\n",
    "\n",
    "print(type(BeautifulSoup(response.text, \"html.parser\")))"
   ]
  },
  {
   "cell_type": "code",
   "execution_count": 16,
   "metadata": {},
   "outputs": [
    {
     "name": "stdout",
     "output_type": "stream",
     "text": [
      "Collecting bs4\n",
      "  Downloading bs4-0.0.1.tar.gz (1.1 kB)\n",
      "Requirement already satisfied: beautifulsoup4 in c:\\users\\gmlck\\anaconda3\\lib\\site-packages (from bs4) (4.9.3)\n",
      "Requirement already satisfied: soupsieve>1.2; python_version >= \"3.0\" in c:\\users\\gmlck\\anaconda3\\lib\\site-packages (from beautifulsoup4->bs4) (2.0.1)\n",
      "Building wheels for collected packages: bs4\n",
      "  Building wheel for bs4 (setup.py): started\n",
      "  Building wheel for bs4 (setup.py): finished with status 'done'\n",
      "  Created wheel for bs4: filename=bs4-0.0.1-py3-none-any.whl size=1277 sha256=6924c81e6e0a74370a867da54ef67a6e05d97b861d78f745cfb234056231c2d6\n",
      "  Stored in directory: c:\\users\\gmlck\\appdata\\local\\pip\\cache\\wheels\\75\\78\\21\\68b124549c9bdc94f822c02fb9aa3578a669843f9767776bca\n",
      "Successfully built bs4\n",
      "Installing collected packages: bs4\n",
      "Successfully installed bs4-0.0.1\n",
      "Note: you may need to restart the kernel to use updated packages.\n"
     ]
    }
   ],
   "source": [
    "pip install bs4"
   ]
  }
 ],
 "metadata": {
  "kernelspec": {
   "display_name": "Python 3",
   "language": "python",
   "name": "python3"
  },
  "language_info": {
   "codemirror_mode": {
    "name": "ipython",
    "version": 3
   },
   "file_extension": ".py",
   "mimetype": "text/x-python",
   "name": "python",
   "nbconvert_exporter": "python",
   "pygments_lexer": "ipython3",
   "version": "3.8.5"
  }
 },
 "nbformat": 4,
 "nbformat_minor": 4
}
