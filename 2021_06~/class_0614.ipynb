{
 "cells": [
  {
   "cell_type": "code",
   "execution_count": 3,
   "metadata": {},
   "outputs": [],
   "source": [
    "from urllib.request import urlopen\n",
    "from bs4 import BeautifulSoup"
   ]
  },
  {
   "cell_type": "code",
   "execution_count": 5,
   "metadata": {},
   "outputs": [],
   "source": [
    "url = \"https://finance.naver.com/sise/\""
   ]
  },
  {
   "cell_type": "code",
   "execution_count": 6,
   "metadata": {},
   "outputs": [
    {
     "data": {
      "text/plain": [
       "bs4.BeautifulSoup"
      ]
     },
     "execution_count": 6,
     "metadata": {},
     "output_type": "execute_result"
    }
   ],
   "source": [
    "page = urlopen(url)\n",
    "soup = BeautifulSoup(page, \"html.parser\")\n",
    "type(soup)"
   ]
  },
  {
   "cell_type": "code",
   "execution_count": 11,
   "metadata": {},
   "outputs": [
    {
     "name": "stdout",
     "output_type": "stream",
     "text": [
      "현재 코스피 지수는 :  3,250.47\n"
     ]
    }
   ],
   "source": [
    "### id를 이용해서 정보를 가져올 수 있다.\n",
    "# tag : span\n",
    "# id : KOSPI_now\n",
    "kospi = soup.find(\"span\", id = \"KOSPI_now\").text\n",
    "print(\"현재 코스피 지수는 : \", kospi)"
   ]
  },
  {
   "cell_type": "code",
   "execution_count": 14,
   "metadata": {},
   "outputs": [
    {
     "name": "stdout",
     "output_type": "stream",
     "text": [
      "현재 코스닥 지수는 :  997.10\n"
     ]
    }
   ],
   "source": [
    "kosdaq = soup.find(\"span\", id = \"KOSDAQ_now\").text\n",
    "print(\"현재 코스닥 지수는 : \", kosdaq)"
   ]
  },
  {
   "cell_type": "code",
   "execution_count": 15,
   "metadata": {},
   "outputs": [
    {
     "name": "stdout",
     "output_type": "stream",
     "text": [
      "현재 코스피200 지수는 :  433.20\n"
     ]
    }
   ],
   "source": [
    "kospi200 = soup.find(\"span\", id = \"KPI200_now\").text\n",
    "print(\"현재 코스피200 지수는 : \", kospi200)"
   ]
  },
  {
   "cell_type": "code",
   "execution_count": 16,
   "metadata": {},
   "outputs": [],
   "source": [
    "### 프로그램 매매동향 가져오기"
   ]
  },
  {
   "cell_type": "code",
   "execution_count": 20,
   "metadata": {},
   "outputs": [
    {
     "name": "stdout",
     "output_type": "stream",
     "text": [
      "<dl class=\"trend\" id=\"basis_trend\">\n",
      "<dt><a href=\"/sise/sise_program.nhn\" onclick=\"clickcr(this,'mqu*o.ptrading','','',event);\"><span class=\"blind\">프로그램 매매동향</span></a></dt>\n",
      "<dd class=\"profit\">\n",
      "<p>차익</p>\n",
      "<a class=\"dn\" href=\"/sise/sise_program.nhn\"><em>-214</em>억</a>\n",
      "</dd>\n",
      "<dd class=\"loss\">\n",
      "<p>비차익</p>\n",
      "<a class=\"dn\" href=\"/sise/sise_program.nhn\"><em>-1,014</em>억</a>\n",
      "</dd>\n",
      "<dd class=\"total\">\n",
      "<p>전체</p>\n",
      "<a class=\"dn\" href=\"/sise/sise_program.nhn\"><em>-1,228</em>억</a>\n",
      "</dd>\n",
      "</dl>\n"
     ]
    }
   ],
   "source": [
    "trend=soup.find(\"dl\", id = \"basis_trend\")\n",
    "print(trend)"
   ]
  },
  {
   "cell_type": "code",
   "execution_count": 21,
   "metadata": {},
   "outputs": [
    {
     "data": {
      "text/plain": [
       "<div class=\"b\" id=\"tab_sel3_risefall\" style=\"display:none\">\n",
       "<dl class=\"basis\">\n",
       "<dt><span class=\"blind\">베이시스</span></dt>\n",
       "<dd class=\"dn\" id=\"kpi200_basis\">-1.10<em><span class=\"blind\">백워데이션</span></em></dd>\n",
       "</dl>\n",
       "<em class=\"bar\"> </em>\n",
       "<!-- [D] 코스피 탭과 코스닥 탭의 프로그램 매매동향과 구조가 동일합니다. -->\n",
       "<dl class=\"trend\" id=\"basis_trend\">\n",
       "<dt><a href=\"/sise/sise_program.nhn\" onclick=\"clickcr(this,'mqu*o.ptrading','','',event);\"><span class=\"blind\">프로그램 매매동향</span></a></dt>\n",
       "<dd class=\"profit\">\n",
       "<p>차익</p>\n",
       "<a class=\"dn\" href=\"/sise/sise_program.nhn\"><em>-214</em>억</a>\n",
       "</dd>\n",
       "<dd class=\"loss\">\n",
       "<p>비차익</p>\n",
       "<a class=\"dn\" href=\"/sise/sise_program.nhn\"><em>-1,014</em>억</a>\n",
       "</dd>\n",
       "<dd class=\"total\">\n",
       "<p>전체</p>\n",
       "<a class=\"dn\" href=\"/sise/sise_program.nhn\"><em>-1,228</em>억</a>\n",
       "</dd>\n",
       "</dl>\n",
       "</div>"
      ]
     },
     "execution_count": 21,
     "metadata": {},
     "output_type": "execute_result"
    }
   ],
   "source": [
    "soup.find(\"div\", id = \"tab_sel3_risefall\")"
   ]
  },
  {
   "cell_type": "code",
   "execution_count": 22,
   "metadata": {},
   "outputs": [
    {
     "data": {
      "text/plain": [
       "'\\n차익\\n-214억\\n'"
      ]
     },
     "execution_count": 22,
     "metadata": {},
     "output_type": "execute_result"
    }
   ],
   "source": [
    "soup_p=soup.find(\"div\", id = \"tab_sel3_risefall\").find(\"dd\", class_ = \"profit\").text\n",
    "soup_p"
   ]
  },
  {
   "cell_type": "code",
   "execution_count": 24,
   "metadata": {},
   "outputs": [
    {
     "data": {
      "text/plain": [
       "'\\n비차익\\n-1,014억\\n'"
      ]
     },
     "execution_count": 24,
     "metadata": {},
     "output_type": "execute_result"
    }
   ],
   "source": [
    "soup_p=soup.find(\"div\", id = \"tab_sel3_risefall\").find(\"dd\", class_ = \"loss\").text\n",
    "soup_p"
   ]
  },
  {
   "cell_type": "code",
   "execution_count": 23,
   "metadata": {},
   "outputs": [
    {
     "data": {
      "text/plain": [
       "'\\n전체\\n-1,228억\\n'"
      ]
     },
     "execution_count": 23,
     "metadata": {},
     "output_type": "execute_result"
    }
   ],
   "source": [
    "soup_p=soup.find(\"div\", id = \"tab_sel3_risefall\").find(\"dd\", class_ = \"total\").text\n",
    "soup_p"
   ]
  },
  {
   "cell_type": "code",
   "execution_count": 25,
   "metadata": {},
   "outputs": [
    {
     "name": "stdout",
     "output_type": "stream",
     "text": [
      "차익: -214억, 비차익: -1,014억, 전체: -1,228억\n"
     ]
    }
   ],
   "source": [
    "trend_profit = soup.find(class_=\"profit\").find('a').text\n",
    "trend_loss = soup.find(class_=\"loss\").find('a').text\n",
    "trend_total = soup.find(class_=\"total\").find('a').text\n",
    "print(f\"차익: {trend_profit}, 비차익: {trend_loss}, 전체: {trend_total}\")"
   ]
  }
 ],
 "metadata": {
  "kernelspec": {
   "display_name": "Python 3",
   "language": "python",
   "name": "python3"
  },
  "language_info": {
   "codemirror_mode": {
    "name": "ipython",
    "version": 3
   },
   "file_extension": ".py",
   "mimetype": "text/x-python",
   "name": "python",
   "nbconvert_exporter": "python",
   "pygments_lexer": "ipython3",
   "version": "3.8.5"
  }
 },
 "nbformat": 4,
 "nbformat_minor": 4
}
