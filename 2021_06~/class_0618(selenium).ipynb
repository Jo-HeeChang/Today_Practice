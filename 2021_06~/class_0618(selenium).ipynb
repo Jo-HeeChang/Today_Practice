{
 "cells": [
  {
   "cell_type": "code",
   "execution_count": 2,
   "metadata": {},
   "outputs": [
    {
     "data": {
      "text/plain": [
       "<selenium.webdriver.chrome.webdriver.WebDriver (session=\"1c1745e2d9bf8412dca291cb15494520\")>"
      ]
     },
     "execution_count": 2,
     "metadata": {},
     "output_type": "execute_result"
    }
   ],
   "source": [
    "from selenium import webdriver\n",
    "driver = webdriver.Chrome('chromedriver_90')\n",
    "driver"
   ]
  },
  {
   "cell_type": "code",
   "execution_count": 2,
   "metadata": {},
   "outputs": [],
   "source": [
    "### url : https://ldjwj.github.io/00_SBA01_BigData/05_HTML/idx_lec_list\n",
    "### 통계기본(xpath) : /html/body/div/div/div/div/div[9]/div[4]/a\n",
    "### [selenium 객체].click()  : 다른 페이지로 이동"
   ]
  },
  {
   "cell_type": "code",
   "execution_count": 3,
   "metadata": {},
   "outputs": [],
   "source": [
    "url = 'https://ldjwj.github.io/00_SBA01_BigData/05_HTML/idx_lec_list'\n",
    "driver.get(url)"
   ]
  },
  {
   "cell_type": "markdown",
   "metadata": {},
   "source": [
    "### 내가 원하는 요소를 가지고 와서. 그 친구에 click()를 해보렴."
   ]
  },
  {
   "cell_type": "code",
   "execution_count": 4,
   "metadata": {},
   "outputs": [
    {
     "data": {
      "text/plain": [
       "<selenium.webdriver.remote.webelement.WebElement (session=\"ba52d9689f89cfc2870c4a6038efdb99\", element=\"4d8b3a5a-9942-408c-96ba-beb46fc544a6\")>"
      ]
     },
     "execution_count": 4,
     "metadata": {},
     "output_type": "execute_result"
    }
   ],
   "source": [
    "sel_link1 = driver.find_element_by_xpath('/html/body/div/div/div/div/div[9]/div[4]/a')\n",
    "sel_link1"
   ]
  },
  {
   "cell_type": "code",
   "execution_count": 5,
   "metadata": {},
   "outputs": [
    {
     "data": {
      "text/plain": [
       "'Link'"
      ]
     },
     "execution_count": 5,
     "metadata": {},
     "output_type": "execute_result"
    }
   ],
   "source": [
    "sel_link1.text"
   ]
  },
  {
   "cell_type": "code",
   "execution_count": 23,
   "metadata": {},
   "outputs": [],
   "source": [
    "url = 'https://pythonstart.github.io/web/'\n",
    "driver.get(url)"
   ]
  },
  {
   "cell_type": "code",
   "execution_count": 5,
   "metadata": {},
   "outputs": [
    {
     "name": "stdout",
     "output_type": "stream",
     "text": [
      "10. 랭킹 정보 가져오기(웹 크롤링)\n",
      "a\n"
     ]
    }
   ],
   "source": [
    "sel_id = driver.find_element_by_id(\"rank\")\n",
    "print(sel_id.text)\n",
    "print(sel_id.tag_name)"
   ]
  },
  {
   "cell_type": "markdown",
   "metadata": {},
   "source": [
    "### 태그이름으로 가져오기"
   ]
  },
  {
   "cell_type": "code",
   "execution_count": 7,
   "metadata": {},
   "outputs": [
    {
     "name": "stdout",
     "output_type": "stream",
     "text": [
      "a 01. 제목 가져오기(title)\n",
      "a 02. 텍스트 가져오기(p)\n",
      "a 03. 링크 가져오기(a)\n",
      "a 04. 이미지 정보 가져오기(img)\n",
      "a 05. 리스트 정보 가져오기(ul,ol)\n",
      "a 06. id를 활용한 정보 획득\n",
      "a 07. class를 활용한 정보 획득\n",
      "a 08. 하나의 이미지 다운로드\n",
      "a 09. 여러개의 이미지 다운로드\n",
      "a 10. 랭킹 정보 가져오기(웹 크롤링)\n"
     ]
    }
   ],
   "source": [
    "sel_a_all = driver.find_elements_by_tag_name(\"a\")\n",
    "\n",
    "for one in sel_a_all:\n",
    "    print(one.tag_name, one.text)"
   ]
  },
  {
   "cell_type": "markdown",
   "metadata": {},
   "source": [
    "### link_text로 가져오기"
   ]
  },
  {
   "cell_type": "code",
   "execution_count": 8,
   "metadata": {},
   "outputs": [
    {
     "name": "stdout",
     "output_type": "stream",
     "text": [
      "a 01. 제목 가져오기(title)\n"
     ]
    }
   ],
   "source": [
    "sel_link = driver.find_element_by_link_text(\"01. 제목 가져오기(title)\")\n",
    "print(sel_link.tag_name, sel_link.text)"
   ]
  },
  {
   "cell_type": "code",
   "execution_count": 9,
   "metadata": {},
   "outputs": [
    {
     "data": {
      "text/plain": [
       "'https://pythonstart.github.io/web/01.html'"
      ]
     },
     "execution_count": 9,
     "metadata": {},
     "output_type": "execute_result"
    }
   ],
   "source": [
    "sel_link.get_attribute(\"href\")"
   ]
  },
  {
   "cell_type": "markdown",
   "metadata": {},
   "source": [
    "### name 속성으로 가져오기"
   ]
  },
  {
   "cell_type": "code",
   "execution_count": 10,
   "metadata": {},
   "outputs": [
    {
     "name": "stdout",
     "output_type": "stream",
     "text": [
      "a 01. 제목 가져오기(title)\n",
      "a 03. 링크 가져오기(a)\n"
     ]
    }
   ],
   "source": [
    "sel_names = driver.find_elements_by_name(\"link_get\")\n",
    "\n",
    "for i in sel_names:\n",
    "    print(i.tag_name, i.text)"
   ]
  },
  {
   "cell_type": "code",
   "execution_count": null,
   "metadata": {},
   "outputs": [],
   "source": []
  },
  {
   "cell_type": "code",
   "execution_count": 31,
   "metadata": {},
   "outputs": [],
   "source": [
    "url = 'https://ldjwj.github.io/00_SBA01_BigData/05_HTML/idx_lec_list'\n",
    "driver.get(url)"
   ]
  },
  {
   "cell_type": "markdown",
   "metadata": {},
   "source": [
    "### selector를 이용한 접근"
   ]
  },
  {
   "cell_type": "code",
   "execution_count": 33,
   "metadata": {},
   "outputs": [
    {
     "name": "stdout",
     "output_type": "stream",
     "text": [
      "Category\n",
      "LectureCode\n",
      "Content\n",
      "Link\n",
      "R 기본 및 R 기본 활용(전수업 내용)\n",
      "STAT_BASIC_00\n",
      "R 기본 전체(전 수업 링크)\n",
      "Link\n",
      "통계기본\n",
      "STAT_BASIC_01\n",
      "통계기본이해하기(1)\n",
      "Link\n",
      "통계기본\n",
      "STAT_BASIC_02\n",
      "가설검정이해(1)\n",
      "Link\n",
      "통계기본\n",
      "STAT_LAB_01\n",
      "통계기본이해_실습(1)-통계가설검정\n",
      "Link\n",
      "통계기본\n",
      "STAT_LAB_01\n",
      "통계기본이해_실습(1)-통계가설검정\n",
      "Link\n",
      "통계기본\n",
      "STAT_BASIC_03\n",
      "회귀분석이해(1)\n",
      "Link\n",
      "통계기본\n",
      "STAT_LAB_02\n",
      "첫번째 모델 만들기\n",
      "Link\n",
      "통계기본\n",
      "STAT_LAB_03\n",
      "회귀 모델 실습(1)-mtcars\n",
      "Link\n",
      "통계기본\n",
      "STAT_LAB_04\n",
      "회귀 모델 실습(2)-Boston 집값 예측\n",
      "Link\n",
      "통계기본\n",
      "STAT_LAB_05\n",
      "회귀 모델 실습(3) - 캐글 데이터-집값 예측\n",
      "Link\n",
      "통계기본\n",
      "STAT_LAB_06\n",
      "로지스틱 회귀 모델 실습(1) - 인디언 암 예측\n",
      "Link\n",
      "통계기본\n",
      "STAT_BASIC_04\n",
      "의사결정트리 기본 이해(1)\n",
      "Link\n",
      "통계기본\n",
      "STAT_LAB_07\n",
      "의사결정트리 실습(1)\n",
      "Link\n",
      "통계기본\n",
      "STAT_LAB_08\n",
      "의사결정트리 실습(2)\n",
      "Link\n",
      "통계기본\n",
      "STAT_LAB_EDA_01\n",
      "데이터 탐색 - Boston 집값\n",
      "Link\n",
      "R_LevelUp\n",
      "R_TM_01\n",
      "텍스트 마이닝 시작하기\n",
      "Link\n",
      "R_LevelUp\n",
      "R_TM_LAB_01\n",
      "KoNLP를 패키지를 활용한 텍스트 분석(1)\n",
      "Link\n",
      "R_LevelUp\n",
      "R_TM_LAB_02\n",
      "텍스트 감정 분석(1)\n",
      "Link\n",
      "R_LevelUp\n",
      "R_TM_LAB_03\n",
      "TFIDF 이해하기(1)\n",
      "Link\n",
      "R_LevelUp\n",
      "R_MYSQL_LAB_01\n",
      "R과 MySQL 연동 환경 만들기\n",
      "Link\n",
      "R_LevelUp\n",
      "R_MYSQL_LAB_02\n",
      "R과 MySQL 연동 실습하기\n",
      "Link\n",
      "R_LevelUp\n",
      "R_DATAVIS_LAB_01\n",
      "데이터 시각화 기본(1)\n",
      "Link\n",
      "R_LevelUp\n",
      "R_DATAVIS_LAB_02\n",
      "데이터 시각화 기본(2)\n",
      "Link\n",
      "R_LevelUp\n",
      "R_DATAVIS_LAB_03\n",
      "데이터 시각화 기본(3)\n",
      "Link\n",
      "R_LevelUp\n",
      "R_DATAVIS_LAB_04\n",
      "데이터 시각화 기본(4)\n",
      "Link\n",
      "R_LevelUp\n",
      "R_DATAVIS_LAB_05\n",
      "데이터 시각화 활용(5)\n",
      "Link\n",
      "R_LevelUp\n",
      "R_DATAVIS_LAB_06\n",
      "데이터 시각화 참고자료(1)\n",
      "Link\n",
      "R_LevelUp\n",
      "R_DATAVIS_LAB_07\n",
      "데이터 시각화 참고자료(2)\n",
      "Link\n"
     ]
    }
   ],
   "source": [
    "contents = driver.find_elements_by_css_selector('body div div div div div div')\n",
    "\n",
    "for one in contents:\n",
    "    print(one.text)"
   ]
  },
  {
   "cell_type": "markdown",
   "metadata": {},
   "source": [
    "### 링크의 내용의 일부 내용으로 가져오기"
   ]
  },
  {
   "cell_type": "code",
   "execution_count": 12,
   "metadata": {},
   "outputs": [
    {
     "name": "stdout",
     "output_type": "stream",
     "text": [
      "a 01. 제목 가져오기(title)\n",
      "a 02. 텍스트 가져오기(p)\n",
      "a 03. 링크 가져오기(a)\n",
      "a 04. 이미지 정보 가져오기(img)\n",
      "a 05. 리스트 정보 가져오기(ul,ol)\n",
      "a 10. 랭킹 정보 가져오기(웹 크롤링)\n"
     ]
    }
   ],
   "source": [
    "sel_p_link = driver.find_elements_by_partial_link_text(\"가져오기\")\n",
    "\n",
    "for one in sel_p_link:\n",
    "    print(one.tag_name, one.text)"
   ]
  },
  {
   "cell_type": "code",
   "execution_count": null,
   "metadata": {},
   "outputs": [],
   "source": [
    "# /html/body/div/div/div/div/div[2]/div[3]\n",
    "# /html/body/div/div/div/div/div[3]/div[3]\n",
    "# /html/body/div/div/div/div/div[4]/div[3]\n",
    "# ...\n",
    "# /html/body/div/div/div/div/div[29]/div[3]"
   ]
  },
  {
   "cell_type": "code",
   "execution_count": 13,
   "metadata": {},
   "outputs": [],
   "source": [
    "driver = webdriver.Chrome('chromedriver_90')\n",
    "\n",
    "url = 'https://ldjwj.github.io/00_SBA01_BigData/05_HTML/idx_lec_list'\n",
    "driver.get(url)"
   ]
  },
  {
   "cell_type": "code",
   "execution_count": 15,
   "metadata": {},
   "outputs": [
    {
     "name": "stdout",
     "output_type": "stream",
     "text": [
      "div Content\n",
      "div R 기본 전체(전 수업 링크)\n",
      "div 통계기본이해하기(1)\n",
      "div 가설검정이해(1)\n",
      "div 통계기본이해_실습(1)-통계가설검정\n",
      "div 통계기본이해_실습(1)-통계가설검정\n",
      "div 회귀분석이해(1)\n",
      "div 첫번째 모델 만들기\n",
      "div 회귀 모델 실습(1)-mtcars\n",
      "div 회귀 모델 실습(2)-Boston 집값 예측\n",
      "div 회귀 모델 실습(3) - 캐글 데이터-집값 예측\n",
      "div 로지스틱 회귀 모델 실습(1) - 인디언 암 예측\n",
      "div 의사결정트리 기본 이해(1)\n",
      "div 의사결정트리 실습(1)\n",
      "div 의사결정트리 실습(2)\n",
      "div 데이터 탐색 - Boston 집값\n",
      "div 텍스트 마이닝 시작하기\n",
      "div KoNLP를 패키지를 활용한 텍스트 분석(1)\n",
      "div 텍스트 감정 분석(1)\n",
      "div TFIDF 이해하기(1)\n",
      "div R과 MySQL 연동 환경 만들기\n",
      "div R과 MySQL 연동 실습하기\n",
      "div 데이터 시각화 기본(1)\n",
      "div 데이터 시각화 기본(2)\n",
      "div 데이터 시각화 기본(3)\n",
      "div 데이터 시각화 기본(4)\n",
      "div 데이터 시각화 활용(5)\n",
      "div 데이터 시각화 참고자료(1)\n",
      "div 데이터 시각화 참고자료(2)\n"
     ]
    }
   ],
   "source": [
    "sel_link5 = driver.find_elements_by_xpath('/html/body/div/div/div/div/div/div[3]')\n",
    "\n",
    "# contents = driver.find_elements_by_css_selector(\"div[data-title='Content']\")\n",
    "# contents = driver.find_elements_by_css_selector('body div div div div div div')\n",
    "\n",
    "for one in sel_link5:\n",
    "    print(one.tag_name, one.text)"
   ]
  },
  {
   "cell_type": "code",
   "execution_count": 17,
   "metadata": {},
   "outputs": [
    {
     "name": "stdout",
     "output_type": "stream",
     "text": [
      "R 기본 전체(전 수업 링크)\n",
      "통계기본이해하기(1)\n",
      "가설검정이해(1)\n",
      "통계기본이해_실습(1)-통계가설검정\n",
      "통계기본이해_실습(1)-통계가설검정\n",
      "회귀분석이해(1)\n",
      "첫번째 모델 만들기\n",
      "회귀 모델 실습(1)-mtcars\n",
      "회귀 모델 실습(2)-Boston 집값 예측\n",
      "회귀 모델 실습(3) - 캐글 데이터-집값 예측\n",
      "로지스틱 회귀 모델 실습(1) - 인디언 암 예측\n",
      "의사결정트리 기본 이해(1)\n",
      "의사결정트리 실습(1)\n",
      "의사결정트리 실습(2)\n",
      "데이터 탐색 - Boston 집값\n",
      "텍스트 마이닝 시작하기\n",
      "KoNLP를 패키지를 활용한 텍스트 분석(1)\n",
      "텍스트 감정 분석(1)\n",
      "TFIDF 이해하기(1)\n",
      "R과 MySQL 연동 환경 만들기\n",
      "R과 MySQL 연동 실습하기\n",
      "데이터 시각화 기본(1)\n",
      "데이터 시각화 기본(2)\n",
      "데이터 시각화 기본(3)\n",
      "데이터 시각화 기본(4)\n",
      "데이터 시각화 활용(5)\n",
      "데이터 시각화 참고자료(1)\n",
      "데이터 시각화 참고자료(2)\n"
     ]
    }
   ],
   "source": [
    "contents = driver.find_elements_by_css_selector(\"div[data-title='Content']\")\n",
    "\n",
    "for one in contents:\n",
    "    print(one.text)"
   ]
  },
  {
   "cell_type": "code",
   "execution_count": 37,
   "metadata": {},
   "outputs": [
    {
     "name": "stdout",
     "output_type": "stream",
     "text": [
      "STAT_BASIC_00\n",
      "STAT_BASIC_01\n",
      "STAT_BASIC_02\n",
      "STAT_LAB_01\n",
      "STAT_LAB_01\n",
      "STAT_BASIC_03\n",
      "STAT_LAB_02\n",
      "STAT_LAB_03\n",
      "STAT_LAB_04\n",
      "STAT_LAB_05\n",
      "STAT_LAB_06\n",
      "STAT_BASIC_04\n",
      "STAT_LAB_07\n",
      "STAT_LAB_08\n",
      "STAT_LAB_EDA_01\n",
      "R_TM_01\n",
      "R_TM_LAB_01\n",
      "R_TM_LAB_02\n",
      "R_TM_LAB_03\n",
      "R_MYSQL_LAB_01\n",
      "R_MYSQL_LAB_02\n",
      "R_DATAVIS_LAB_01\n",
      "R_DATAVIS_LAB_02\n",
      "R_DATAVIS_LAB_03\n",
      "R_DATAVIS_LAB_04\n",
      "R_DATAVIS_LAB_05\n",
      "R_DATAVIS_LAB_06\n",
      "R_DATAVIS_LAB_07\n"
     ]
    }
   ],
   "source": [
    "# body > div > div > div > div > div\n",
    "contents = driver.find_elements_by_css_selector('div.cell')\n",
    "\n",
    "for one in range(5, len(contents), 4):\n",
    "    print(contents[one].text)"
   ]
  },
  {
   "cell_type": "code",
   "execution_count": 38,
   "metadata": {},
   "outputs": [],
   "source": [
    "url = 'https://search.shopping.naver.com/search/all?query=%EA%B0%80%EB%B0%A9&cat_id=&frm=NVSHATC'\n",
    "driver.get(url)"
   ]
  },
  {
   "cell_type": "code",
   "execution_count": 42,
   "metadata": {},
   "outputs": [
    {
     "name": "stdout",
     "output_type": "stream",
     "text": [
      "GG 소호 테슬체인 스트랩 숄더백 맞춤 이너백\n",
      "토일레트리 파우치 19 D링 부착 맞춤 이너백\n",
      "트리오페 미니 버티컬카바스 사이즈 맞춤 이너백\n",
      "조셉앤스테이시 Lucky Pleats Knit M Duo Desert\n",
      "나이키 헤리티지 힙색 BA5750-010\n"
     ]
    }
   ],
   "source": [
    "# body > div > div > div > div > div\n",
    "contents = driver.find_elements_by_css_selector('div.basicList_title__3P9Q7')\n",
    "\n",
    "for one in contents:\n",
    "    print(one.text)"
   ]
  },
  {
   "cell_type": "code",
   "execution_count": null,
   "metadata": {},
   "outputs": [],
   "source": [
    "# //*[@id=\"__next\"]/div/div[2]/div[2]/div[3]/div[1]/ul/div/div[1]/li/div/div[2]/div[1]/a\n",
    "# //*[@id=\"__next\"]/div/div[2]/div[2]/div[3]/div[1]/ul/div/div[2]/li/div/div[2]/div[1]/a\n",
    "# //*[@id=\"__next\"]/div/div[2]/div[2]/div[3]/div[1]/ul/div/div[5]/li/div/div[2]/div[1]/a\n",
    "# //*[@id=\"__next\"]/div/div[2]/div[2]/div[3]/div[1]/ul/div/div[8]/li/div/div[2]/div[1]/a"
   ]
  },
  {
   "cell_type": "code",
   "execution_count": 47,
   "metadata": {},
   "outputs": [],
   "source": [
    "# body > div > div > div > div > div\n",
    "contents = driver.find_elements_by_xpath('//*[@id=\"__next\"]/div/div[2]/div[2]/div[3]/div[1]/ul/div/div[8]/li/div/div[2]/div[1]/a')\n",
    "\n",
    "for one in contents:\n",
    "    print(one.text)"
   ]
  },
  {
   "cell_type": "code",
   "execution_count": 49,
   "metadata": {},
   "outputs": [],
   "source": [
    "import time\n",
    "import lxml\n",
    "\n",
    "url = 'https://pythonstart.github.io/web/'\n",
    "start = time.time()\n",
    "driver = webdriver.Chrome('./chromedriver_90')\n",
    "driver.get(url)"
   ]
  },
  {
   "cell_type": "code",
   "execution_count": 50,
   "metadata": {},
   "outputs": [
    {
     "data": {
      "text/plain": [
       "[<selenium.webdriver.remote.webelement.WebElement (session=\"5d3b9a05952f6ea4480cbb43a960c076\", element=\"1e6950e8-e7cf-4a28-ab44-4b6f9748e907\")>,\n",
       " <selenium.webdriver.remote.webelement.WebElement (session=\"5d3b9a05952f6ea4480cbb43a960c076\", element=\"91c5131e-0c0f-42a5-9836-a686396effd3\")>,\n",
       " <selenium.webdriver.remote.webelement.WebElement (session=\"5d3b9a05952f6ea4480cbb43a960c076\", element=\"d1d7c960-e098-4bd0-b28b-95f740258d97\")>,\n",
       " <selenium.webdriver.remote.webelement.WebElement (session=\"5d3b9a05952f6ea4480cbb43a960c076\", element=\"8f6366ea-ee65-4ee7-87bf-7156f351b832\")>,\n",
       " <selenium.webdriver.remote.webelement.WebElement (session=\"5d3b9a05952f6ea4480cbb43a960c076\", element=\"a2fc8d6f-4005-4a7f-b55b-ac6531c91e0f\")>,\n",
       " <selenium.webdriver.remote.webelement.WebElement (session=\"5d3b9a05952f6ea4480cbb43a960c076\", element=\"1a970607-bb97-4763-8233-4551078c7543\")>,\n",
       " <selenium.webdriver.remote.webelement.WebElement (session=\"5d3b9a05952f6ea4480cbb43a960c076\", element=\"ed84bcde-7043-4f12-a95d-1598dd24f97e\")>,\n",
       " <selenium.webdriver.remote.webelement.WebElement (session=\"5d3b9a05952f6ea4480cbb43a960c076\", element=\"eb2096bf-b0de-417c-a6e4-6ff883138a3b\")>,\n",
       " <selenium.webdriver.remote.webelement.WebElement (session=\"5d3b9a05952f6ea4480cbb43a960c076\", element=\"16e9b23c-f265-4d14-9f54-25e90ca2ef7a\")>,\n",
       " <selenium.webdriver.remote.webelement.WebElement (session=\"5d3b9a05952f6ea4480cbb43a960c076\", element=\"a5a03a55-c4d4-492d-84e2-d916c3648baa\")>]"
      ]
     },
     "execution_count": 50,
     "metadata": {},
     "output_type": "execute_result"
    }
   ],
   "source": [
    "a_tag = driver.find_elements_by_css_selector(\"ul a\")\n",
    "a_tag"
   ]
  },
  {
   "cell_type": "code",
   "execution_count": 51,
   "metadata": {},
   "outputs": [
    {
     "name": "stdout",
     "output_type": "stream",
     "text": [
      "01. 제목 가져오기(title)\n",
      "02. 텍스트 가져오기(p)\n",
      "03. 링크 가져오기(a)\n",
      "04. 이미지 정보 가져오기(img)\n",
      "05. 리스트 정보 가져오기(ul,ol)\n",
      "06. id를 활용한 정보 획득\n",
      "07. class를 활용한 정보 획득\n",
      "08. 하나의 이미지 다운로드\n",
      "09. 여러개의 이미지 다운로드\n",
      "10. 랭킹 정보 가져오기(웹 크롤링)\n"
     ]
    }
   ],
   "source": [
    "for one in a_tag:\n",
    "    print(one.text)"
   ]
  },
  {
   "cell_type": "code",
   "execution_count": 52,
   "metadata": {},
   "outputs": [],
   "source": [
    "### BeautifulSoup \n",
    "### Selenium \n",
    "\n",
    "### 01 Selenium 웹 페이지를 띄우고 \n",
    "### 02 해당 웹의 HTML소스를 얻어오기."
   ]
  },
  {
   "cell_type": "code",
   "execution_count": 53,
   "metadata": {},
   "outputs": [],
   "source": [
    "from bs4 import BeautifulSoup"
   ]
  },
  {
   "cell_type": "code",
   "execution_count": 54,
   "metadata": {},
   "outputs": [
    {
     "data": {
      "text/plain": [
       "<title>나의 웹 페이지</title>"
      ]
     },
     "execution_count": 54,
     "metadata": {},
     "output_type": "execute_result"
    }
   ],
   "source": [
    "page = driver.page_source\n",
    "soup = BeautifulSoup(page, 'lxml')\n",
    "soup.title"
   ]
  },
  {
   "cell_type": "markdown",
   "metadata": {},
   "source": [
    "* 웹 페이지 URL : https://pythonstart.github.io/web/\n",
    "* 실습1. BeautifulSoup를 이용해서 전체 링크 내용을 가져와 보자.\n",
    "* 실습2. Selenium를 이용(함수 find_elements...)을 이용해서 전체 링크를 가져와 보자.\n"
   ]
  },
  {
   "cell_type": "code",
   "execution_count": 55,
   "metadata": {},
   "outputs": [
    {
     "name": "stdout",
     "output_type": "stream",
     "text": [
      " 01. 제목 가져오기(title) \n",
      " 02. 텍스트 가져오기(p) \n",
      " 03. 링크 가져오기(a) \n",
      " 04. 이미지 정보 가져오기(img) \n",
      " 05. 리스트 정보 가져오기(ul,ol) \n",
      " 06. id를 활용한 정보 획득 \n",
      " 07. class를 활용한 정보 획득 \n",
      " 08. 하나의 이미지 다운로드 \n",
      " 09. 여러개의 이미지 다운로드 \n",
      " 10. 랭킹 정보 가져오기(웹 크롤링) \n"
     ]
    }
   ],
   "source": [
    "a_all = soup.find_all(\"a\")\n",
    "\n",
    "for one in a_all:\n",
    "    print(one.text)"
   ]
  },
  {
   "cell_type": "markdown",
   "metadata": {},
   "source": [
    "### selenium으로 가져오기"
   ]
  },
  {
   "cell_type": "code",
   "execution_count": 56,
   "metadata": {},
   "outputs": [
    {
     "name": "stdout",
     "output_type": "stream",
     "text": [
      "01. 제목 가져오기(title)\n",
      "02. 텍스트 가져오기(p)\n",
      "03. 링크 가져오기(a)\n",
      "04. 이미지 정보 가져오기(img)\n",
      "05. 리스트 정보 가져오기(ul,ol)\n",
      "06. id를 활용한 정보 획득\n",
      "07. class를 활용한 정보 획득\n",
      "08. 하나의 이미지 다운로드\n",
      "09. 여러개의 이미지 다운로드\n",
      "10. 랭킹 정보 가져오기(웹 크롤링)\n"
     ]
    }
   ],
   "source": [
    "a_sel = driver.find_elements_by_tag_name(\"a\")\n",
    "\n",
    "for one in a_sel:\n",
    "    print(one.text)"
   ]
  },
  {
   "cell_type": "markdown",
   "metadata": {},
   "source": [
    "### 추가 실습 - 02, 03의 페이지의 내용을 가져오기 실습."
   ]
  }
 ],
 "metadata": {
  "kernelspec": {
   "display_name": "Python 3",
   "language": "python",
   "name": "python3"
  },
  "language_info": {
   "codemirror_mode": {
    "name": "ipython",
    "version": 3
   },
   "file_extension": ".py",
   "mimetype": "text/x-python",
   "name": "python",
   "nbconvert_exporter": "python",
   "pygments_lexer": "ipython3",
   "version": "3.8.5"
  }
 },
 "nbformat": 4,
 "nbformat_minor": 4
}
