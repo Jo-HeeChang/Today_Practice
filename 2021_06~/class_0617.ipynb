{
 "cells": [
  {
   "cell_type": "code",
   "execution_count": 2,
   "metadata": {},
   "outputs": [],
   "source": [
    "from bs4 import BeautifulSoup"
   ]
  },
  {
   "cell_type": "code",
   "execution_count": 3,
   "metadata": {},
   "outputs": [
    {
     "data": {
      "text/plain": [
       "[<html>\n",
       " <head><title> test site </title></head>\n",
       " <body><p align=\"left\" class=\"class1\">test3</p>\n",
       " <p class=\"class1\">test2</p>\n",
       " <p id=\"p1\">오늘의 주가지수 1500</p>\n",
       " <span class=\"class3\">span tag text</span>\n",
       " <p class=\"class4\">test3</p>\n",
       " </body></html>,\n",
       " '\\n']"
      ]
     },
     "execution_count": 3,
     "metadata": {},
     "output_type": "execute_result"
    }
   ],
   "source": [
    "html = \"\"\"\n",
    "<html>\n",
    "<head><title> test site </title></head>\n",
    "<p class='class1' align=\"left\">test3</p>\n",
    "<p class='class1'>test2</p>\n",
    "<p id='p1'>오늘의 주가지수 1500</p>\n",
    "<span class='class3'>span tag text</span>\n",
    "<p class='class4'>test3</p>\n",
    "</html>\n",
    "\"\"\"\n",
    "soup = BeautifulSoup(html, 'lxml')\n",
    "list(soup.children)"
   ]
  },
  {
   "cell_type": "code",
   "execution_count": 4,
   "metadata": {},
   "outputs": [],
   "source": [
    "from urllib.request import urlopen\n",
    "from bs4 import BeautifulSoup"
   ]
  },
  {
   "cell_type": "code",
   "execution_count": 5,
   "metadata": {},
   "outputs": [],
   "source": [
    "# url = 'https://movie.naver.com/movie/point/af/list.nhn?st=mcode&sword=171725&target=after'\n",
    "basic_url = \"https://movie.naver.com/movie/point/af/list.nhn?st=mcode&sword=171725&target=after&page=\"\n",
    "# 2page \n",
    "# 3page"
   ]
  },
  {
   "cell_type": "code",
   "execution_count": 6,
   "metadata": {},
   "outputs": [
    {
     "name": "stdout",
     "output_type": "stream",
     "text": [
      "[<td class=\"title\">\n",
      "<a class=\"movie color_b\" href=\"/movie/bi/mi/basic.naver?code=171725\">스파이더맨: 뉴 유니버스</a>\n",
      "<div class=\"list_netizen_score\">\n",
      "<span class=\"st_off\"><span class=\"st_on\" style=\"width:100%\">별점 - 총 10점 중</span></span><em>10</em>\n",
      "</div>\n",
      "<br/>애니메이션이라는 틀을 깨버리는 스탠 리의 자식들 \n",
      "\t\t\t\n",
      "\t\t\t\n",
      "\t\t\t\n",
      "\t\t\t\t\n",
      "\t\t\t\t\n",
      "\t\t\t\t\n",
      "\t\t\t\t<a class=\"report\" href=\"#\" onclick=\"report('pana****', 'TBy7EvxE5ehe7MXvBEQEwJZUVUZx9iV3D/AcpjnKNyo=', '애니메이션이라는 틀을 깨버리는 스탠 리의 자식들', '17654524', 'point_after');\" style=\"color:#8F8F8F\" title=\"새 창\">신고</a>\n",
      "</td>, <td class=\"title\">\n",
      "<a class=\"movie color_b\" href=\"/movie/bi/mi/basic.naver?code=171725\">스파이더맨: 뉴 유니버스</a>\n",
      "<div class=\"list_netizen_score\">\n",
      "<span class=\"st_off\"><span class=\"st_on\" style=\"width:80%\">별점 - 총 10점 중</span></span><em>8</em>\n",
      "</div>\n",
      "<br/>정말 재밌다는 소문만 듣다가 이제서야 봄. 만화적 연출을 위한 저 프레임 연출은 호불호가 좀 갈린부분 아닐까, 나또한 저 부분이 그렇게 와닿게 만화적이게 보이게 했는지는 모르겠다 그냥 부드럽게 보는게 더 보기 편하지 않았을까, 그 외에 만화적 표현들은 연출적으로 아주 훌륭했다. BGM : 중간 중간 깔리는 음악들은 아주 훌륭했다. 연출과 아주 찰떡궁합. 스토리는 좀 진부했다 아주 무난하고 평범한 히어로물 주인공의 위기와 성장 살짝 개연성이 아쉬운 부분이 있었으나 감안하고 보기엔 마무리 포장까지 완성도가 높았다. 개인적 총평은. 아주 재밌었던 영화라기 보단 아주 잘 만든 영화에 가까웠다. \n",
      "\t\t\t\n",
      "\t\t\t\n",
      "\t\t\t\n",
      "\t\t\t\t\n",
      "\t\t\t\t\n",
      "\t\t\t\t\n",
      "\t\t\t\t<a class=\"report\" href=\"#\" onclick=\"report('qork****', 'Tygo3YEWu2AsWT1ufpdh390Jzn1DOgCnn1zXbuQxp74=', '정말 재밌다는 소문만 듣다가 이제서야 봄. 만화적 연출을 위한 저 프레임 연출은 호불호가 좀 갈린부분 아닐까, 나또한 저 부분이 그렇게 와닿게 만화적이게 보이게 했는지는 모르겠다 그냥 부드럽게 보는게 더 보기 편하지 않았을까, 그 외에 만화적 표현들은 연출적으로 아주 훌륭했다. BGM : 중간 중간 깔리는 음악들은 아주 훌륭했다. 연출과 아주 찰떡궁합. 스토리는 좀 진부했다 아주 무난하고 평범한 히어로물 주인공의 위기와 성장 살짝 개연성이 아쉬운 부분이 있었으나 감안하고 보기엔 마무리 포장까지 완성도가 높았다. 개인적 총평은. 아주 재밌었던 영화라기 보단 아주 잘 만든 영화에 가까웠다. ', '17629441', 'point_after');\" style=\"color:#8F8F8F\" title=\"새 창\">신고</a>\n",
      "</td>, <td class=\"title\">\n",
      "<a class=\"movie color_b\" href=\"/movie/bi/mi/basic.naver?code=171725\">스파이더맨: 뉴 유니버스</a>\n",
      "<div class=\"list_netizen_score\">\n",
      "<span class=\"st_off\"><span class=\"st_on\" style=\"width:100%\">별점 - 총 10점 중</span></span><em>10</em>\n",
      "</div>\n",
      "<br/>소니 최고의 애니메이션 \n",
      "\t\t\t\n",
      "\t\t\t\n",
      "\t\t\t\n",
      "\t\t\t\t\n",
      "\t\t\t\t\n",
      "\t\t\t\t\n",
      "\t\t\t\t<a class=\"report\" href=\"#\" onclick=\"report('chlt****', 'zpIMzGvZSx7VeqDdHGbDqpP1wOBiAcDoTfO+5dO/2BU=', '소니 최고의 애니메이션', '17617048', 'point_after');\" style=\"color:#8F8F8F\" title=\"새 창\">신고</a>\n",
      "</td>, <td class=\"title\">\n",
      "<a class=\"movie color_b\" href=\"/movie/bi/mi/basic.naver?code=171725\">스파이더맨: 뉴 유니버스</a>\n",
      "<div class=\"list_netizen_score\">\n",
      "<span class=\"st_off\"><span class=\"st_on\" style=\"width:100%\">별점 - 총 10점 중</span></span><em>10</em>\n",
      "</div>\n",
      "<br/>최고다. \n",
      "\t\t\t\n",
      "\t\t\t\n",
      "\t\t\t\n",
      "\t\t\t\t\n",
      "\t\t\t\t\n",
      "\t\t\t\t\n",
      "\t\t\t\t<a class=\"report\" href=\"#\" onclick=\"report('k-bo****', 'iNXx/wva/P4uc/ltw7B7F54RBcuJVuejnq32GaU/2wc=', '최고다.', '17612925', 'point_after');\" style=\"color:#8F8F8F\" title=\"새 창\">신고</a>\n",
      "</td>, <td class=\"title\">\n",
      "<a class=\"movie color_b\" href=\"/movie/bi/mi/basic.naver?code=171725\">스파이더맨: 뉴 유니버스</a>\n",
      "<div class=\"list_netizen_score\">\n",
      "<span class=\"st_off\"><span class=\"st_on\" style=\"width:90%\">별점 - 총 10점 중</span></span><em>9</em>\n",
      "</div>\n",
      "<br/>최고의 스파이더맨 영화, 그냥 믿는거야! \n",
      "\t\t\t\n",
      "\t\t\t\n",
      "\t\t\t\n",
      "\t\t\t\t\n",
      "\t\t\t\t\n",
      "\t\t\t\t\n",
      "\t\t\t\t<a class=\"report\" href=\"#\" onclick=\"report('dh51****', '9BC7b0H3KvG9OKa+8eimNXxuw6JgIScc0QTPZ742wio=', '최고의 스파이더맨 영화, 그냥 믿는거야!', '17607182', 'point_after');\" style=\"color:#8F8F8F\" title=\"새 창\">신고</a>\n",
      "</td>, <td class=\"title\">\n",
      "<a class=\"movie color_b\" href=\"/movie/bi/mi/basic.naver?code=171725\">스파이더맨: 뉴 유니버스</a>\n",
      "<div class=\"list_netizen_score\">\n",
      "<span class=\"st_off\"><span class=\"st_on\" style=\"width:100%\">별점 - 총 10점 중</span></span><em>10</em>\n",
      "</div>\n",
      "<br/>스파이더맨 영화중 가히 최고 \n",
      "\t\t\t\n",
      "\t\t\t\n",
      "\t\t\t\n",
      "\t\t\t\t\n",
      "\t\t\t\t\n",
      "\t\t\t\t\n",
      "\t\t\t\t<a class=\"report\" href=\"#\" onclick=\"report('hjp0****', 'WWZUJZ5VK4qYaGoe1w65ILiLL3d91dJlEpL3QmxJxRE=', '스파이더맨 영화중 가히 최고', '17591696', 'point_after');\" style=\"color:#8F8F8F\" title=\"새 창\">신고</a>\n",
      "</td>, <td class=\"title\">\n",
      "<a class=\"movie color_b\" href=\"/movie/bi/mi/basic.naver?code=171725\">스파이더맨: 뉴 유니버스</a>\n",
      "<div class=\"list_netizen_score\">\n",
      "<span class=\"st_off\"><span class=\"st_on\" style=\"width:100%\">별점 - 총 10점 중</span></span><em>10</em>\n",
      "</div>\n",
      "<br/>완벽하다 너무 재밌다 진짜 잘 만든 영화 \n",
      "\t\t\t\n",
      "\t\t\t\n",
      "\t\t\t\n",
      "\t\t\t\t\n",
      "\t\t\t\t\n",
      "\t\t\t\t\n",
      "\t\t\t\t<a class=\"report\" href=\"#\" onclick=\"report('stra****', '7wyEtB2KXfHyh4WR3ObK7iizRUT/b9mZaVC4n5PNbmk=', '완벽하다 너무 재밌다 진짜 잘 만든 영화', '17588055', 'point_after');\" style=\"color:#8F8F8F\" title=\"새 창\">신고</a>\n",
      "</td>, <td class=\"title\">\n",
      "<a class=\"movie color_b\" href=\"/movie/bi/mi/basic.naver?code=171725\">스파이더맨: 뉴 유니버스</a>\n",
      "<div class=\"list_netizen_score\">\n",
      "<span class=\"st_off\"><span class=\"st_on\" style=\"width:100%\">별점 - 총 10점 중</span></span><em>10</em>\n",
      "</div>\n",
      "<br/>\n",
      "<a class=\"report\" href=\"#\" onclick=\"report('asdf****', 'XxIBVhQerzVHFkQ9RW66Xq/+j96qghU/hRrr3tSULW0=', '', '17568684', 'point_after');\" style=\"color:#8F8F8F\" title=\"새 창\">신고</a>\n",
      "</td>, <td class=\"title\">\n",
      "<a class=\"movie color_b\" href=\"/movie/bi/mi/basic.naver?code=171725\">스파이더맨: 뉴 유니버스</a>\n",
      "<div class=\"list_netizen_score\">\n",
      "<span class=\"st_off\"><span class=\"st_on\" style=\"width:100%\">별점 - 총 10점 중</span></span><em>10</em>\n",
      "</div>\n",
      "<br/>극장에서 봤을때의 감동을 아직도 잊지못함 개인적으로 재개봉했으면 좋겠다 \n",
      "\t\t\t\n",
      "\t\t\t\n",
      "\t\t\t\n",
      "\t\t\t\t\n",
      "\t\t\t\t\n",
      "\t\t\t\t\n",
      "\t\t\t\t<a class=\"report\" href=\"#\" onclick=\"report('call****', 'szWNVxAki5KnIx0U4xY+RPM2Dl+54PMOpRyVwUCftqI=', '극장에서 봤을때의 감동을 아직도 잊지못함 개인적으로 재개봉했으면 좋겠다', '17566948', 'point_after');\" style=\"color:#8F8F8F\" title=\"새 창\">신고</a>\n",
      "</td>, <td class=\"title\">\n",
      "<a class=\"movie color_b\" href=\"/movie/bi/mi/basic.naver?code=171725\">스파이더맨: 뉴 유니버스</a>\n",
      "<div class=\"list_netizen_score\">\n",
      "<span class=\"st_off\"><span class=\"st_on\" style=\"width:100%\">별점 - 총 10점 중</span></span><em>10</em>\n",
      "</div>\n",
      "<br/>영상미, 음악, 스토리 뭐하나 빠지는게 없네 \n",
      "\t\t\t\n",
      "\t\t\t\n",
      "\t\t\t\n",
      "\t\t\t\t\n",
      "\t\t\t\t\n",
      "\t\t\t\t\n",
      "\t\t\t\t<a class=\"report\" href=\"#\" onclick=\"report('dkff****', 'UE9GUvb3QoP/GOFRbCbEVveNJFK8EIEc1+IlODKQgQs=', '영상미, 음악, 스토리 뭐하나 빠지는게 없네', '17561498', 'point_after');\" style=\"color:#8F8F8F\" title=\"새 창\">신고</a>\n",
      "</td>]\n"
     ]
    }
   ],
   "source": [
    "url1 = \"https://movie.naver.com/movie/point/af/list.nhn?st=mcode&sword=171725&target=after&page=1\"\n",
    "page = urlopen(url1)\n",
    "soup = BeautifulSoup(page, \"html.parser\")\n",
    "comment_all = soup.find_all('td', class_='title')\n",
    "comment_all\n",
    "print( comment_all )\n",
    "\n",
    "url2 = \"https://movie.naver.com/movie/bi/mi/point.nhn?code=82556\"\n",
    "page1 = urlopen(url2)\n",
    "soup = BeautifulSoup(page1,\"html.parser\")\n",
    "commnet_all1 = soup.find_all()"
   ]
  },
  {
   "cell_type": "code",
   "execution_count": 9,
   "metadata": {},
   "outputs": [
    {
     "data": {
      "text/plain": [
       "['\\n',\n",
       " <a class=\"movie color_b\" href=\"/movie/bi/mi/basic.nhn?code=171725\">스파이더맨: 뉴 유니버스</a>,\n",
       " '\\n',\n",
       " <div class=\"list_netizen_score\">\n",
       " <span class=\"st_off\"><span class=\"st_on\" style=\"width:100%\">별점 - 총 10점 중</span></span><em>10</em>\n",
       " </div>,\n",
       " '\\n',\n",
       " <br/>,\n",
       " '이게 진짜 현대예술이지 \\n\\t\\t\\t\\n\\t\\t\\t\\n\\t\\t\\t\\n\\t\\t\\t\\t\\n\\t\\t\\t\\t\\n\\t\\t\\t\\t\\n\\t\\t\\t\\t',\n",
       " <a class=\"report\" href=\"#\" onclick=\"report('aekq****', '6ATzVHfxFBJ4SCjHVPb4GRTLOE7zDm2edo+PYwdKJcU=', '이게 진짜 현대예술이지', '17516944', 'point_after');\" style=\"color:#8F8F8F\" title=\"새 창\">신고</a>,\n",
       " '\\n']"
      ]
     },
     "execution_count": 9,
     "metadata": {},
     "output_type": "execute_result"
    }
   ],
   "source": [
    "list(comment_all[9].children)"
   ]
  },
  {
   "cell_type": "code",
   "execution_count": 10,
   "metadata": {},
   "outputs": [
    {
     "name": "stdout",
     "output_type": "stream",
     "text": [
      "10\n"
     ]
    }
   ],
   "source": [
    "print(len(comment_all))"
   ]
  },
  {
   "cell_type": "code",
   "execution_count": 15,
   "metadata": {},
   "outputs": [
    {
     "name": "stdout",
     "output_type": "stream",
     "text": [
      "<td class=\"title\">\n",
      " <a class=\"movie color_b\" href=\"/movie/bi/mi/basic.nhn?code=171725\">\n",
      "  스파이더맨: 뉴 유니버스\n",
      " </a>\n",
      " <div class=\"list_netizen_score\">\n",
      "  <span class=\"st_off\">\n",
      "   <span class=\"st_on\" style=\"width:100%\">\n",
      "    별점 - 총 10점 중\n",
      "   </span>\n",
      "  </span>\n",
      "  <em>\n",
      "   10\n",
      "  </em>\n",
      " </div>\n",
      " <br/>\n",
      " 이게 진짜 현대예술이지\n",
      " <a class=\"report\" href=\"#\" onclick=\"report('aekq****', '6ATzVHfxFBJ4SCjHVPb4GRTLOE7zDm2edo+PYwdKJcU=', '이게 진짜 현대예술이지', '17516944', 'point_after');\" style=\"color:#8F8F8F\" title=\"새 창\">\n",
      "  신고\n",
      " </a>\n",
      "</td>\n",
      "\n"
     ]
    }
   ],
   "source": [
    "print(comment_all[9].prettify())"
   ]
  },
  {
   "cell_type": "code",
   "execution_count": 17,
   "metadata": {},
   "outputs": [
    {
     "data": {
      "text/plain": [
       "'이게 진짜 현대예술이지 \\n\\t\\t\\t\\n\\t\\t\\t\\n\\t\\t\\t\\n\\t\\t\\t\\t\\n\\t\\t\\t\\t\\n\\t\\t\\t\\t\\n\\t\\t\\t\\t'"
      ]
     },
     "execution_count": 17,
     "metadata": {},
     "output_type": "execute_result"
    }
   ],
   "source": [
    "list(comment_all[9].children)[6]"
   ]
  },
  {
   "cell_type": "code",
   "execution_count": 23,
   "metadata": {},
   "outputs": [
    {
     "data": {
      "text/plain": [
       "'스파이더맨 판권을 소니가 가져야 하는 이유'"
      ]
     },
     "execution_count": 23,
     "metadata": {},
     "output_type": "execute_result"
    }
   ],
   "source": [
    "temp = list(comment_all[5].children)[6].strip()\n",
    "temp"
   ]
  },
  {
   "cell_type": "code",
   "execution_count": 25,
   "metadata": {},
   "outputs": [
    {
     "name": "stdout",
     "output_type": "stream",
     "text": [
      "곤니찌와에서 ㅡ ㅡ ... 재밌다가 식었음 ㅠ\n",
      "이게 예술이 아니면 뭔가요?\n",
      "와 ㄹㅇ 내 인생 영화에 들어갈정도로 재밌음. 특유의 BOOM이라던가 만화같은 연출이랑 팝송같은 음악이 너무 좋았음\n",
      "명대사:헤이\n",
      "진짜 고퀄리티다....\n",
      "스파이더맨 판권을 소니가 가져야 하는 이유\n",
      "갠적으로 영화 2번이상 보고싶은거 없었는데 생겼다. 힘든요즘 힘내게 해준영화 왜 이제봤지?\n",
      "영화도 재밌는데 연출이 일단 개신선하고 무엇보다 ost가 진짜 죽인다 ㅋㅋㅋㅋ\n",
      "영상미 색감 액션 정말 삼박자를 다갖춘 영화에요ㅜㅜㅜ 다채로운 색의 조합이 눈을 즐겁게 만들고 화려한액션은 정말 말할것도 없네요.... 극장에서 못본게 아쉽네요 정말 재밌게 봤습니다 !!\n",
      "이게 진짜 현대예술이지\n"
     ]
    }
   ],
   "source": [
    "comments = []\n",
    "for one in comment_all:\n",
    "    one_com = list(one.children)[6].strip()\n",
    "    print(one_com)\n",
    "    comments.append(one_com)"
   ]
  },
  {
   "cell_type": "code",
   "execution_count": 26,
   "metadata": {},
   "outputs": [
    {
     "data": {
      "text/plain": [
       "['곤니찌와에서 ㅡ ㅡ ... 재밌다가 식었음 ㅠ',\n",
       " '이게 예술이 아니면 뭔가요?',\n",
       " '와 ㄹㅇ 내 인생 영화에 들어갈정도로 재밌음. 특유의 BOOM이라던가 만화같은 연출이랑 팝송같은 음악이 너무 좋았음',\n",
       " '명대사:헤이',\n",
       " '진짜 고퀄리티다....',\n",
       " '스파이더맨 판권을 소니가 가져야 하는 이유',\n",
       " '갠적으로 영화 2번이상 보고싶은거 없었는데 생겼다. 힘든요즘 힘내게 해준영화 왜 이제봤지?',\n",
       " '영화도 재밌는데 연출이 일단 개신선하고 무엇보다 ost가 진짜 죽인다 ㅋㅋㅋㅋ',\n",
       " '영상미 색감 액션 정말 삼박자를 다갖춘 영화에요ㅜㅜㅜ 다채로운 색의 조합이 눈을 즐겁게 만들고 화려한액션은 정말 말할것도 없네요.... 극장에서 못본게 아쉽네요 정말 재밌게 봤습니다 !!',\n",
       " '이게 진짜 현대예술이지']"
      ]
     },
     "execution_count": 26,
     "metadata": {},
     "output_type": "execute_result"
    }
   ],
   "source": [
    "comments"
   ]
  },
  {
   "cell_type": "code",
   "execution_count": 28,
   "metadata": {},
   "outputs": [
    {
     "data": {
      "text/plain": [
       "'https://movie.naver.com/movie/point/af/list.nhn?st=mcode&sword=171725&target=after&page='"
      ]
     },
     "execution_count": 28,
     "metadata": {},
     "output_type": "execute_result"
    }
   ],
   "source": [
    "# 방법1. find('br').next_sibling.strip()\n",
    "basic_url"
   ]
  },
  {
   "cell_type": "code",
   "execution_count": 27,
   "metadata": {},
   "outputs": [],
   "source": [
    "from bs4 import BeautifulSoup\n",
    "from urllib.request import urlopen"
   ]
  },
  {
   "cell_type": "code",
   "execution_count": 30,
   "metadata": {},
   "outputs": [],
   "source": [
    "import time"
   ]
  },
  {
   "cell_type": "code",
   "execution_count": 32,
   "metadata": {},
   "outputs": [
    {
     "name": "stdout",
     "output_type": "stream",
     "text": [
      "70\n"
     ]
    }
   ],
   "source": [
    "comments_allpage = []\n",
    "cnt = 0\n",
    "for i in range(1,8):\n",
    "    url = basic_url + str(i)\n",
    "    page = urlopen(url)\n",
    "    soup = BeautifulSoup(page, 'html.parser')\n",
    "    comment_all = soup.find_all('td', class_='title')\n",
    "    #comments = []\n",
    "    for one in comment_all:\n",
    "        one_com = list(one.children)[6].strip()\n",
    "        #comments.append(one_com)\n",
    "        comments_allpage.append(comments)\n",
    "    time.sleep(3)\n",
    "print(len(comments_allpage))\n",
    "# print(len(comments_allpage))"
   ]
  },
  {
   "cell_type": "code",
   "execution_count": 36,
   "metadata": {},
   "outputs": [],
   "source": [
    "import pandas as pd\n",
    "import os"
   ]
  },
  {
   "cell_type": "code",
   "execution_count": 39,
   "metadata": {},
   "outputs": [
    {
     "data": {
      "text/plain": [
       "['.android',\n",
       " '.AndroidStudio4.0',\n",
       " '.astropy',\n",
       " '.conda',\n",
       " '.condarc',\n",
       " '.emulator_console_auth_token',\n",
       " '.gitconfig',\n",
       " '.gradle',\n",
       " '.ipynb_checkpoints',\n",
       " '.ipython',\n",
       " '.jupyter',\n",
       " '.matplotlib',\n",
       " '10주차 1교시.ipynb',\n",
       " '10주차 2교시.ipynb',\n",
       " '2주차 수업 python',\n",
       " '3D Objects',\n",
       " '4주차 1교시 과제.ipynb',\n",
       " '7주차 1교시 과제.ipynb',\n",
       " 'anaconda3',\n",
       " 'AndroidStudioProjects',\n",
       " 'AppData',\n",
       " 'Application Data',\n",
       " 'Autodesk',\n",
       " 'Contacts',\n",
       " 'Cookies',\n",
       " 'date',\n",
       " 'Documents',\n",
       " 'Downloads',\n",
       " 'Favorites',\n",
       " 'gender_submission.csv',\n",
       " 'IntelGraphicsProfiles',\n",
       " 'KCase.log',\n",
       " 'Links',\n",
       " 'Local Settings',\n",
       " 'MicrosoftEdgeBackups',\n",
       " 'Music',\n",
       " 'My Documents',\n",
       " 'NetHood',\n",
       " 'NTUSER.DAT',\n",
       " 'ntuser.dat.LOG1',\n",
       " 'ntuser.dat.LOG2',\n",
       " 'NTUSER.DAT{11e07401-8fe7-11eb-818e-b5737ee63496}.TM.blf',\n",
       " 'NTUSER.DAT{11e07401-8fe7-11eb-818e-b5737ee63496}.TMContainer00000000000000000001.regtrans-ms',\n",
       " 'NTUSER.DAT{11e07401-8fe7-11eb-818e-b5737ee63496}.TMContainer00000000000000000002.regtrans-ms',\n",
       " 'ntuser.ini',\n",
       " 'OneDrive',\n",
       " 'Pandas_bcu.ipynb',\n",
       " 'PrintHood',\n",
       " 'PycharmProjects',\n",
       " 'Recent',\n",
       " 'report.xlsx',\n",
       " 'result',\n",
       " 'Saved Games',\n",
       " 'seaborn-data',\n",
       " 'Searches',\n",
       " 'SendTo',\n",
       " 'Templates',\n",
       " 'test.csv',\n",
       " 'toy.xlsx',\n",
       " 'train.csv',\n",
       " 'Untitled.ipynb',\n",
       " 'Untitled1.ipynb',\n",
       " 'Untitled2.ipynb',\n",
       " 'Untitled3.ipynb',\n",
       " 'Untitled4.ipynb',\n",
       " 'Videos',\n",
       " '멋사_0614.ipynb',\n",
       " '멋사_20210616.ipynb',\n",
       " '멋사_20210617.ipynb',\n",
       " '멋쟁이사자처럼 1.ipynb',\n",
       " '스파이더맨리뷰.csv',\n",
       " '시작 메뉴',\n",
       " '퓨처스킬.ipynb',\n",
       " '회사명과 웹사이트.csv',\n",
       " '회사명과 웹사이트.xlsx']"
      ]
     },
     "execution_count": 39,
     "metadata": {},
     "output_type": "execute_result"
    }
   ],
   "source": [
    "dict_doc = {'text': comments_allpage}\n",
    "doc = pd.DataFrame(dict_doc)\n",
    "doc.to_csv(\"스파이더맨리뷰.csv\", index = False)\n",
    "\n",
    "os.listdir(os.getcwd())"
   ]
  },
  {
   "cell_type": "code",
   "execution_count": 44,
   "metadata": {},
   "outputs": [],
   "source": [
    "from wordcloud import WordCloud\n",
    "\n",
    "import numpy as np\n",
    "from PIL import Image"
   ]
  },
  {
   "cell_type": "code",
   "execution_count": 48,
   "metadata": {},
   "outputs": [],
   "source": [
    "f = open(\"스파이더맨리뷰.csv\", encoding = 'utf-8')\n",
    "text = f.read()\n",
    "f.close()"
   ]
  },
  {
   "cell_type": "code",
   "execution_count": 49,
   "metadata": {},
   "outputs": [],
   "source": [
    "from matplotlib import rc\n",
    "rc('font', family = 'NanumGothic')"
   ]
  },
  {
   "cell_type": "code",
   "execution_count": 51,
   "metadata": {},
   "outputs": [
    {
     "ename": "SyntaxError",
     "evalue": "invalid syntax (<ipython-input-51-ef7b3312f651>, line 3)",
     "output_type": "error",
     "traceback": [
      "\u001b[1;36m  File \u001b[1;32m\"<ipython-input-51-ef7b3312f651>\"\u001b[1;36m, line \u001b[1;32m3\u001b[0m\n\u001b[1;33m    wcloud = WordCloud('./data/D2Coding.ttf'.max_words=1000, relative_scaling =).generate(text)\u001b[0m\n\u001b[1;37m                                                                               ^\u001b[0m\n\u001b[1;31mSyntaxError\u001b[0m\u001b[1;31m:\u001b[0m invalid syntax\n"
     ]
    }
   ],
   "source": [
    "%matplotlib inine\n",
    "from wordcloud import WordCloud\n",
    "wcloud = WordCloud('./data/D2Coding.ttf'.max_words=1000, relative_scaling =).generate(text)\n",
    "\n",
    "import matplotlib.pyplot as plt\n",
    "plt.figure(figsize=(12,12))\n",
    "plt.imshow(wcloud, interpolation=\"bilinear\")\n",
    "plt.axis(\"off\")"
   ]
  },
  {
   "cell_type": "code",
   "execution_count": 1,
   "metadata": {},
   "outputs": [
    {
     "data": {
      "text/plain": [
       "(-0.5, 399.5, 199.5, -0.5)"
      ]
     },
     "execution_count": 1,
     "metadata": {},
     "output_type": "execute_result"
    },
    {
     "data": {
      "image/png": "[encoded data removed]",
      "text/plain": [
       "<Figure size 864x864 with 1 Axes>"
      ]
     },
     "metadata": {
      "needs_background": "light"
     },
     "output_type": "display_data"
    }
   ],
   "source": [
    "from wordcloud import WordCloud\n",
    "import numpy as np\n",
    "from PIL import Image\n",
    "f = open(\"스파이더맨리뷰.csv\", encoding='utf-8')\n",
    "text = f.read()\n",
    "f.close()\n",
    "from matplotlib import rc\n",
    "rc('font', family='NanumGothic')\n",
    "wcloud = WordCloud('./data/D2Coding.ttf',\n",
    "                   max_words=1000,\n",
    "                   relative_scaling = 0.5).generate(text)\n",
    "import matplotlib.pyplot as plt\n",
    "plt.figure(figsize=(12,12))\n",
    "plt.imshow(wcloud, interpolation='bilinear')\n",
    "plt.axis(\"off\")"
   ]
  },
  {
   "cell_type": "markdown",
   "metadata": {},
   "source": [
    "### 네이버 영화 정보 가져오기"
   ]
  },
  {
   "cell_type": "code",
   "execution_count": 2,
   "metadata": {},
   "outputs": [],
   "source": [
    "from bs4 import BeautifulSoup\n",
    "from urllib.request import urlopen"
   ]
  },
  {
   "cell_type": "code",
   "execution_count": 4,
   "metadata": {},
   "outputs": [],
   "source": [
    "url = \"https://movie.naver.com/movie/running/current.nhn\"\n",
    "page = urlopen(url)\n",
    "soup = BeautifulSoup(page,\"lxml\")"
   ]
  },
  {
   "cell_type": "markdown",
   "metadata": {},
   "source": [
    "### 01. 제목 가져오기"
   ]
  },
  {
   "cell_type": "code",
   "execution_count": 43,
   "metadata": {},
   "outputs": [
    {
     "data": {
      "text/plain": [
       "'크루엘라'"
      ]
     },
     "execution_count": 43,
     "metadata": {},
     "output_type": "execute_result"
    }
   ],
   "source": [
    "list1 = soup.find_all('dt', class_ = \"tit\")\n",
    "list1[0].find(\"a\").text"
   ]
  },
  {
   "cell_type": "code",
   "execution_count": 44,
   "metadata": {},
   "outputs": [
    {
     "data": {
      "text/plain": [
       "['크루엘라',\n",
       " '콰이어트 플레이스 2',\n",
       " '루카',\n",
       " '극장판 귀멸의 칼날: 무한열차편',\n",
       " '여고괴담 여섯번째 이야기 : 모교',\n",
       " '컨저링 3: 악마가 시켰다',\n",
       " '캐시트럭',\n",
       " '분노의 질주: 더 얼티메이트',\n",
       " '뱅드림! 로젤리아 에피소드Ⅰ: 약속',\n",
       " '파이프라인',\n",
       " '아야와 마녀',\n",
       " '클라이밍',\n",
       " '그 여름, 가장 차가웠던',\n",
       " '그레타 툰베리',\n",
       " '야구소녀',\n",
       " '노매드랜드',\n",
       " '프로페서 앤 매드맨',\n",
       " '혼자 사는 사람들',\n",
       " '애플',\n",
       " '500일의 썸머',\n",
       " '낫아웃',\n",
       " '썰',\n",
       " '굴뚝마을의 푸펠',\n",
       " '까치발',\n",
       " '인트로덕션',\n",
       " '레이니 데이 인 뉴욕',\n",
       " '더 파더',\n",
       " '#위왓치유',\n",
       " '포겟 미 낫-엄마에게 쓰는 편지',\n",
       " '중경삼림',\n",
       " '사랑하고 사랑받고 차고 차이고',\n",
       " '크루즈 패밀리: 뉴 에이지',\n",
       " '극장판 콩순이: 장난감나라 대모험',\n",
       " '학교 가는 길',\n",
       " '너의 이름은.',\n",
       " '라이더스 오브 저스티스',\n",
       " '청춘 선거',\n",
       " '미나리',\n",
       " '화양연화',\n",
       " '강변호텔',\n",
       " '화이트 온 화이트',\n",
       " '폭력의 그림자',\n",
       " '쿠사마 야요이: 무한의 세계',\n",
       " '도라에몽: 스탠바이미 2',\n",
       " '토토리! 우리 둘만의 여름',\n",
       " '명탐정 코난: 비색의 탄환',\n",
       " '내겐 너무 소중한 너',\n",
       " '강호아녀',\n",
       " '플래시백',\n",
       " '빅 피쉬',\n",
       " '마세티 킬즈',\n",
       " '실크 로드',\n",
       " '분노의 질주',\n",
       " '미스피츠',\n",
       " '스쿨 오브 락(樂)',\n",
       " '부활: 그 증거',\n",
       " '분노',\n",
       " '비커밍 아스트리드',\n",
       " '쿠오바디스, 아이다',\n",
       " '흐린 하늘에 웃다',\n",
       " '그을린 사랑',\n",
       " '노 게임 노 라이프 -제로-',\n",
       " '봉쇄수도원 카르투시오',\n",
       " '블루 재스민',\n",
       " '서칭 포 슈가맨',\n",
       " '소리에 놀라지 않는 사자처럼',\n",
       " '아들의 이름으로',\n",
       " '어른들은 몰라요',\n",
       " '억남',\n",
       " '가을 햇살',\n",
       " '간츠: 오',\n",
       " '구름의 저편, 약속의 장소',\n",
       " '그 여름 가장 조용한 바다',\n",
       " '그리고 삶은 계속된다',\n",
       " '꽁치의 맛',\n",
       " '나만 없어 고양이',\n",
       " '나츠메 우인장: 세상과 연을 맺다',\n",
       " '날씨의 아이',\n",
       " '날으는 해병대',\n",
       " '내 친구의 집은 어디인가',\n",
       " '내언니전지현과 나',\n",
       " '네가 내가 되었으면 좋겠다',\n",
       " '덕구',\n",
       " '도망친 여자',\n",
       " '동경의 황혼',\n",
       " '라스트 씬',\n",
       " '러브 라이브! 선샤인!! 더 스쿨 아이돌 무비 오버 더 레인보우',\n",
       " '러브 액츄얼리',\n",
       " '마스터',\n",
       " '막다른 골목의 추억',\n",
       " '무순, 세상을 가로질러',\n",
       " '문라이즈 킹덤',\n",
       " '미스터 노바디',\n",
       " '바람이 우리를 데려다 주리라',\n",
       " '버티고',\n",
       " '벙어리 삼룡',\n",
       " '별을 쫓는 아이',\n",
       " '소공녀',\n",
       " '슈퍼노바',\n",
       " '언어의 정원',\n",
       " '엔딩 노트',\n",
       " '여름날',\n",
       " '여호',\n",
       " '원더풀 라이프',\n",
       " '유스',\n",
       " '유전',\n",
       " '은혼',\n",
       " '은혼2: 규칙은 깨라고 있는 것',\n",
       " '이별의 아침에 약속의 꽃을 장식하자',\n",
       " '인디언 전사',\n",
       " '전야',\n",
       " '전주에서 길을 묻다',\n",
       " '좋은 빛, 좋은 공기',\n",
       " '쥴 앤 짐',\n",
       " '찬실이는 복도 많지',\n",
       " '창문넘어 도망친 100세 노인',\n",
       " '천당의 밤과 안개',\n",
       " '체리 향기',\n",
       " '초여름',\n",
       " '타오르는 여인의 초상',\n",
       " '파도를 걷는 소년',\n",
       " '패터슨',\n",
       " '페이트 스테이 나이트 헤븐즈필 제1장 프레시지 플라워',\n",
       " '플로리다 프로젝트',\n",
       " '해피 투게더',\n",
       " '혼자',\n",
       " '화녀',\n",
       " '로슈포르의 숙녀들',\n",
       " '미스 사이공: 25주년 특별 공연',\n",
       " '바그다드 카페 : 디렉터스컷',\n",
       " '쉘부르의 우산',\n",
       " '신 테니스의 왕자 효테이 vs 릿카이 : 게임 오브 퓨처 후편',\n",
       " '오버드라이브']"
      ]
     },
     "execution_count": 44,
     "metadata": {},
     "output_type": "execute_result"
    }
   ],
   "source": [
    "movie_title = []\n",
    "for one in list1 :\n",
    "    one_movie = one.find(\"a\").text\n",
    "    movie_title.append(one_movie)\n",
    "movie_title"
   ]
  },
  {
   "cell_type": "code",
   "execution_count": 30,
   "metadata": {},
   "outputs": [
    {
     "data": {
      "text/plain": [
       "'9.33'"
      ]
     },
     "execution_count": 30,
     "metadata": {},
     "output_type": "execute_result"
    }
   ],
   "source": [
    "list2 = soup.find_all('span', class_=\"num\")\n",
    "list2[0].text"
   ]
  },
  {
   "cell_type": "code",
   "execution_count": 60,
   "metadata": {},
   "outputs": [
    {
     "data": {
      "text/plain": [
       "'참여 4,582명'"
      ]
     },
     "execution_count": 60,
     "metadata": {},
     "output_type": "execute_result"
    }
   ],
   "source": [
    "list3 = soup.find_all('span', class_=\"num2\")\n",
    "list3[0].text"
   ]
  },
  {
   "cell_type": "code",
   "execution_count": 15,
   "metadata": {},
   "outputs": [
    {
     "data": {
      "text/plain": [
       "'19.64%'"
      ]
     },
     "execution_count": 15,
     "metadata": {},
     "output_type": "execute_result"
    }
   ],
   "source": [
    "list4 = soup.find_all('div', class_= 'star_t1 b_star')\n",
    "list4[0].text.strip()"
   ]
  },
  {
   "cell_type": "markdown",
   "metadata": {},
   "source": [
    "### 리뷰"
   ]
  },
  {
   "cell_type": "code",
   "execution_count": 1,
   "metadata": {},
   "outputs": [],
   "source": [
    "from bs4 import BeautifulSoup\n",
    "from urllib.request import urlopen\n",
    "url = \"https://movie.naver.com/movie/running/current.nhn\"\n",
    "page = urlopen(url)\n",
    "soup = BeautifulSoup(page, 'lxml')"
   ]
  },
  {
   "cell_type": "markdown",
   "metadata": {},
   "source": [
    "### 갯수"
   ]
  },
  {
   "cell_type": "code",
   "execution_count": 2,
   "metadata": {},
   "outputs": [
    {
     "data": {
      "text/plain": [
       "130"
      ]
     },
     "execution_count": 2,
     "metadata": {},
     "output_type": "execute_result"
    }
   ],
   "source": [
    "soup_ul_li = soup.find(\"ul\", class_=\"lst_detail_t1\").find_all(\"li\")\n",
    "len(soup_ul_li)"
   ]
  },
  {
   "cell_type": "markdown",
   "metadata": {},
   "source": [
    "### 제목"
   ]
  },
  {
   "cell_type": "code",
   "execution_count": 5,
   "metadata": {},
   "outputs": [
    {
     "data": {
      "text/plain": [
       "'오버드라이브'"
      ]
     },
     "execution_count": 5,
     "metadata": {},
     "output_type": "execute_result"
    }
   ],
   "source": [
    "soup_ul_li[129].find('dt', class_='tit').a.text"
   ]
  },
  {
   "cell_type": "markdown",
   "metadata": {},
   "source": [
    "### 평점"
   ]
  },
  {
   "cell_type": "code",
   "execution_count": 13,
   "metadata": {},
   "outputs": [
    {
     "data": {
      "text/plain": [
       "'9.06'"
      ]
     },
     "execution_count": 13,
     "metadata": {},
     "output_type": "execute_result"
    }
   ],
   "source": [
    "soup_ul_li[126].find('span', class_='num').text"
   ]
  },
  {
   "cell_type": "markdown",
   "metadata": {},
   "source": [
    "### 참여인원"
   ]
  },
  {
   "cell_type": "code",
   "execution_count": 18,
   "metadata": {},
   "outputs": [
    {
     "data": {
      "text/plain": [
       "'4,634'"
      ]
     },
     "execution_count": 18,
     "metadata": {},
     "output_type": "execute_result"
    }
   ],
   "source": [
    "soup_ul_li[0].find(\"em\").text"
   ]
  },
  {
   "cell_type": "markdown",
   "metadata": {},
   "source": [
    "### 예매율"
   ]
  },
  {
   "cell_type": "code",
   "execution_count": 17,
   "metadata": {},
   "outputs": [
    {
     "data": {
      "text/plain": [
       "'7.27'"
      ]
     },
     "execution_count": 17,
     "metadata": {},
     "output_type": "execute_result"
    }
   ],
   "source": [
    "soup_ul_li[3].find(\"dl\", class_=\"info_exp\").span.text"
   ]
  },
  {
   "cell_type": "markdown",
   "metadata": {},
   "source": [
    "### 감독"
   ]
  },
  {
   "cell_type": "code",
   "execution_count": 33,
   "metadata": {},
   "outputs": [
    {
     "data": {
      "text/plain": [
       "'크레이그 질레스피'"
      ]
     },
     "execution_count": 33,
     "metadata": {},
     "output_type": "execute_result"
    }
   ],
   "source": [
    "soup_ul_li[0].find('dl', class_=\"info_txt1\").find_all('dd')[1].text.strip()"
   ]
  },
  {
   "cell_type": "markdown",
   "metadata": {},
   "source": [
    "### 리스트가 없을때 길이를 맞춰줘야한다 if문으로"
   ]
  },
  {
   "cell_type": "code",
   "execution_count": 36,
   "metadata": {},
   "outputs": [
    {
     "name": "stdout",
     "output_type": "stream",
     "text": [
      "['크루엘라', '콰이어트 플레이스 2', '루카', '컨저링 3: 악마가 시켰다', '극장판 귀멸의 칼날: 무한열차편', '여고괴담 여섯번째 이야기 : 모교', '캐시트럭', '분노의 질주: 더 얼티메이트', '뱅드림! 로젤리아 에피소드Ⅰ: 약속', '파이프라인', '아야와 마녀', '클라이밍', '그레타 툰베리', '그 여름, 가장 차가웠던', '노매드랜드', '야구소녀', '프로페서 앤 매드맨', '혼자 사는 사람들', '굴뚝마을의 푸펠', '애플', '500일의 썸머', '낫아웃', '썰', '인트로덕션', '레이니 데이 인 뉴욕', '까치발', '더 파더', '#위왓치유', '청춘 선거', '중경삼림', '극장판 콩순이: 장난감나라 대모험', '너의 이름은.', '포겟 미 낫-엄마에게 쓰는 편지', '사랑하고 사랑받고 차고 차이고', '크루즈 패밀리: 뉴 에이지', '학교 가는 길', '라이더스 오브 저스티스', '미나리', '화양연화', '명탐정 코난: 비색의 탄환', '강변호텔', '화이트 온 화이트', '도라에몽: 스탠바이미 2', '폭력의 그림자', '쿠사마 야요이: 무한의 세계', '날씨의 아이', '토토리! 우리 둘만의 여름', '언어의 정원', '어른들은 몰라요', '내겐 너무 소중한 너', '강호아녀', '마세티 킬즈', '빅 피쉬', '플래시백', '분노의 질주', '미스피츠', '스쿨 오브 락(樂)', '부활: 그 증거', '분노', '비커밍 아스트리드', '쿠오바디스, 아이다', '흐린 하늘에 웃다', '그을린 사랑', '노 게임 노 라이프 -제로-', '봉쇄수도원 카르투시오', '블루 재스민', '서칭 포 슈가맨', '아들의 이름으로', '억남', '가을 햇살', '간츠: 오', '구름의 저편, 약속의 장소', '그 여름 가장 조용한 바다', '그리고 삶은 계속된다', '꽁치의 맛', '나츠메 우인장: 세상과 연을 맺다', '날으는 해병대', '내 친구의 집은 어디인가', '내언니전지현과 나', '네가 내가 되었으면 좋겠다', '덕구', '도망친 여자', '동경의 황혼', '라스트 씬', '러브 라이브! 선샤인!! 더 스쿨 아이돌 무비 오버 더 레인보우', '러브 액츄얼리', '마스터', '무순, 세상을 가로질러', '문라이즈 킹덤', '미스터 노바디', '바람이 우리를 데려다 주리라', '버티고', '벙어리 삼룡', '별을 쫓는 아이', '소공녀', '소리에 놀라지 않는 사자처럼', '슈퍼노바', '실크 로드', '엔딩 노트', '여름날', '여호', '원더풀 라이프', '유스', '유전', '은혼', '은혼2: 규칙은 깨라고 있는 것', '이별의 아침에 약속의 꽃을 장식하자', '인디언 전사', '전야', '전주에서 길을 묻다', '좋은 빛, 좋은 공기', '찬실이는 복도 많지', '창문넘어 도망친 100세 노인', '천당의 밤과 안개', '체리 향기', '초여름', '타오르는 여인의 초상', '파도를 걷는 소년', '패터슨', '페이트 스테이 나이트 헤븐즈필 제1장 프레시지 플라워', '플로리다 프로젝트', '해피 투게더', '혼자', '화녀', '로슈포르의 숙녀들', '미스 사이공: 25주년 특별 공연', '바그다드 카페 : 디렉터스컷', '쉘부르의 우산', '신 테니스의 왕자 효테이 vs 릿카이 : 게임 오브 퓨처 후편', '오버드라이브']\n",
      "['9.33', '8.56', '9.17', '6.69', '9.29', '4.95', '8.21', '7.64', '8.55', '7.06', '7.39', '7.06', '4.00', '8.50', '8.48', '8.13', '8.99', '8.77', '9.05', '7.85', '8.43', '8.75', '6.91', '8.00', '5.63', '8.86', '8.91', '9.05', '9.60', '8.93', '8.94', '8.79', '9.25', '8.56', '9.03', '9.59', '7.64', '7.67', '8.77', '8.93', '5.98', '7.54', '9.01', '0.00', '9.24', '7.95', '8.37', '8.17', '5.03', '9.04', '6.11', '6.80', '9.02', '6.00', '8.27', '3.58', '8.36', '9.30', '8.57', '7.60', '8.74', '1.00', '8.68', '7.26', '9.34', '8.51', '9.04', '6.48', '7.25', '7.61', '8.19', '6.93', '8.76', '8.39', '8.71', '9.27', '0.00', '9.12', '9.15', '7.76', '9.43', '6.79', '8.29', '7.11', '8.35', '8.93', '7.95', '8.40', '8.13', '8.25', '8.12', '6.27', '6.40', '7.92', '8.79', '9.17', '7.79', '8.06', '8.93', '8.89', '7.00', '8.01', '8.34', '7.23', '7.19', '8.35', '8.88', '5.00', '7.78', '8.00', '7.35', '8.76', '7.84', '8.08', '8.75', '7.88', '9.05', '6.97', '8.30', '7.11', '8.65', '9.20', '5.01', '8.25', '8.53', '9.21', '9.06', '8.78', '7.00', '5.35']\n",
      "['4,634', '412', '88', '1,780', '12,386', '149', '553', '5,414', '47', '1,340', '135', '17', '10', '8', '567', '906', '87', '156', '113', '47', '4,502', '132', '55', '63', '696', '7', '331', '20', '5', '2,556', '159', '32,699', '8', '34', '426', '133', '108', '5,077', '1,874', '841', '406', '13', '234', '0', '17', '5,956', '19', '2,469', '890', '163', '19', '245', '3,134', '26', '566', '24', '11', '418', '1,295', '15', '23', '1', '984', '3,170', '74', '933', '801', '322', '4', '23', '472', '107', '248', '33', '86', '229', '0', '153', '179', '21', '2,638', '290', '17', '9', '344', '5,786', '669', '10', '657', '819', '24', '349', '5', '1,407', '2,824', '6', '48', '17', '177', '19', '1', '352', '1,006', '3,303', '486', '197', '1,387', '1', '87', '9', '48', '1,003', '1,832', '12', '142', '17', '1,787', '37', '1,208', '829', '1,805', '1,161', '99', '56', '19', '277', '929', '257', '2', '71']\n",
      "['19.64', '16.63', '16.15', '7.27', '6.8', '6.4', '5.52', '3.38', '1.74', '1.55', '1.28', '1.26', '0.95', '0.76', '0.44', '0.42', '0.4', '0.36', '0.25', '0.23', '0.21', '0.21', '0.21', '0.19', '0.17', '0.15', '0.15', '0.13', '0.13', '0.11', '0.11', '0.11', '0.1', '0.1', '0.08', '0.08', '0.08', '0.06', '0.06', '0.06', '0.04', '0.04', '0.04', '0.04', '0.04', '0.04', '0.04', '0.02', '0.02', '0.02', '0.02', '0.02', '0.02', '0.02', '0.01', '0.01', '0.01', '0.01', '0.01', '0.01', '0.01', '0.01', '0.01', '0.01', '0.01', '0.01', '0.01', '0.01', '0.01', '0.01', '0.01', '0.01', '0.01', '0.01', '0.01', '0.01', '0.01', '0.01', '0.01', '0.01', '0.01', '0.01', '0.01', '0.01', '0.01', '0.01', '0.01', '0.01', '0.01', '0.01', '0.01', '0.01', '0.01', '0.01', '0.01', '0.01', '0.01', '0.01', '0.01', '0.01', '0.01', '0.01', '0.01', '0.01', '0.01', '0.01', '0.01', '0.01', '0.01', '0.01', '0.01', '0.01', '0.01', '0.01', '0.01', '0.01', '0.01', '0.01', '0.01', '0.01', '0.01', '0.01', '0.01', '0.01', '0', '0', '0', '0', '0', '0']\n",
      "['크레이그 질레스피', '존 크래신스키', '엔리코 카사로사', '마이클 차베즈', '소토자키 하루오', '이미영', '가이 리치', '저스틴 린', '코다이 카키모토', '유하', '미야자키 고로', '김혜미', '나탄 그로스만', '주순', '클로이 자오', '최윤태', 'P.B. 셰므란', '홍성은', '히로타 유스케', '크리스토스 니코우', '마크 웹', '이정곤', '황승재', '홍상수', '우디 앨런', '권우정', '플로리안 젤러', '바르보라 차르포바, 비트 클루삭', '민환기', '왕가위', '이선명', '신카이 마코토', '선희 엥겔스토프', '미키 타카히로', '조엘 크로포드', '김정인', '앤더스 토마스 옌센', '정이삭', '왕가위', '나가오카 치카', '홍상수', '테오 코트', '야기 류이치, 야마자키 다카시', '닉 로우랜드', '헤더 렌즈', '신카이 마코토', '아릴드 오스틴 아문센, 실리에 살로몬센', '신카이 마코토', '이환', '이창원, 권성모', '지아장커', '로버트 로드리게즈', '팀 버튼', '크리스토퍼 맥브라이드', '롭 코헨', '레니 할린', '강호준', '김상철', '이상일', '페르닐레 피셔 크리스텐센', '야스밀라 즈바니치', '모토히로 카츠유키', '드니 빌뇌브', '이시즈카 아츠코', '김동일', '우디 앨런', '말릭 벤젤룰', '이정국', '오오토모 케이시', '오즈 야스지로', '사이토 케이이치, 야스시  가와무라', '신카이 마코토', '기타노 다케시', '압바스 키아로스타미', '오즈 야스지로', '오오모리 타카히로, 이토 히데키', '니콜라스 레이', '압바스 키아로스타미', '박윤진', '김충길', '방수인', '홍상수', '오즈 야스지로', '박배일', '사카이 카즈오', '리차드 커티스', '폴 토마스 앤더슨', '남승석', '웨스 앤더슨', '자코 반 도마엘', '압바스 키아로스타미', '전계수', '나운규', '신카이 마코토', '전고운', '윤성준', '해리 맥퀸', '틸러 러셀', '마미 스나다', '오정석', '마이클 포웰, 에머릭 프레스버거', '고레에다 히로카즈', '파올로 소렌티노', '아리 에스터', '후쿠다 유이치', '후쿠다 유이치', '오카다 마리', '안드레 드 토스', '김상민', '진승현', '임흥순', '김초희', '플렉스 할그렌', '정성일', '압바스 키아로스타미', '오즈 야스지로', '셀린 시아마', '최창환', '짐 자무쉬', '스도 토모노리', '션 베이커', '왕가위', '박홍민', '김기영', '자크 데미', '브렛 설리반', '퍼시 애들론', '자크 데미', '카와구치 케이이치로', '안토니오 니그렛']\n"
     ]
    }
   ],
   "source": [
    "soup_ul_li = soup.find(\"ul\", class_=\"lst_detail_t1\").find_all(\"li\")\n",
    "\n",
    "all_title = []\n",
    "all_score = []\n",
    "all_people = []\n",
    "all_rate = []\n",
    "all_director = []\n",
    "\n",
    "for one in soup_ul_li:\n",
    "    one_title = one.find('dt', class_='tit').a.text #제목\n",
    "    one_score = one.find('span', class_='num').text #평점\n",
    "    one_people = one.find(\"em\").text                #참여 인원\n",
    "    \n",
    "    tmp_rate = one.find(\"dl\", class_=\"info_exp\")\n",
    "    if tmp_rate is not None:\n",
    "        one_rate = one.find(\"dl\", class_=\"info_exp\").span.text\n",
    "    else:\n",
    "        one_rate = '0'\n",
    "    \n",
    "    #감독\n",
    "    one_director = one.find('dl', class_=\"info_txt1\").find_all('dd')[1].text\n",
    "    one_director = one_director.translate(  { ord('\\n'):\"\", ord('\\r'):\"\", ord('\\t'):\"\"} )\n",
    "    \n",
    "    all_title.append(one_title)\n",
    "    all_score.append(one_score)\n",
    "    all_people.append(one_people)\n",
    "    all_rate.append(one_rate)\n",
    "    all_director.append(one_director)\n",
    "    \n",
    "print(all_title), len(all_score), len(all_people), len(all_rate), len(all_director)\n",
    "print(all_score)\n",
    "print(all_people)\n",
    "print(all_rate)\n",
    "print(all_director)"
   ]
  }
 ],
 "metadata": {
  "kernelspec": {
   "display_name": "Python 3",
   "language": "python",
   "name": "python3"
  },
  "language_info": {
   "codemirror_mode": {
    "name": "ipython",
    "version": 3
   },
   "file_extension": ".py",
   "mimetype": "text/x-python",
   "name": "python",
   "nbconvert_exporter": "python",
   "pygments_lexer": "ipython3",
   "version": "3.8.5"
  }
 },
 "nbformat": 4,
 "nbformat_minor": 4
}
